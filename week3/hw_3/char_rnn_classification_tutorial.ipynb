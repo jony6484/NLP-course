{
 "cells": [
  {
   "cell_type": "markdown",
   "metadata": {
    "pycharm": {
     "name": "#%% md\n"
    }
   },
   "source": [
    "# Web Scrapping names"
   ]
  },
  {
   "cell_type": "code",
   "execution_count": 2,
   "metadata": {
    "collapsed": false,
    "jupyter": {
     "outputs_hidden": false
    },
    "pycharm": {
     "name": "#%%\n"
    }
   },
   "outputs": [],
   "source": [
    "# Imports\n",
    "import requests\n",
    "import numpy as np\n",
    "import pandas as pd\n",
    "from bs4 import BeautifulSoup\n",
    "import matplotlib.pyplot as plt"
   ]
  },
  {
   "cell_type": "code",
   "execution_count": 4,
   "metadata": {
    "executionInfo": {
     "elapsed": 366,
     "status": "ok",
     "timestamp": 1656361031569,
     "user": {
      "displayName": "Eilam Shapira",
      "userId": "12754911597032595721"
     },
     "user_tz": -180
    },
    "id": "iw9HlVXvQhFM",
    "pycharm": {
     "name": "#%%\n"
    }
   },
   "outputs": [
    {
     "name": "stdout",
     "output_type": "stream",
     "text": [
      "gender: unisex, letter = ת\r"
     ]
    }
   ],
   "source": [
    "base_url = 'https://babynames.baby-land.co.il/namelist/?_sft_name_gender='\n",
    "base_letter_url = \"&_sft_name_letter=\"\n",
    "first_letter = \"אבגדהוזחטיכלמנסעפצקרשת\"\n",
    "gender_url = ['boy', 'girl', 'unisex']\n",
    "boys = []\n",
    "girls = []\n",
    "unisex = []\n",
    "for gender in gender_url:\n",
    "    for letter in first_letter:\n",
    "        print(f'gender: {gender}, letter = {letter}', end='\\r')\n",
    "        url = base_url + gender + base_letter_url + letter\n",
    "        names_response = requests.get(url)\n",
    "        names_soup = BeautifulSoup(names_response.text, 'html.parser')\n",
    "        boys += [name.text for name in names_soup.find_all('a', {'class': 'boys'})]\n",
    "        girls += [name.text for name in names_soup.find_all('a', {'class': 'girl'})]\n",
    "        unisex += [name.text for name in names_soup.find_all('a', {'class': 'unisex'})]\n",
    "C = set(boys)\n",
    "girls = set(girls)\n",
    "unisex = set(unisex)"
   ]
  },
  {
   "cell_type": "code",
   "execution_count": 38,
   "metadata": {
    "collapsed": false,
    "jupyter": {
     "outputs_hidden": false
    },
    "pycharm": {
     "name": "#%%\n"
    }
   },
   "outputs": [],
   "source": [
    "with open('./names/boys.txt', 'w', encoding='utf-8') as f:\n",
    "    f.write(\"\\n\".join(boys))\n",
    "with open('./names/girls.txt', 'w', encoding='utf-8') as f:\n",
    "    f.write(\"\\n\".join(girls))\n",
    "with open('./names/unisex.txt', 'w', encoding='utf-8') as f:\n",
    "    f.write(\"\\n\".join(unisex))"
   ]
  },
  {
   "cell_type": "code",
   "execution_count": 56,
   "metadata": {
    "colab": {
     "base_uri": "https://localhost:8080/"
    },
    "executionInfo": {
     "elapsed": 270,
     "status": "ok",
     "timestamp": 1656361057998,
     "user": {
      "displayName": "Eilam Shapira",
      "userId": "12754911597032595721"
     },
     "user_tz": -180
    },
    "id": "R6W8ur0RQhFO",
    "outputId": "44b54aec-ae60-4a4b-ed51-7b7f8b70a172",
    "pycharm": {
     "name": "#%%\n"
    }
   },
   "outputs": [
    {
     "name": "stdout",
     "output_type": "stream",
     "text": [
      "['names/unisex.txt', 'names/boys.txt', 'names/girls.txt']\n",
      "\n"
     ]
    }
   ],
   "source": [
    "from __future__ import unicode_literals, print_function, division\n",
    "from io import open\n",
    "import glob\n",
    "import os\n",
    "\n",
    "def findFiles(path): return glob.glob(path)\n",
    "\n",
    "print(findFiles('names/*.txt'))\n",
    "\n",
    "import unicodedata\n",
    "import string\n",
    "last_letter = 'ךםןףץ'\n",
    "all_letters = first_letter + last_letter + \" .,;'- \"\n",
    "\n",
    "n_letters = len(all_letters)\n",
    "\n",
    "# Turn a Unicode string to plain ASCII, thanks to https://stackoverflow.com/a/518232/2809427\n",
    "def unicodeToAscii(s):\n",
    "    return ''.join(\n",
    "        c for c in unicodedata.normalize('NFD', s)\n",
    "        if unicodedata.category(c) != 'Mn'\n",
    "        and c in all_letters\n",
    "    )\n",
    "\n",
    "print(unicodeToAscii('Ślusàrski'))\n",
    "\n",
    "# Build the category_lines dictionary, a list of names per language\n",
    "category_lines = {}\n",
    "all_categories = []\n",
    "\n",
    "# Read a file and split into lines\n",
    "def readLines(filename):\n",
    "    lines = open(filename, encoding='utf-8').read().strip().split('\\n')\n",
    "    # return [unicodeToAscii(line) for line in lines]\n",
    "    return lines\n",
    "\n",
    "for filename in findFiles('names/*.txt'):\n",
    "    category = os.path.splitext(os.path.basename(filename))[0]\n",
    "    all_categories.append(category)\n",
    "    lines = readLines(filename)\n",
    "    category_lines[category] = lines\n",
    "\n",
    "n_categories = len(all_categories)"
   ]
  },
  {
   "cell_type": "code",
   "execution_count": 57,
   "metadata": {
    "colab": {
     "base_uri": "https://localhost:8080/"
    },
    "executionInfo": {
     "elapsed": 286,
     "status": "ok",
     "timestamp": 1656361062882,
     "user": {
      "displayName": "Eilam Shapira",
      "userId": "12754911597032595721"
     },
     "user_tz": -180
    },
    "id": "1OGPHaDoQhFP",
    "outputId": "e17aad2c-62cb-4b72-ef98-c53b87de9128",
    "pycharm": {
     "name": "#%%\n"
    }
   },
   "outputs": [
    {
     "name": "stdout",
     "output_type": "stream",
     "text": [
      "['נצחונה', 'לורי', 'אלונה', 'אליזבט', 'ציונה']\n"
     ]
    }
   ],
   "source": [
    "print(category_lines['girls'][:5])"
   ]
  },
  {
   "cell_type": "code",
   "execution_count": 58,
   "metadata": {
    "executionInfo": {
     "elapsed": 12,
     "status": "aborted",
     "timestamp": 1656361031970,
     "user": {
      "displayName": "Eilam Shapira",
      "userId": "12754911597032595721"
     },
     "user_tz": -180
    },
    "id": "jVBOZiowQhFQ",
    "pycharm": {
     "name": "#%%\n"
    }
   },
   "outputs": [
    {
     "name": "stdout",
     "output_type": "stream",
     "text": [
      "tensor([[1., 0., 0., 0., 0., 0., 0., 0., 0., 0., 0., 0., 0., 0., 0., 0., 0., 0.,\n",
      "         0., 0., 0., 0., 0., 0., 0., 0., 0., 0., 0., 0., 0., 0., 0., 0.]])\n",
      "torch.Size([1, 34])\n",
      "torch.Size([3, 1, 34])\n"
     ]
    }
   ],
   "source": [
    "import torch\n",
    "n_letters = len(all_letters)\n",
    "# Find letter index from all_letters, e.g. \"a\" = 0\n",
    "def letterToIndex(letter):\n",
    "    return all_letters.find(letter)\n",
    "\n",
    "# Just for demonstration, turn a letter into a <1 x n_letters> Tensor\n",
    "def letterToTensor(letter):\n",
    "    tensor = torch.zeros(1, n_letters)\n",
    "    tensor[0, letterToIndex(letter)] = 1\n",
    "    return tensor\n",
    "\n",
    "# Turn a line into a <line_length x 1 x n_letters>,\n",
    "# or an array of one-hot letter vectors\n",
    "def lineToTensor(line):\n",
    "    tensor = torch.zeros(len(line), 1, n_letters)\n",
    "    for ii, letter in enumerate(line):\n",
    "        tensor[ii, 0, letterToIndex(letter)] = 1\n",
    "    return tensor\n",
    "\n",
    "print(letterToTensor('א'))\n",
    "print(letterToTensor('א').shape)\n",
    "\n",
    "print(lineToTensor('משה').size())"
   ]
  },
  {
   "cell_type": "code",
   "execution_count": 59,
   "metadata": {
    "executionInfo": {
     "elapsed": 13,
     "status": "aborted",
     "timestamp": 1656361031971,
     "user": {
      "displayName": "Eilam Shapira",
      "userId": "12754911597032595721"
     },
     "user_tz": -180
    },
    "id": "b8XIA_HBQhFQ",
    "pycharm": {
     "name": "#%%\n"
    }
   },
   "outputs": [],
   "source": [
    "import torch.nn as nn\n",
    "import torch.nn.functional as F\n",
    "\n",
    "class RNN(nn.Module):\n",
    "    def __init__(self, input_size, hidden_size, output_size):\n",
    "        super(RNN, self).__init__()\n",
    "        self.input_size = input_size\n",
    "        self.hidden_size = hidden_size\n",
    "        self.output_size = output_size\n",
    "        self.i2h = nn.Linear(input_size + hidden_size, hidden_size)\n",
    "        self.i2o = nn.Linear(input_size + hidden_size, output_size)\n",
    "    def forward(self, input, hidden):\n",
    "        combined = torch.concat((input, hidden), dim=1)\n",
    "        next_h = self.i2h(combined)\n",
    "        output = F.log_softmax(self.i2o(combined), dim=1)\n",
    "        return output, next_h\n",
    "    def initHidden(self):\n",
    "        return torch.zeros(1, self.hidden_size)\n",
    "\n",
    "        \n",
    "\n",
    "n_hidden = 128\n",
    "rnn = RNN(n_letters, n_hidden, n_categories)"
   ]
  },
  {
   "cell_type": "code",
   "execution_count": 60,
   "metadata": {
    "collapsed": false,
    "jupyter": {
     "outputs_hidden": false
    },
    "pycharm": {
     "name": "#%%\n"
    }
   },
   "outputs": [],
   "source": [
    "import torch.nn as nn\n",
    "import torch.nn.functional as F\n",
    "\n",
    "class LSTM(nn.Module):\n",
    "    def __init__(self, in_size, hidden_size, output_size):\n",
    "        super().__init__()\n",
    "        self.in_size = in_size\n",
    "        self.hidden_size = hidden_size\n",
    "        self.i2f = nn.Linear(in_size + hidden_size, hidden_size)\n",
    "        self.i2u = nn.Linear(in_size + hidden_size, hidden_size)\n",
    "        self.i2o = nn.Linear(in_size + hidden_size, hidden_size)\n",
    "        self.i2c = nn.Linear(in_size + hidden_size, hidden_size)\n",
    "        self.out_classify = nn.Linear(in_size + hidden_size, output_size)\n",
    "        self.softmax = nn.LogSoftmax(dim=1)\n",
    "\n",
    "    def forward(self, input, hidden, cell):\n",
    "        combined = torch.concat([input, hidden], dim=1)\n",
    "        forget = torch.sigmoid(self.i2f(combined))\n",
    "        update = torch.sigmoid(self.i2u(combined))\n",
    "        output = torch.sigmoid(self.i2o(combined))\n",
    "        cell_tild = torch.tanh(self.i2c(combined))\n",
    "        new_cell = forget * cell + update * cell_tild\n",
    "        new_hidden = output * torch.tanh(new_cell)\n",
    "        out_classify = self.softmax(self.out_classify(combined))\n",
    "        return out_classify, new_hidden, new_cell\n",
    "\n",
    "    def initHidden(self):\n",
    "        return torch.zeros(1, self.hidden_size)\n",
    "\n",
    "n_hidden = 128\n",
    "lstm = LSTM(n_letters, n_hidden, n_categories)"
   ]
  },
  {
   "cell_type": "code",
   "execution_count": 61,
   "metadata": {
    "executionInfo": {
     "elapsed": 12,
     "status": "aborted",
     "timestamp": 1656361031971,
     "user": {
      "displayName": "Eilam Shapira",
      "userId": "12754911597032595721"
     },
     "user_tz": -180
    },
    "id": "5i3M4KNiQhFR",
    "pycharm": {
     "name": "#%%\n"
    }
   },
   "outputs": [],
   "source": [
    "input = letterToTensor(\"א\")\n",
    "hidden = torch.zeros(1, n_hidden)\n",
    "cell = torch.zeros(1, n_hidden)\n",
    "\n",
    "out_classify, new_hidden, new_cell = lstm(input, hidden, cell)"
   ]
  },
  {
   "cell_type": "code",
   "execution_count": 62,
   "metadata": {
    "executionInfo": {
     "elapsed": 12,
     "status": "aborted",
     "timestamp": 1656361031971,
     "user": {
      "displayName": "Eilam Shapira",
      "userId": "12754911597032595721"
     },
     "user_tz": -180
    },
    "id": "G7sWTLoqQhFR",
    "pycharm": {
     "name": "#%%\n"
    }
   },
   "outputs": [
    {
     "name": "stdout",
     "output_type": "stream",
     "text": [
      "tensor([[-1.1235, -1.2029, -0.9821]], grad_fn=<LogSoftmaxBackward0>)\n"
     ]
    }
   ],
   "source": [
    "input = lineToTensor('אלברט')\n",
    "hidden = torch.zeros(1, n_hidden)\n",
    "cell = torch.zeros(1, n_hidden)\n",
    "\n",
    "output, next_hidden, next_cell = lstm(input[0], hidden, cell)\n",
    "print(output)"
   ]
  },
  {
   "cell_type": "code",
   "execution_count": 63,
   "metadata": {
    "executionInfo": {
     "elapsed": 12,
     "status": "aborted",
     "timestamp": 1656361031971,
     "user": {
      "displayName": "Eilam Shapira",
      "userId": "12754911597032595721"
     },
     "user_tz": -180
    },
    "id": "rsb3pN6OQhFS",
    "pycharm": {
     "name": "#%%\n"
    }
   },
   "outputs": [
    {
     "name": "stdout",
     "output_type": "stream",
     "text": [
      "('girls', 2)\n"
     ]
    }
   ],
   "source": [
    "def categoryFromOutput(output):\n",
    "    top_n, top_i = output.topk(1)\n",
    "    category_i = top_i[0].item()\n",
    "    return all_categories[category_i], category_i\n",
    "\n",
    "print(categoryFromOutput(output))"
   ]
  },
  {
   "cell_type": "code",
   "execution_count": 64,
   "metadata": {
    "executionInfo": {
     "elapsed": 13,
     "status": "aborted",
     "timestamp": 1656361031972,
     "user": {
      "displayName": "Eilam Shapira",
      "userId": "12754911597032595721"
     },
     "user_tz": -180
    },
    "id": "lOUi7Qh7QhFS",
    "pycharm": {
     "name": "#%%\n"
    }
   },
   "outputs": [
    {
     "name": "stdout",
     "output_type": "stream",
     "text": [
      "category = boys / line = ישראל\n",
      "category = girls / line = עדנה\n",
      "category = boys / line = אלקנה\n",
      "category = boys / line = צוק\n",
      "category = girls / line = אסתר\n",
      "category = unisex / line = דון\n",
      "category = unisex / line = פסי\n",
      "category = unisex / line = לטם\n",
      "category = girls / line = ליאת\n",
      "category = girls / line = מלכה\n"
     ]
    }
   ],
   "source": [
    "import random\n",
    "\n",
    "def randomChoice(l):\n",
    "    return l[random.randint(0, len(l) - 1)]\n",
    "\n",
    "def randomTrainingExample():\n",
    "    category = randomChoice(all_categories)\n",
    "    line = randomChoice(category_lines[category])\n",
    "    category_tensor = torch.tensor([all_categories.index(category)], dtype=torch.long)\n",
    "    line_tensor = lineToTensor(line)\n",
    "    return category, line, category_tensor, line_tensor\n",
    "\n",
    "for i in range(10):\n",
    "    category, line, category_tensor, line_tensor = randomTrainingExample()\n",
    "    print('category =', category, '/ line =', line)"
   ]
  },
  {
   "cell_type": "code",
   "execution_count": 73,
   "metadata": {
    "executionInfo": {
     "elapsed": 13,
     "status": "aborted",
     "timestamp": 1656361031972,
     "user": {
      "displayName": "Eilam Shapira",
      "userId": "12754911597032595721"
     },
     "user_tz": -180
    },
    "id": "jp59YhMyQhFS",
    "pycharm": {
     "name": "#%%\n"
    }
   },
   "outputs": [],
   "source": [
    "criterion = nn.NLLLoss()\n",
    "# criterion = nn.CrossEntropyLoss()\n"
   ]
  },
  {
   "cell_type": "code",
   "execution_count": 77,
   "metadata": {
    "executionInfo": {
     "elapsed": 13,
     "status": "aborted",
     "timestamp": 1656361031972,
     "user": {
      "displayName": "Eilam Shapira",
      "userId": "12754911597032595721"
     },
     "user_tz": -180
    },
    "id": "wiIbRxJ-QhFS",
    "pycharm": {
     "name": "#%%\n"
    }
   },
   "outputs": [],
   "source": [
    "learning_rate = 0.003 # If you set this too high, it might explode. If too low, it might not learn\n",
    "\n",
    "def train(category_tensor, line_tensor):\n",
    "    hidden = lstm.initHidden()\n",
    "    cell = lstm.initHidden()\n",
    "    lstm.zero_grad()\n",
    "\n",
    "    for i in range(line_tensor.size()[0]):\n",
    "        output, hidden, cell = lstm(line_tensor[i], hidden, cell)\n",
    "\n",
    "    loss = criterion(output, category_tensor)\n",
    "    loss.backward()\n",
    "\n",
    "    # Add parameters' gradients to their values, multiplied by learning rate\n",
    "    for p in lstm.parameters():\n",
    "        p.data.add_(p.grad.data, alpha=-learning_rate)\n",
    "\n",
    "    return output, loss.item()"
   ]
  },
  {
   "cell_type": "code",
   "execution_count": 79,
   "metadata": {
    "executionInfo": {
     "elapsed": 13,
     "status": "aborted",
     "timestamp": 1656361031972,
     "user": {
      "displayName": "Eilam Shapira",
      "userId": "12754911597032595721"
     },
     "user_tz": -180
    },
    "id": "3uAJERTlQhFS",
    "pycharm": {
     "name": "#%%\n"
    }
   },
   "outputs": [
    {
     "name": "stdout",
     "output_type": "stream",
     "text": [
      "3000 1% (0m 3s) 0.6322 גבריאלה / girls ✓\n",
      "6000 2% (0m 7s) 1.0894 גור / unisex ✗ (boys)\n",
      "9000 3% (0m 11s) 1.0463 גומא / boys ✗ (unisex)\n",
      "12000 4% (0m 14s) 0.3206 תיאה / girls ✓\n",
      "15000 5% (0m 18s) 1.9512 בת חן / unisex ✗ (girls)\n",
      "18000 6% (0m 22s) 1.1155 ליזט / boys ✗ (girls)\n",
      "21000 7% (0m 25s) 2.1102 יהודה / girls ✗ (boys)\n",
      "24000 8% (0m 29s) 1.2169 שבא / boys ✗ (girls)\n",
      "27000 9% (0m 32s) 0.2872 אווה / girls ✓\n",
      "30000 10% (0m 36s) 0.8164 עטיל / unisex ✓\n",
      "33000 11% (0m 40s) 1.2097 מנדל / unisex ✗ (boys)\n",
      "36000 12% (0m 43s) 1.4132 ליאב / boys ✗ (unisex)\n",
      "39000 13% (0m 47s) 1.1194 יראל / unisex ✗ (boys)\n",
      "42000 14% (0m 51s) 1.0426 תום / boys ✗ (unisex)\n",
      "45000 15% (0m 54s) 0.2529 בתיה / girls ✓\n",
      "48000 16% (0m 58s) 0.2482 ערבה / girls ✓\n",
      "51000 17% (1m 2s) 0.7918 מקונן / boys ✓\n",
      "54000 18% (1m 6s) 0.7733 ענהאל / unisex ✓\n",
      "57000 19% (1m 9s) 0.8081 עוזי / boys ✓\n",
      "60000 20% (1m 13s) 0.5886 נאור / unisex ✓\n",
      "63000 21% (1m 17s) 0.7421 אוריין / unisex ✓\n",
      "66000 22% (1m 20s) 1.0064 אילי / unisex ✓\n",
      "69000 23% (1m 24s) 0.5377 אנוש / boys ✓\n",
      "72000 24% (1m 28s) 0.5067 פאר / unisex ✓\n",
      "75000 25% (1m 31s) 2.1150 נריה / girls ✗ (unisex)\n",
      "78000 26% (1m 35s) 1.5062 פרח / boys ✗ (girls)\n",
      "81000 27% (1m 39s) 0.3381 חזקיהו / boys ✓\n",
      "84000 28% (1m 42s) 0.3102 איה / girls ✓\n",
      "87000 28% (1m 46s) 0.7229 זיסל / unisex ✓\n",
      "90000 30% (1m 49s) 0.6602 מורן / unisex ✓\n",
      "93000 31% (1m 53s) 0.8053 צ'ארלס / boys ✓\n",
      "96000 32% (1m 57s) 0.9814 אריאל / boys ✗ (unisex)\n",
      "99000 33% (2m 1s) 1.1822 שיריי / unisex ✗ (girls)\n",
      "102000 34% (2m 4s) 0.2828 אליאב / boys ✓\n",
      "105000 35% (2m 8s) 0.2881 שלף / unisex ✓\n",
      "108000 36% (2m 11s) 1.7452 אגי / boys ✗ (girls)\n",
      "111000 37% (2m 15s) 0.4546 רון / unisex ✓\n",
      "114000 38% (2m 19s) 1.2552 בני / unisex ✗ (boys)\n",
      "117000 39% (2m 22s) 0.2649 טרויה / girls ✓\n",
      "120000 40% (2m 26s) 0.1186 ורדית / girls ✓\n",
      "123000 41% (2m 30s) 2.7438 ניקיטה / girls ✗ (unisex)\n",
      "126000 42% (2m 33s) 0.8520 מורי / boys ✓\n",
      "129000 43% (2m 37s) 2.8314 לימור / unisex ✗ (girls)\n",
      "132000 44% (2m 41s) 0.6047 רועי / boys ✓\n",
      "135000 45% (2m 44s) 1.2827 אביגיל / boys ✗ (girls)\n",
      "138000 46% (2m 48s) 0.1023 כרמלה / girls ✓\n",
      "141000 47% (2m 51s) 1.2910 מירי / unisex ✗ (girls)\n",
      "144000 48% (2m 55s) 0.1493 רמית / girls ✓\n",
      "147000 49% (2m 59s) 0.9604 עידן / boys ✗ (unisex)\n",
      "150000 50% (3m 2s) 0.3315 עמוס / boys ✓\n",
      "153000 51% (3m 6s) 1.0445 שקד / boys ✗ (unisex)\n",
      "156000 52% (3m 10s) 1.0677 קינן / unisex ✗ (boys)\n",
      "159000 53% (3m 13s) 0.1503 אנפה / girls ✓\n",
      "162000 54% (3m 17s) 1.6745 אלינוי / boys ✗ (girls)\n",
      "165000 55% (3m 20s) 1.4538 אביב / boys ✗ (unisex)\n",
      "168000 56% (3m 24s) 2.1881 יונה / girls ✗ (unisex)\n",
      "171000 56% (3m 28s) 1.0283 טום / unisex ✗ (boys)\n",
      "174000 57% (3m 31s) 0.2469 נחמה / girls ✓\n",
      "177000 59% (3m 35s) 0.5175 לי / unisex ✓\n",
      "180000 60% (3m 39s) 1.1058 רם / unisex ✗ (boys)\n",
      "183000 61% (3m 42s) 0.1811 אלקה / girls ✓\n",
      "186000 62% (3m 46s) 0.1656 עופרה / girls ✓\n",
      "189000 63% (3m 50s) 0.3643 אליאם / boys ✓\n",
      "192000 64% (3m 53s) 0.6015 איידל / girls ✓\n",
      "195000 65% (3m 57s) 0.7462 סייפן / unisex ✓\n",
      "198000 66% (4m 0s) 0.7476 ראיין / boys ✓\n",
      "201000 67% (4m 4s) 1.6227 יאר / unisex ✗ (boys)\n",
      "204000 68% (4m 8s) 0.9696 איליי / boys ✓\n",
      "207000 69% (4m 11s) 2.0727 קרל / unisex ✗ (boys)\n",
      "210000 70% (4m 15s) 0.5893 צפריר / boys ✓\n",
      "213000 71% (4m 19s) 0.4123 הראל / unisex ✓\n",
      "216000 72% (4m 22s) 2.3392 צוריה / girls ✗ (unisex)\n",
      "219000 73% (4m 26s) 0.3923 אמנון / boys ✓\n",
      "222000 74% (4m 29s) 0.6451 מוראל / unisex ✓\n",
      "225000 75% (4m 33s) 0.3378 לירן / unisex ✓\n",
      "228000 76% (4m 37s) 0.1660 יעקב / boys ✓\n",
      "231000 77% (4m 40s) 2.3630 דומיניק / boys ✗ (unisex)\n",
      "234000 78% (4m 44s) 0.0852 לירית / girls ✓\n",
      "237000 79% (4m 47s) 0.4591 גד / boys ✓\n",
      "240000 80% (4m 51s) 1.2782 רחל / unisex ✗ (girls)\n",
      "243000 81% (4m 55s) 0.1194 מריאנו / boys ✓\n",
      "246000 82% (4m 58s) 0.1356 טמירה / girls ✓\n",
      "249000 83% (5m 2s) 1.3951 עילי / unisex ✗ (boys)\n",
      "252000 84% (5m 5s) 0.6958 אוראל / unisex ✓\n",
      "255000 85% (5m 9s) 0.3147 ניל / unisex ✓\n",
      "258000 86% (5m 13s) 0.9896 מילאן / boys ✗ (unisex)\n",
      "261000 87% (5m 16s) 0.7017 נירי / unisex ✓\n",
      "264000 88% (5m 20s) 0.8897 דונלד / boys ✓\n",
      "267000 89% (5m 24s) 0.2917 עמיאל / boys ✓\n",
      "270000 90% (5m 27s) 0.4089 מנור / unisex ✓\n",
      "273000 91% (5m 31s) 0.0296 ליבנת / girls ✓\n",
      "276000 92% (5m 34s) 0.4569 איטן / unisex ✓\n",
      "279000 93% (5m 38s) 0.0926 רננה / girls ✓\n",
      "282000 94% (5m 42s) 0.2530 פאר / unisex ✓\n",
      "285000 95% (5m 45s) 0.4370 אורין / unisex ✓\n",
      "288000 96% (5m 49s) 0.7440 איילת השחר / boys ✗ (girls)\n",
      "291000 97% (5m 53s) 2.0717 ז'ניה / girls ✗ (unisex)\n",
      "294000 98% (5m 56s) 0.5526 שי / unisex ✓\n",
      "297000 99% (6m 0s) 0.2875 פאר / unisex ✓\n",
      "300000 100% (6m 4s) 0.3589 ריזל / girls ✓\n"
     ]
    }
   ],
   "source": [
    "import time\n",
    "import math\n",
    "\n",
    "n_hidden = 64\n",
    "lstm = LSTM(n_letters, n_hidden, n_categories)\n",
    "\n",
    "n_iters = 300000\n",
    "print_every = 3000\n",
    "plot_every = 1000\n",
    "\n",
    "\n",
    "\n",
    "# Keep track of losses for plotting\n",
    "current_loss = 0\n",
    "all_losses = []\n",
    "\n",
    "def timeSince(since):\n",
    "    now = time.time()\n",
    "    s = now - since\n",
    "    m = math.floor(s / 60)\n",
    "    s -= m * 60\n",
    "    return '%dm %ds' % (m, s)\n",
    "\n",
    "start = time.time()\n",
    "\n",
    "for iter in range(1, n_iters + 1):\n",
    "    category, line, category_tensor, line_tensor = randomTrainingExample()\n",
    "    output, loss = train(category_tensor, line_tensor)\n",
    "    current_loss += loss\n",
    "\n",
    "    # Print iter number, loss, name and guess\n",
    "    if iter % print_every == 0:\n",
    "        guess, guess_i = categoryFromOutput(output)\n",
    "        correct = '✓' if guess == category else '✗ (%s)' % category\n",
    "        print('%d %d%% (%s) %.4f %s / %s %s' % (iter, iter / n_iters * 100, timeSince(start), loss, line, guess, correct))\n",
    "\n",
    "    # Add current loss avg to list of losses\n",
    "    if iter % plot_every == 0:\n",
    "        all_losses.append(current_loss / plot_every)\n",
    "        current_loss = 0"
   ]
  },
  {
   "cell_type": "code",
   "execution_count": 80,
   "metadata": {
    "executionInfo": {
     "elapsed": 13,
     "status": "aborted",
     "timestamp": 1656361031973,
     "user": {
      "displayName": "Eilam Shapira",
      "userId": "12754911597032595721"
     },
     "user_tz": -180
    },
    "id": "JKCizliAQhFT",
    "pycharm": {
     "name": "#%%\n"
    }
   },
   "outputs": [
    {
     "data": {
      "text/plain": [
       "[<matplotlib.lines.Line2D at 0x7f6ab7c24c40>]"
      ]
     },
     "execution_count": 80,
     "metadata": {},
     "output_type": "execute_result"
    },
    {
     "data": {
      "image/png": "[encoded data removed]",
      "text/plain": [
       "<Figure size 432x288 with 1 Axes>"
      ]
     },
     "metadata": {
      "needs_background": "light"
     },
     "output_type": "display_data"
    }
   ],
   "source": [
    "import matplotlib.pyplot as plt\n",
    "import matplotlib.ticker as ticker\n",
    "\n",
    "plt.figure()\n",
    "plt.plot(all_losses)"
   ]
  },
  {
   "cell_type": "markdown",
   "metadata": {
    "id": "y_OqT819QhFT",
    "pycharm": {
     "name": "#%% md\n"
    }
   },
   "source": [
    "Evaluating the Results\n",
    "======================\n",
    "\n",
    "To see how well the network performs on different categories, we will\n",
    "create a confusion matrix, indicating for every actual language (rows)\n",
    "which language the network guesses (columns). To calculate the confusion\n",
    "matrix a bunch of samples are run through the network with\n",
    "``evaluate()``, which is the same as ``train()`` minus the backprop.\n",
    "\n",
    "\n"
   ]
  },
  {
   "cell_type": "code",
   "execution_count": 81,
   "metadata": {
    "executionInfo": {
     "elapsed": 13,
     "status": "aborted",
     "timestamp": 1656361031973,
     "user": {
      "displayName": "Eilam Shapira",
      "userId": "12754911597032595721"
     },
     "user_tz": -180
    },
    "id": "WR1Gga8hQhFT",
    "pycharm": {
     "name": "#%%\n"
    }
   },
   "outputs": [
    {
     "name": "stderr",
     "output_type": "stream",
     "text": [
      "/tmp/ipykernel_1440724/3649271960.py:33: UserWarning: FixedFormatter should only be used together with FixedLocator\n",
      "  ax.set_xticklabels([''] + all_categories, rotation=90)\n",
      "/tmp/ipykernel_1440724/3649271960.py:34: UserWarning: FixedFormatter should only be used together with FixedLocator\n",
      "  ax.set_yticklabels([''] + all_categories)\n"
     ]
    },
    {
     "data": {
      "image/png": "[encoded data removed]",
      "text/plain": [
       "<Figure size 432x288 with 2 Axes>"
      ]
     },
     "metadata": {
      "needs_background": "light"
     },
     "output_type": "display_data"
    }
   ],
   "source": [
    "# Keep track of correct guesses in a confusion matrix\n",
    "confusion = torch.zeros(n_categories, n_categories)\n",
    "n_confusion = 10000\n",
    "\n",
    "# Just return an output given a line\n",
    "def evaluate(line_tensor):\n",
    "    hidden = rnn.initHidden()\n",
    "\n",
    "    for i in range(line_tensor.size()[0]):\n",
    "        output, hidden = rnn(line_tensor[i], hidden)\n",
    "\n",
    "    return output\n",
    "\n",
    "# Go through a bunch of examples and record which are correctly guessed\n",
    "for i in range(n_confusion):\n",
    "    category, line, category_tensor, line_tensor = randomTrainingExample()\n",
    "    output = evaluate(line_tensor)\n",
    "    guess, guess_i = categoryFromOutput(output)\n",
    "    category_i = all_categories.index(category)\n",
    "    confusion[category_i][guess_i] += 1\n",
    "\n",
    "# Normalize by dividing every row by its sum\n",
    "for i in range(n_categories):\n",
    "    confusion[i] = confusion[i] / confusion[i].sum()\n",
    "\n",
    "# Set up plot\n",
    "fig = plt.figure()\n",
    "ax = fig.add_subplot(111)\n",
    "cax = ax.matshow(confusion.numpy())\n",
    "fig.colorbar(cax)\n",
    "\n",
    "# Set up axes\n",
    "ax.set_xticklabels([''] + all_categories, rotation=90)\n",
    "ax.set_yticklabels([''] + all_categories)\n",
    "\n",
    "# Force label at every tick\n",
    "ax.xaxis.set_major_locator(ticker.MultipleLocator(1))\n",
    "ax.yaxis.set_major_locator(ticker.MultipleLocator(1))\n",
    "\n",
    "# sphinx_gallery_thumbnail_number = 2\n",
    "plt.show()"
   ]
  }
 ],
 "metadata": {
  "colab": {
   "name": "char_rnn_classification_tutorial.ipynb",
   "provenance": [
    {
     "file_id": "https://github.com/pytorch/tutorials/blob/gh-pages/_downloads/977c14818c75427641ccb85ad21ed6dc/char_rnn_classification_tutorial.ipynb",
     "timestamp": 1656343350758
    }
   ]
  },
  "kernelspec": {
   "display_name": "Python 3 (ipykernel)",
   "language": "python",
   "name": "python3"
  },
  "language_info": {
   "codemirror_mode": {
    "name": "ipython",
    "version": 3
   },
   "file_extension": ".py",
   "mimetype": "text/x-python",
   "name": "python",
   "nbconvert_exporter": "python",
   "pygments_lexer": "ipython3",
   "version": "3.9.13"
  }
 },
 "nbformat": 4,
 "nbformat_minor": 4
}
