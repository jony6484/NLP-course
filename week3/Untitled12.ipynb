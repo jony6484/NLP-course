{
  "nbformat": 4,
  "nbformat_minor": 0,
  "metadata": {
    "colab": {
      "name": "Untitled12.ipynb",
      "provenance": [],
      "collapsed_sections": []
    },
    "kernelspec": {
      "name": "python3",
      "display_name": "Python 3"
    },
    "language_info": {
      "name": "python"
    }
  },
  "cells": [
    {
      "cell_type": "code",
      "execution_count": 2,
      "metadata": {
        "id": "a7it1-MP_Cp2"
      },
      "outputs": [],
      "source": [
        "# Imports\n",
        "import requests\n",
        "import numpy as np\n",
        "import pandas as pd\n",
        "from bs4 import BeautifulSoup\n",
        "import matplotlib.pyplot as plt\n",
        "\n",
        "%matplotlib inline"
      ]
    },
    {
      "cell_type": "code",
      "source": [
        "# IMDB's homepage\n",
        "url = 'https://www.israelibaby.co.il/name-1-0'\n",
        "\n",
        "# Use requests to retrieve data from a given URL\n",
        "names_response = requests.get(url)\n",
        "\n",
        "# Parse the whole HTML page using BeautifulSoup\n",
        "names_soup = BeautifulSoup(names_response.text, 'html.parser')\n",
        "\n",
        "# Title of the parsed page\n",
        "names_soup.title"
      ],
      "metadata": {
        "colab": {
          "base_uri": "https://localhost:8080/"
        },
        "id": "d-4AxDVe_EMz",
        "outputId": "e533d422-fecf-451c-fd0e-38e7a99012df"
      },
      "execution_count": 3,
      "outputs": [
        {
          "output_type": "execute_result",
          "data": {
            "text/plain": [
              "<title>שמות לבנים באות א' - שמות לבנים 2021 - פורטל תינוק ישראלי</title>"
            ]
          },
          "metadata": {},
          "execution_count": 3
        }
      ]
    },
    {
      "cell_type": "code",
      "source": [
        "from tqdm import tqdm\n",
        "names = {\"boys\": [], \"girls\": []}\n",
        "for i, g in enumerate([\"boys\", \"girls\"]):\n",
        "  for l in tqdm(range(22)):\n",
        "    url = f'https://www.israelibaby.co.il/name-{i+1}-{l}'\n",
        "    # Use requests to retrieve data from a given URL\n",
        "    names_response = requests.get(url)\n",
        "    # Parse the whole HTML page using BeautifulSoup\n",
        "    names_soup = BeautifulSoup(names_response.text, 'html.parser')\n",
        "    for n in names_soup.find_all(\"div\", {\"class\": \"name\"}):\n",
        "      names[g].append(n.string)"
      ],
      "metadata": {
        "colab": {
          "base_uri": "https://localhost:8080/"
        },
        "id": "9ruepUmO_yTt",
        "outputId": "d7a16efa-3238-47ad-98e0-27d260ca2ece"
      },
      "execution_count": 10,
      "outputs": [
        {
          "output_type": "stream",
          "name": "stderr",
          "text": [
            "100%|██████████| 22/22 [00:23<00:00,  1.05s/it]\n",
            "100%|██████████| 22/22 [00:20<00:00,  1.06it/s]\n"
          ]
        }
      ]
    },
    {
      "cell_type": "code",
      "source": [
        "unisex = [n for n in set(names[\"boys\"]) if n in set(names[\"girls\"])]\n",
        "boys = [n for n in set(names[\"boys\"]) if n not in set(names[\"girls\"])]\n",
        "girls = [n for n in set(names[\"girls\"]) if n not in set(names[\"boys\"])]"
      ],
      "metadata": {
        "id": "fVKcb1uq_6Ih"
      },
      "execution_count": 19,
      "outputs": []
    },
    {
      "cell_type": "code",
      "source": [
        "f = open(\"boys.txt\", \"w\")\n",
        "for n in boys:\n",
        "  f.write(n)\n",
        "  f.write(\"\\n\")\n",
        "f.close()\n",
        "\n",
        "f = open(\"girls.txt\", \"w\")\n",
        "for n in girls:\n",
        "  f.write(n)\n",
        "  f.write(\"\\n\")\n",
        "f.close()\n",
        "\n",
        "f = open(\"unisex.txt\", \"w\")\n",
        "for n in unisex:\n",
        "  f.write(n)\n",
        "  f.write(\"\\n\")\n",
        "f.close()"
      ],
      "metadata": {
        "id": "6gjjzsdAEIXZ"
      },
      "execution_count": 37,
      "outputs": []
    },
    {
      "cell_type": "code",
      "source": [
        ""
      ],
      "metadata": {
        "id": "dvXJLoNCGedh"
      },
      "execution_count": null,
      "outputs": []
    }
  ]
}