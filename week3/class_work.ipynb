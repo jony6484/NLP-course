{
 "cells": [
  {
   "cell_type": "code",
   "execution_count": 1,
   "metadata": {
    "collapsed": false,
    "jupyter": {
     "outputs_hidden": false
    },
    "pycharm": {
     "name": "#%%\n"
    }
   },
   "outputs": [],
   "source": [
    "import torch\n",
    "import numpy as np\n",
    "import pandas as pd\n",
    "import torch.nn as nn"
   ]
  },
  {
   "cell_type": "code",
   "execution_count": 2,
   "metadata": {
    "collapsed": false,
    "jupyter": {
     "outputs_hidden": false
    },
    "pycharm": {
     "name": "#%%\n"
    }
   },
   "outputs": [],
   "source": [
    "boys = pd.read_csv('boys.txt', header=None).values.squeeze()\n",
    "girls = pd.read_csv('girls.txt', header=None).values.squeeze()\n",
    "unisex = pd.read_csv('unisex.txt', header=None).values.squeeze()"
   ]
  },
  {
   "cell_type": "code",
   "execution_count": 3,
   "metadata": {
    "collapsed": false,
    "jupyter": {
     "outputs_hidden": false
    },
    "pycharm": {
     "name": "#%%\n"
    }
   },
   "outputs": [],
   "source": [
    "dataset_boys = pd.DataFrame({'name': boys, 'label': np.zeros_like(boys)})\n",
    "dataset_girls = pd.DataFrame({'name': girls, 'label': np.ones_like(girls)})\n",
    "dataset_unisex = pd.DataFrame({'name': unisex, 'label': 2*np.ones_like(unisex)})\n",
    "dataset = pd.concat([dataset_boys, dataset_girls, dataset_unisex]).sample(frac=1).reset_index(drop=True)"
   ]
  },
  {
   "cell_type": "code",
   "execution_count": 4,
   "metadata": {
    "collapsed": false,
    "jupyter": {
     "outputs_hidden": false
    },
    "pycharm": {
     "name": "#%%\n"
    }
   },
   "outputs": [],
   "source": [
    "all_letters = sorted(list(set(np.concatenate(dataset.name.apply(list)))))\n",
    "letter2ind = {letter: ii for ii, letter in enumerate(all_letters)}\n",
    "n_letters = len(all_letters)\n",
    "def name2tensor(name):\n",
    "    tens = torch.zeros(len(name), 1, n_letters)\n",
    "    for ii, letter in enumerate(name):\n",
    "        tens[ii, 0, letter2ind[letter]] = 1\n",
    "    return tens"
   ]
  },
  {
   "cell_type": "code",
   "execution_count": 5,
   "metadata": {
    "collapsed": false,
    "jupyter": {
     "outputs_hidden": false
    },
    "pycharm": {
     "name": "#%%\n"
    }
   },
   "outputs": [
    {
     "data": {
      "text/plain": [
       "torch.Size([4, 1, 30])"
      ]
     },
     "execution_count": 5,
     "metadata": {},
     "output_type": "execute_result"
    }
   ],
   "source": [
    "name2tensor('יוסי').shape"
   ]
  },
  {
   "cell_type": "code",
   "execution_count": 6,
   "metadata": {
    "collapsed": false,
    "jupyter": {
     "outputs_hidden": false
    },
    "pycharm": {
     "name": "#%%\n"
    }
   },
   "outputs": [],
   "source": [
    "dataset['input_tensor'] = dataset['name'].apply(name2tensor)"
   ]
  },
  {
   "cell_type": "code",
   "execution_count": 7,
   "metadata": {
    "collapsed": false,
    "jupyter": {
     "outputs_hidden": false
    },
    "pycharm": {
     "name": "#%%\n"
    }
   },
   "outputs": [
    {
     "data": {
      "text/plain": [
       "<function _VariableFunctionsClass.softmax>"
      ]
     },
     "execution_count": 7,
     "metadata": {},
     "output_type": "execute_result"
    }
   ],
   "source": [
    "torch.softmax"
   ]
  },
  {
   "cell_type": "code",
   "execution_count": 8,
   "metadata": {
    "collapsed": false,
    "jupyter": {
     "outputs_hidden": false
    },
    "pycharm": {
     "name": "#%%\n"
    }
   },
   "outputs": [],
   "source": [
    "class RnnCell(nn.Module):\n",
    "    def __init__(self, in_size, hidden_size):\n",
    "        super().__init__()\n",
    "        self.in_size = in_size\n",
    "        self.hidden_size = hidden_size\n",
    "        self.i2h = nn.Linear(in_size + hidden_size, hidden_size)\n",
    "        self.softmax = nn.LogSoftmax(dim=1)\n",
    "\n",
    "    def forward(self, input, hidden):\n",
    "        combined = torch.concat([input, hidden], dim=1)\n",
    "        combined = self.i2h(combined)\n",
    "        new_hidden = self.softmax(combined)\n",
    "        return new_hidden"
   ]
  },
  {
   "cell_type": "code",
   "execution_count": 15,
   "metadata": {
    "collapsed": false,
    "jupyter": {
     "outputs_hidden": false
    },
    "pycharm": {
     "name": "#%%\n"
    }
   },
   "outputs": [],
   "source": [
    "class LstmCell(nn.Module):\n",
    "    def __init__(self, in_size, hidden_size):\n",
    "        super().__init__()\n",
    "        self.in_size = in_size\n",
    "        self.hidden_size = hidden_size\n",
    "        self.i2f = nn.Linear(in_size + hidden_size, hidden_size)\n",
    "        self.i2u = nn.Linear(in_size + hidden_size, hidden_size)\n",
    "        self.i2o = nn.Linear(in_size + hidden_size, hidden_size)\n",
    "        self.i2c = nn.Linear(in_size + hidden_size, hidden_size)\n",
    "        self.softmax = nn.LogSoftmax(dim=1)\n",
    "\n",
    "    def forward(self, input, hidden, cell):\n",
    "        combined = torch.concat([input, hidden], dim=1)\n",
    "        forget = torch.sigmoid(self.i2f(combined))\n",
    "        update = torch.sigmoid(self.i2u(combined))\n",
    "        output = torch.sigmoid(self.i2o(combined))\n",
    "        cell_tild = torch.tanh(self.i2c(combined))\n",
    "        # cell_tild = self.softmax(self.i2c(combined))\n",
    "        new_cell = forget * cell + update * cell_tild\n",
    "        new_hidden = output * torch.tanh(new_cell)\n",
    "\n",
    "        return new_hidden, new_cell"
   ]
  },
  {
   "cell_type": "code",
   "execution_count": 16,
   "metadata": {
    "collapsed": false,
    "jupyter": {
     "outputs_hidden": false
    },
    "pycharm": {
     "name": "#%%\n"
    }
   },
   "outputs": [],
   "source": [
    "class RnnNet(nn.Module):\n",
    "    def __init__(self, in_size, hidden_size, out_size):\n",
    "        super().__init__()\n",
    "        self.in_size = in_size\n",
    "        self.hidden_size = hidden_size\n",
    "        self.out_size = out_size\n",
    "        self.output_layer = nn.Linear(hidden_size, out_size)\n",
    "        self.rnn_cell = RnnCell(in_size, hidden_size)\n",
    "\n",
    "    def forward(self, input_tensor):\n",
    "        hidden = torch.zeros(1, self.hidden_size)\n",
    "        for line in input_tensor:\n",
    "            hidden = self.rnn_cell(line, hidden)\n",
    "        output = self.output_layer(hidden)\n",
    "        return output"
   ]
  },
  {
   "cell_type": "code",
   "execution_count": 17,
   "metadata": {
    "collapsed": false,
    "jupyter": {
     "outputs_hidden": false
    },
    "pycharm": {
     "name": "#%%\n"
    }
   },
   "outputs": [],
   "source": [
    "class LstmNet(nn.Module):\n",
    "    def __init__(self, in_size, hidden_size, out_size):\n",
    "        super().__init__()\n",
    "        self.in_size = in_size\n",
    "        self.hidden_size = hidden_size\n",
    "        self.out_size = out_size\n",
    "        self.output_layer = nn.Linear(in_size + hidden_size, out_size)\n",
    "        self.lstm_cell = LstmCell(in_size, hidden_size)\n",
    "        self.softmax = nn.LogSoftmax(dim=1)\n",
    "    def forward(self, input_tensor):\n",
    "        hidden = torch.zeros(1, self.hidden_size)\n",
    "        cell = torch.zeros(1, self.hidden_size)\n",
    "        for line in input_tensor:\n",
    "            hidden, cell = self.lstm_cell(line, hidden, cell)\n",
    "        output = self.softmax(self.output_layer(torch.concat([line, hidden], dim=1)))\n",
    "        return output"
   ]
  },
  {
   "cell_type": "code",
   "execution_count": 18,
   "metadata": {
    "collapsed": false,
    "jupyter": {
     "outputs_hidden": false
    },
    "pycharm": {
     "name": "#%%\n"
    }
   },
   "outputs": [],
   "source": [
    "dataset_train = dataset.iloc[:1000, :]\n",
    "dataset_test = dataset.iloc[1000:, :]"
   ]
  },
  {
   "cell_type": "code",
   "execution_count": 13,
   "metadata": {
    "collapsed": false,
    "jupyter": {
     "outputs_hidden": false
    },
    "pycharm": {
     "name": "#%%\n"
    }
   },
   "outputs": [
    {
     "name": "stdout",
     "output_type": "stream",
     "text": [
      "epoch:1/30|loss Train/Test: 1.453/1.099|accuracy Train/Test: 45.00%/48.74%\n",
      "epoch:2/30|loss Train/Test: 1.084/1.082|accuracy Train/Test: 48.40%/48.74%\n",
      "epoch:3/30|loss Train/Test: 1.035/1.066|accuracy Train/Test: 50.50%/49.16%\n",
      "epoch:4/30|loss Train/Test: 1.002/1.051|accuracy Train/Test: 52.50%/50.00%\n",
      "epoch:5/30|loss Train/Test: 0.975/1.038|accuracy Train/Test: 53.50%/50.42%\n",
      "epoch:6/30|loss Train/Test: 0.952/1.026|accuracy Train/Test: 55.40%/51.26%\n",
      "epoch:7/30|loss Train/Test: 0.932/1.016|accuracy Train/Test: 56.00%/52.10%\n",
      "epoch:8/30|loss Train/Test: 0.914/1.008|accuracy Train/Test: 57.40%/54.62%\n",
      "epoch:9/30|loss Train/Test: 0.899/1.002|accuracy Train/Test: 58.50%/55.46%\n",
      "epoch:10/30|loss Train/Test: 0.887/0.997|accuracy Train/Test: 59.10%/57.14%\n",
      "epoch:11/30|loss Train/Test: 0.877/0.992|accuracy Train/Test: 59.60%/57.98%\n",
      "epoch:12/30|loss Train/Test: 0.869/0.989|accuracy Train/Test: 60.60%/57.98%\n",
      "epoch:13/30|loss Train/Test: 0.862/0.986|accuracy Train/Test: 60.90%/58.40%\n",
      "epoch:14/30|loss Train/Test: 0.856/0.983|accuracy Train/Test: 61.50%/58.40%\n",
      "epoch:15/30|loss Train/Test: 0.852/0.980|accuracy Train/Test: 61.70%/59.24%\n",
      "epoch:16/30|loss Train/Test: 0.848/0.978|accuracy Train/Test: 61.90%/58.82%\n",
      "epoch:17/30|loss Train/Test: 0.845/0.977|accuracy Train/Test: 63.00%/58.40%\n",
      "epoch:18/30|loss Train/Test: 0.842/0.975|accuracy Train/Test: 63.20%/58.82%\n",
      "epoch:19/30|loss Train/Test: 0.839/0.973|accuracy Train/Test: 63.10%/58.82%\n",
      "epoch:20/30|loss Train/Test: 0.836/0.972|accuracy Train/Test: 63.00%/58.82%\n",
      "epoch:21/30|loss Train/Test: 0.834/0.971|accuracy Train/Test: 63.10%/59.24%\n",
      "epoch:22/30|loss Train/Test: 0.832/0.969|accuracy Train/Test: 63.20%/59.24%\n",
      "epoch:23/30|loss Train/Test: 0.830/0.968|accuracy Train/Test: 63.50%/58.82%\n",
      "epoch:24/30|loss Train/Test: 0.828/0.967|accuracy Train/Test: 63.40%/58.40%\n",
      "epoch:25/30|loss Train/Test: 0.826/0.966|accuracy Train/Test: 63.60%/58.40%\n",
      "epoch:26/30|loss Train/Test: 0.824/0.965|accuracy Train/Test: 63.40%/58.82%\n",
      "epoch:27/30|loss Train/Test: 0.822/0.964|accuracy Train/Test: 63.50%/58.40%\n",
      "epoch:28/30|loss Train/Test: 0.821/0.963|accuracy Train/Test: 63.70%/58.40%\n",
      "epoch:29/30|loss Train/Test: 0.819/0.962|accuracy Train/Test: 63.80%/58.40%\n",
      "epoch:30/30|loss Train/Test: 0.818/0.961|accuracy Train/Test: 63.80%/58.40%\n"
     ]
    }
   ],
   "source": [
    "# Rnn\n",
    "import torch.nn as nn\n",
    "hidden_size = 200\n",
    "n_classes = 3\n",
    "model = RnnNet(in_size=n_letters, hidden_size=hidden_size, out_size=n_classes)\n",
    "loss_fun = nn.CrossEntropyLoss()\n",
    "# loss_fun = nn.NLLLoss()\n",
    "\n",
    "optimizer = torch.optim.Adam(model.parameters(), lr=0.0001)\n",
    "\n",
    "n_epochs = 30\n",
    "train_loss, test_loss, train_acc, test_acc = [], [], [], []\n",
    "N_names = len(dataset_train)\n",
    "for epoch_i in range(n_epochs):\n",
    "    model.train()\n",
    "    name_loss = []\n",
    "    name_acc = []\n",
    "    for ii, row in dataset_train.iterrows():\n",
    "        label = row.label\n",
    "        tensor = row.input_tensor\n",
    "        logits = model(tensor)\n",
    "        loss = loss_fun(logits, torch.tensor([label]))\n",
    "\n",
    "        optimizer.zero_grad()\n",
    "        loss.backward()\n",
    "        optimizer.step()\n",
    "\n",
    "        name_loss.append(loss.detach().item())\n",
    "        name_acc.append(float((torch.argmax(logits, axis=1) == label).item()))\n",
    "        print(f'name:{ii + 1}/{N_names}|{int(20 * ii / N_names) * \"=\"}{int(20 * (N_names - ii) / N_names) * \"-\"}'\n",
    "              f'|loss:{name_loss[ii]:0.3f}|accuracy:{name_acc[ii]:0.2f}%', end='\\r')\n",
    "    train_loss.append(np.mean(name_loss))\n",
    "    train_acc.append(100*(np.mean(name_acc)))\n",
    "    model.eval()\n",
    "    with torch.no_grad():\n",
    "        name_loss = []\n",
    "        name_acc = []\n",
    "        for ii, row in dataset_test.iterrows():\n",
    "            label = row.label\n",
    "            tensor = row.input_tensor\n",
    "            logits = model(tensor)\n",
    "            loss = loss_fun(logits, torch.tensor([label]))\n",
    "            name_loss.append(loss.detach().item())\n",
    "            name_acc.append(float((torch.argmax(logits, axis=1) == label).item()))\n",
    "        test_loss.append(np.mean(name_loss))\n",
    "        test_acc.append((100*np.mean(name_acc)))\n",
    "    print(f'epoch:{epoch_i + 1}/{n_epochs}|loss Train/Test: {train_loss[epoch_i]:0.3f}/{test_loss[epoch_i]:0.3f}|'\n",
    "          f'accuracy Train/Test: {train_acc[epoch_i]:0.2f}%/{test_acc[epoch_i]:0.2f}%')"
   ]
  },
  {
   "cell_type": "code",
   "execution_count": 20,
   "metadata": {
    "collapsed": false,
    "jupyter": {
     "outputs_hidden": false
    },
    "pycharm": {
     "name": "#%%\n"
    }
   },
   "outputs": [
    {
     "name": "stdout",
     "output_type": "stream",
     "text": [
      "epoch:1/50|loss Train/Test: 0.876/0.884|accuracy Train/Test: 59.60%/61.76%\n",
      "epoch:2/50|loss Train/Test: 0.756/0.870|accuracy Train/Test: 67.20%/62.18%\n",
      "epoch:3/50|loss Train/Test: 0.713/0.913|accuracy Train/Test: 68.60%/63.45%\n",
      "epoch:4/50|loss Train/Test: 0.676/0.953|accuracy Train/Test: 71.00%/63.45%\n",
      "epoch:5/50|loss Train/Test: 0.646/0.991|accuracy Train/Test: 72.30%/61.34%\n",
      "epoch:6/50|loss Train/Test: 0.622/1.027|accuracy Train/Test: 73.20%/60.92%\n",
      "epoch:7/50|loss Train/Test: 0.603/1.065|accuracy Train/Test: 74.60%/60.92%\n",
      "epoch:8/50|loss Train/Test: 0.583/1.112|accuracy Train/Test: 75.20%/62.61%\n",
      "epoch:9/50|loss Train/Test: 0.565/1.147|accuracy Train/Test: 75.40%/62.18%\n",
      "epoch:10/50|loss Train/Test: 0.542/1.186|accuracy Train/Test: 76.10%/62.18%\n",
      "epoch:11/50|loss Train/Test: 0.521/1.244|accuracy Train/Test: 77.40%/60.08%\n",
      "epoch:12/50|loss Train/Test: 0.500/1.302|accuracy Train/Test: 79.50%/57.98%\n",
      "epoch:13/50|loss Train/Test: 0.466/1.382|accuracy Train/Test: 81.00%/57.14%\n",
      "epoch:14/50|loss Train/Test: 0.439/1.478|accuracy Train/Test: 81.80%/55.04%\n",
      "epoch:15/50|loss Train/Test: 0.409/1.587|accuracy Train/Test: 82.70%/55.04%\n",
      "epoch:16/50|loss Train/Test: 0.401/1.615|accuracy Train/Test: 84.00%/56.30%\n",
      "epoch:17/50|loss Train/Test: 0.356/1.731|accuracy Train/Test: 85.80%/57.14%\n",
      "epoch:18/50|loss Train/Test: 0.329/1.909|accuracy Train/Test: 87.00%/57.98%\n",
      "epoch:19/50|loss Train/Test: 0.297/2.017|accuracy Train/Test: 88.70%/56.72%\n",
      "epoch:20/50|loss Train/Test: 0.291/2.061|accuracy Train/Test: 88.60%/53.78%\n",
      "epoch:21/50|loss Train/Test: 0.230/2.159|accuracy Train/Test: 92.00%/55.04%\n",
      "epoch:22/50|loss Train/Test: 0.205/2.281|accuracy Train/Test: 93.10%/55.88%\n",
      "epoch:23/50|loss Train/Test: 0.174/2.412|accuracy Train/Test: 94.20%/56.30%\n",
      "epoch:24/50|loss Train/Test: 0.146/2.608|accuracy Train/Test: 95.30%/55.04%\n",
      "epoch:25/50|loss Train/Test: 0.182/2.391|accuracy Train/Test: 93.80%/54.62%\n",
      "epoch:26/50|loss Train/Test: 0.141/2.369|accuracy Train/Test: 95.60%/58.40%\n",
      "epoch:27/50|loss Train/Test: 0.103/2.425|accuracy Train/Test: 97.60%/57.56%\n",
      "epoch:28/50|loss Train/Test: 0.073/2.625|accuracy Train/Test: 98.40%/57.56%\n",
      "epoch:29/50|loss Train/Test: 0.057/2.848|accuracy Train/Test: 98.90%/56.72%\n",
      "epoch:30/50|loss Train/Test: 0.052/2.944|accuracy Train/Test: 99.10%/56.72%\n",
      "epoch:31/50|loss Train/Test: 0.050/3.014|accuracy Train/Test: 98.70%/56.30%\n",
      "epoch:32/50|loss Train/Test: 0.090/3.011|accuracy Train/Test: 97.60%/54.20%\n",
      "epoch:33/50|loss Train/Test: 0.040/3.120|accuracy Train/Test: 99.30%/57.14%\n",
      "epoch:34/50|loss Train/Test: 0.071/2.825|accuracy Train/Test: 98.30%/57.56%\n",
      "epoch:35/50|loss Train/Test: 0.049/3.020|accuracy Train/Test: 98.70%/54.62%\n",
      "epoch:36/50|loss Train/Test: 0.019/2.996|accuracy Train/Test: 100.00%/58.40%\n",
      "epoch:37/50|loss Train/Test: 0.016/2.966|accuracy Train/Test: 99.80%/57.98%\n",
      "epoch:38/50|loss Train/Test: 0.018/3.195|accuracy Train/Test: 99.70%/57.98%\n",
      "epoch:39/50|loss Train/Test: 0.010/3.452|accuracy Train/Test: 99.90%/57.98%\n",
      "epoch:40/50|loss Train/Test: 0.007/3.465|accuracy Train/Test: 100.00%/56.30%\n",
      "epoch:41/50|loss Train/Test: 0.021/3.445|accuracy Train/Test: 99.50%/58.40%\n",
      "epoch:42/50|loss Train/Test: 0.033/3.455|accuracy Train/Test: 99.40%/56.72%\n",
      "epoch:43/50|loss Train/Test: 0.050/3.614|accuracy Train/Test: 99.10%/57.98%\n",
      "epoch:44/50|loss Train/Test: 0.013/3.502|accuracy Train/Test: 99.80%/58.40%\n",
      "epoch:45/50|loss Train/Test: 0.004/3.675|accuracy Train/Test: 100.00%/57.98%\n",
      "epoch:46/50|loss Train/Test: 0.002/3.730|accuracy Train/Test: 100.00%/58.82%\n",
      "epoch:47/50|loss Train/Test: 0.002/3.826|accuracy Train/Test: 100.00%/59.66%\n",
      "epoch:48/50|loss Train/Test: 0.001/3.934|accuracy Train/Test: 100.00%/59.66%\n",
      "epoch:49/50|loss Train/Test: 0.005/4.131|accuracy Train/Test: 99.80%/58.40%\n",
      "epoch:50/50|loss Train/Test: 0.095/3.851|accuracy Train/Test: 98.00%/57.14%\n"
     ]
    }
   ],
   "source": [
    "# Lstm\n",
    "import torch.nn as nn\n",
    "hidden_size = 120\n",
    "n_classes = 3\n",
    "model = LstmNet(in_size=n_letters, hidden_size=hidden_size, out_size=n_classes)\n",
    "# loss_fun = nn.CrossEntropyLoss()\n",
    "loss_fun = nn.NLLLoss()\n",
    "optimizer = torch.optim.Adam(model.parameters(), lr=0.001)\n",
    "\n",
    "n_epochs = 50\n",
    "train_loss, test_loss, train_acc, test_acc = [], [], [], []\n",
    "N_names = len(dataset_train)\n",
    "for epoch_i in range(n_epochs):\n",
    "    model.train()\n",
    "    name_loss = []\n",
    "    name_acc = []\n",
    "    for ii, row in dataset_train.iterrows():\n",
    "        label = row.label\n",
    "        tensor = row.input_tensor\n",
    "        logits = model(tensor)\n",
    "        loss = loss_fun(logits, torch.tensor([label]))\n",
    "\n",
    "        optimizer.zero_grad()\n",
    "        loss.backward()\n",
    "        optimizer.step()\n",
    "\n",
    "        name_loss.append(loss.detach().item())\n",
    "        name_acc.append(float((torch.argmax(logits, axis=1) == label).item()))\n",
    "        print(f'name:{ii + 1}/{N_names}|{int(20 * ii / N_names) * \"=\"}{int(20 * (N_names - ii) / N_names) * \"-\"}'\n",
    "              f'|loss:{name_loss[ii]:0.3f}|accuracy:{name_acc[ii]:0.2f}%', end='\\r')\n",
    "    train_loss.append(np.mean(name_loss))\n",
    "    train_acc.append(100*(np.mean(name_acc)))\n",
    "    model.eval()\n",
    "    with torch.no_grad():\n",
    "        name_loss = []\n",
    "        name_acc = []\n",
    "        for ii, row in dataset_test.iterrows():\n",
    "            label = row.label\n",
    "            tensor = row.input_tensor\n",
    "            logits = model(tensor)\n",
    "            loss = loss_fun(logits, torch.tensor([label]))\n",
    "            name_loss.append(loss.detach().item())\n",
    "            name_acc.append(float((torch.argmax(logits, axis=1) == label).item()))\n",
    "        test_loss.append(np.mean(name_loss))\n",
    "        test_acc.append((100*np.mean(name_acc)))\n",
    "    print(f'epoch:{epoch_i + 1}/{n_epochs}|loss Train/Test: {train_loss[epoch_i]:0.3f}/{test_loss[epoch_i]:0.3f}|'\n",
    "          f'accuracy Train/Test: {train_acc[epoch_i]:0.2f}%/{test_acc[epoch_i]:0.2f}%')"
   ]
  },
  {
   "cell_type": "code",
   "execution_count": 71,
   "metadata": {
    "collapsed": false,
    "jupyter": {
     "outputs_hidden": false
    },
    "pycharm": {
     "name": "#%%\n"
    }
   },
   "outputs": [
    {
     "data": {
      "text/plain": [
       "359"
      ]
     },
     "execution_count": 71,
     "metadata": {},
     "output_type": "execute_result"
    }
   ],
   "source": [
    "(dataset_train.label == 0).sum()"
   ]
  },
  {
   "cell_type": "markdown",
   "metadata": {
    "pycharm": {
     "name": "#%% md\n"
    }
   },
   "source": [
    "# Web Scrapping"
   ]
  },
  {
   "cell_type": "code",
   "execution_count": 2,
   "metadata": {
    "collapsed": false,
    "jupyter": {
     "outputs_hidden": false
    },
    "pycharm": {
     "name": "#%%\n"
    }
   },
   "outputs": [],
   "source": [
    "# Imports\n",
    "import requests\n",
    "import numpy as np\n",
    "import pandas as pd\n",
    "from bs4 import BeautifulSoup\n",
    "import matplotlib.pyplot as plt"
   ]
  },
  {
   "cell_type": "markdown",
   "metadata": {
    "pycharm": {
     "name": "#%% md\n"
    }
   },
   "source": [
    "https://babynames.baby-land.co.il/namelist/?_sft_name_gender=boy&_sft_name_letter=%d7%90"
   ]
  },
  {
   "cell_type": "code",
   "execution_count": 5,
   "metadata": {
    "collapsed": false,
    "jupyter": {
     "outputs_hidden": false
    },
    "pycharm": {
     "name": "#%%\n"
    }
   },
   "outputs": [
    {
     "data": {
      "text/plain": [
       "<title>כל השמות | אתר השמות הגדול</title>"
      ]
     },
     "execution_count": 5,
     "metadata": {},
     "output_type": "execute_result"
    }
   ],
   "source": [
    "names_url = 'https://babynames.baby-land.co.il/namelist/?_sft_name_gender=boy&_sft_name_letter=א'\n",
    "names_response = requests.get(names_url)\n",
    "names_soup = BeautifulSoup(names_response.text, 'html.parser')\n",
    "names_soup.title"
   ]
  },
  {
   "cell_type": "code",
   "execution_count": 4,
   "metadata": {
    "collapsed": false,
    "jupyter": {
     "outputs_hidden": false
    },
    "pycharm": {
     "name": "#%%\n"
    }
   },
   "outputs": [
    {
     "data": {
      "text/plain": [
       "'אתר השמות הגדול | by Babyland'"
      ]
     },
     "execution_count": 4,
     "metadata": {},
     "output_type": "execute_result"
    }
   ],
   "source": [
    "names_soup.title.string"
   ]
  },
  {
   "cell_type": "code",
   "execution_count": 38,
   "metadata": {
    "collapsed": false,
    "jupyter": {
     "outputs_hidden": false
    },
    "pycharm": {
     "name": "#%%\n"
    }
   },
   "outputs": [
    {
     "name": "stdout",
     "output_type": "stream",
     "text": [
      "gender: unisex, letter = ת\r"
     ]
    }
   ],
   "source": [
    "base_url = 'https://babynames.baby-land.co.il/namelist/?_sft_name_gender='\n",
    "base_letter_url = \"&_sft_name_letter=\"\n",
    "first_letter = \"אבגדהוזחטיכלמנסעפצקרשת\"\n",
    "gender_url = ['boy', 'girl', 'unisex']\n",
    "boys = []\n",
    "girls = []\n",
    "unisex = []\n",
    "for gender in gender_url:\n",
    "    for letter in first_letter:\n",
    "        print(f'gender: {gender}, letter = {letter}', end='\\r')\n",
    "        url = base_url + gender + base_letter_url + letter\n",
    "        names_response = requests.get(url)\n",
    "        names_soup = BeautifulSoup(names_response.text, 'html.parser')\n",
    "        boys += [name.text for name in names_soup.find_all('a', {'class': 'boys'})]\n",
    "        girls += [name.text for name in names_soup.find_all('a', {'class': 'girl'})]\n",
    "        unisex += [name.text for name in names_soup.find_all('a', {'class': 'unisex'})]\n",
    "boys = set(boys)\n",
    "girls = set(girls)\n",
    "unisex = set(unisex)"
   ]
  },
  {
   "cell_type": "code",
   "execution_count": 39,
   "metadata": {
    "collapsed": false,
    "jupyter": {
     "outputs_hidden": false
    },
    "pycharm": {
     "name": "#%%\n"
    }
   },
   "outputs": [
    {
     "data": {
      "text/plain": [
       "388"
      ]
     },
     "execution_count": 39,
     "metadata": {},
     "output_type": "execute_result"
    }
   ],
   "source": [
    "len(unisex)"
   ]
  },
  {
   "cell_type": "code",
   "execution_count": 40,
   "metadata": {
    "collapsed": false,
    "jupyter": {
     "outputs_hidden": false
    },
    "pycharm": {
     "name": "#%%\n"
    }
   },
   "outputs": [
    {
     "data": {
      "text/plain": [
       "514"
      ]
     },
     "execution_count": 40,
     "metadata": {},
     "output_type": "execute_result"
    }
   ],
   "source": [
    "len(boys)"
   ]
  },
  {
   "cell_type": "code",
   "execution_count": 41,
   "metadata": {
    "collapsed": false,
    "jupyter": {
     "outputs_hidden": false
    },
    "pycharm": {
     "name": "#%%\n"
    }
   },
   "outputs": [
    {
     "data": {
      "text/plain": [
       "695"
      ]
     },
     "execution_count": 41,
     "metadata": {},
     "output_type": "execute_result"
    }
   ],
   "source": [
    "len(girls)"
   ]
  },
  {
   "cell_type": "code",
   "execution_count": 42,
   "metadata": {
    "collapsed": false,
    "jupyter": {
     "outputs_hidden": false
    },
    "pycharm": {
     "name": "#%%\n"
    }
   },
   "outputs": [
    {
     "data": {
      "text/plain": [
       "{'אבא',\n",
       " 'אבטמו',\n",
       " 'אביגדור',\n",
       " 'אבידן',\n",
       " 'אביהו',\n",
       " 'אביחי',\n",
       " 'אבימלך',\n",
       " 'אבינדב',\n",
       " 'אבינועם',\n",
       " 'אבינעם',\n",
       " 'אביעד',\n",
       " 'אביצור',\n",
       " 'אביר',\n",
       " 'אבירם',\n",
       " 'אבישי',\n",
       " 'אבישר',\n",
       " 'אביתר',\n",
       " 'אבנר',\n",
       " 'אברהם',\n",
       " 'אבשלום',\n",
       " 'אדי',\n",
       " 'אדיר',\n",
       " 'אדם',\n",
       " 'אהוד',\n",
       " 'אהרון',\n",
       " 'אודי',\n",
       " 'אוהד',\n",
       " 'אולג',\n",
       " 'אוליבייה',\n",
       " 'אומרי',\n",
       " 'און',\n",
       " 'אוניל',\n",
       " 'אחיה',\n",
       " 'אחינדב',\n",
       " 'איאן',\n",
       " 'אידו',\n",
       " 'אייזיק',\n",
       " 'איל',\n",
       " 'איליי',\n",
       " 'אילן',\n",
       " 'אילעאי',\n",
       " 'אילעי',\n",
       " 'איציק',\n",
       " 'איתי',\n",
       " 'איתיאל',\n",
       " 'איתם',\n",
       " 'איתמר',\n",
       " 'איתן',\n",
       " 'אל',\n",
       " 'אלאור',\n",
       " 'אלדד',\n",
       " 'אלדר',\n",
       " 'אלון',\n",
       " 'אלחי',\n",
       " 'אלחנן',\n",
       " 'אלטר',\n",
       " 'אליאב',\n",
       " 'אליאל',\n",
       " 'אליאם',\n",
       " 'אליאס',\n",
       " 'אליהב',\n",
       " 'אליהו',\n",
       " 'אליחי',\n",
       " 'אלימלך',\n",
       " 'אליסף',\n",
       " 'אליעד',\n",
       " 'אליעוז',\n",
       " 'אליעזר',\n",
       " 'אליעם',\n",
       " 'אליקים',\n",
       " 'אלירוי',\n",
       " 'אלירון',\n",
       " 'אלירם',\n",
       " 'אלירן',\n",
       " 'אלישי',\n",
       " 'אלישיב',\n",
       " 'אלישמע',\n",
       " 'אלישע',\n",
       " 'אלכסנדר',\n",
       " 'אלן',\n",
       " 'אלנתן',\n",
       " 'אלעאי',\n",
       " 'אלעד',\n",
       " 'אלעזר',\n",
       " 'אלקיים',\n",
       " 'אלקנה',\n",
       " 'אלרואי',\n",
       " 'אלרוי',\n",
       " 'אלרום',\n",
       " 'אלרועי',\n",
       " 'אלתר',\n",
       " 'אמוץ',\n",
       " 'אמיל',\n",
       " 'אמיר',\n",
       " 'אמיתי',\n",
       " 'אמנון',\n",
       " 'אמציה',\n",
       " 'אנוש',\n",
       " 'אנטוני',\n",
       " 'אסא',\n",
       " 'אסיף',\n",
       " 'אסף',\n",
       " 'אפרים',\n",
       " 'ארד',\n",
       " 'ארז',\n",
       " 'ארטיום',\n",
       " 'ארי',\n",
       " 'אריה',\n",
       " 'אריק',\n",
       " 'ארכדי',\n",
       " 'ארמין',\n",
       " 'ארנון',\n",
       " 'ארקדי',\n",
       " 'ארתור',\n",
       " 'אשל',\n",
       " 'אשר',\n",
       " 'אתגר',\n",
       " 'בועז',\n",
       " 'בוריס',\n",
       " 'בירן',\n",
       " 'בכור',\n",
       " 'בן',\n",
       " 'בן אל',\n",
       " 'בן-אל',\n",
       " 'בן-ציון',\n",
       " 'בנאל',\n",
       " \"בנג'י\",\n",
       " \"בנג'מין\",\n",
       " 'בנו',\n",
       " 'בני',\n",
       " 'בניה',\n",
       " 'בניהו',\n",
       " 'בנימין',\n",
       " 'בצלאל',\n",
       " 'בראל',\n",
       " 'ברוך',\n",
       " \"ג'וליאן\",\n",
       " \"ג'ון\",\n",
       " \"ג'ונאס\",\n",
       " \"ג'וני\",\n",
       " \"ג'ונתן\",\n",
       " \"ג'ושוע\",\n",
       " \"ג'רמי\",\n",
       " 'גאי',\n",
       " 'גבע',\n",
       " 'גברי',\n",
       " 'גד',\n",
       " 'גדי',\n",
       " 'גדיאל',\n",
       " 'גדליה',\n",
       " 'גדעון',\n",
       " 'גואל',\n",
       " 'גולן',\n",
       " 'גונן',\n",
       " 'גור',\n",
       " 'גורי',\n",
       " 'גידי',\n",
       " 'גיורא',\n",
       " 'גלעד',\n",
       " 'גמליאל',\n",
       " 'גרשון',\n",
       " 'דאניאל',\n",
       " 'דב',\n",
       " 'דביר',\n",
       " 'דדי',\n",
       " 'דובב',\n",
       " 'דובער',\n",
       " 'דוד',\n",
       " 'דודו',\n",
       " 'דודי',\n",
       " 'דולב',\n",
       " 'דונלד',\n",
       " 'דורי',\n",
       " 'דיאגו',\n",
       " 'דיוויד',\n",
       " 'דיויד',\n",
       " 'דייגו',\n",
       " 'דילן',\n",
       " 'דימה',\n",
       " 'דימיטרי',\n",
       " 'דין',\n",
       " 'דמיטרי',\n",
       " 'דן',\n",
       " 'דנאל',\n",
       " 'הארי',\n",
       " 'הוד',\n",
       " 'הילאי',\n",
       " 'הנרי',\n",
       " 'הרצל',\n",
       " 'וולטר',\n",
       " 'ויטלי',\n",
       " 'ויקטור',\n",
       " 'ולדימיר',\n",
       " 'זאב',\n",
       " 'זבולון',\n",
       " 'זכאי',\n",
       " 'זכריה',\n",
       " 'זלמן',\n",
       " 'חביב',\n",
       " 'חגי',\n",
       " 'חובב',\n",
       " 'חזי',\n",
       " 'חזקיהו',\n",
       " 'חי',\n",
       " 'חיים',\n",
       " 'חנוך',\n",
       " 'חנן',\n",
       " 'חננאל',\n",
       " 'חנניה',\n",
       " 'חריש',\n",
       " 'טוביה',\n",
       " 'טום',\n",
       " 'טומי',\n",
       " 'טים',\n",
       " 'טימותי',\n",
       " 'טמסגן',\n",
       " 'יאיר',\n",
       " 'יאן',\n",
       " 'יאר',\n",
       " 'יאשיהו',\n",
       " 'יבגני',\n",
       " 'יגאל',\n",
       " 'יגיל',\n",
       " 'ידיד',\n",
       " 'ידידיה',\n",
       " 'ידין',\n",
       " 'יהודה',\n",
       " 'יהונתן',\n",
       " 'יהורם',\n",
       " 'יהושע',\n",
       " 'יואב',\n",
       " 'יואל',\n",
       " 'יובב',\n",
       " 'יוגב',\n",
       " 'יוהד',\n",
       " 'יוחאי',\n",
       " 'יוחנן',\n",
       " 'יון',\n",
       " 'יונדב',\n",
       " 'יונס',\n",
       " 'יונתן',\n",
       " 'יוסי',\n",
       " 'יוסף',\n",
       " 'יועד',\n",
       " 'יוראי',\n",
       " 'יורם',\n",
       " 'יותם',\n",
       " 'יזהר',\n",
       " 'יחזקאל',\n",
       " 'יחיאל',\n",
       " 'יחיעם',\n",
       " 'ינאי',\n",
       " 'ינון',\n",
       " 'יניב',\n",
       " 'יניר',\n",
       " 'ינעם',\n",
       " 'ינץ',\n",
       " 'יעד',\n",
       " 'יעלון',\n",
       " 'יעקב',\n",
       " 'יעקוב',\n",
       " 'יערי',\n",
       " 'יפתח',\n",
       " 'יצחק',\n",
       " 'יקותיאל',\n",
       " 'יקי',\n",
       " 'יקיר',\n",
       " 'יראל',\n",
       " 'ירון',\n",
       " 'ירחמיאל',\n",
       " 'ירמי',\n",
       " 'ירמיהו',\n",
       " 'ישורון',\n",
       " 'ישי',\n",
       " 'ישכר',\n",
       " 'ישעי',\n",
       " 'ישעיה',\n",
       " 'ישעיהו',\n",
       " 'ישראל',\n",
       " 'יששכר',\n",
       " 'יתיר',\n",
       " 'כפיר',\n",
       " 'לאו',\n",
       " 'לאון',\n",
       " 'לאוניד',\n",
       " 'לב',\n",
       " 'לביא',\n",
       " 'לוי',\n",
       " 'ליאו',\n",
       " 'ליאון',\n",
       " 'ליטן',\n",
       " 'ליעוז',\n",
       " 'ליעם',\n",
       " 'לירוי',\n",
       " 'לירם',\n",
       " 'מאורי',\n",
       " 'מאיר',\n",
       " 'מבשר',\n",
       " 'מואב',\n",
       " 'מורי',\n",
       " 'מי-רון',\n",
       " 'מידד',\n",
       " 'מידן',\n",
       " 'מייק',\n",
       " 'מייקל',\n",
       " 'מיכאל',\n",
       " 'מיכה',\n",
       " 'מירון',\n",
       " 'מישאל',\n",
       " 'מלאכי',\n",
       " 'מלכיאור',\n",
       " 'מלכיאל',\n",
       " 'מנגיסטו',\n",
       " 'מנדל',\n",
       " 'מנחם',\n",
       " 'מני',\n",
       " 'מנשה',\n",
       " 'מעוז',\n",
       " 'מקונן',\n",
       " 'מקס',\n",
       " 'מקסים',\n",
       " 'מקסימיליאן',\n",
       " 'מרדכי',\n",
       " 'מריאנו',\n",
       " 'מרק',\n",
       " 'משה',\n",
       " 'משולם',\n",
       " 'מתיא',\n",
       " 'מתנאל',\n",
       " 'מתניה',\n",
       " 'מתתיהו',\n",
       " 'נבו',\n",
       " 'נבות',\n",
       " 'נגב',\n",
       " 'נדב',\n",
       " 'נדיב',\n",
       " 'נהוראי',\n",
       " 'נוב',\n",
       " 'נוה',\n",
       " 'נווה',\n",
       " 'נועד',\n",
       " 'נוריאל',\n",
       " 'נח',\n",
       " 'נחום',\n",
       " 'נחמיה',\n",
       " 'נחמן',\n",
       " 'נחשון',\n",
       " 'ניב',\n",
       " 'ניסים',\n",
       " 'ניק',\n",
       " 'ניקו',\n",
       " 'נירן',\n",
       " 'ניתאי',\n",
       " 'ניתן',\n",
       " 'נמרוד',\n",
       " 'נעים',\n",
       " 'נעמן',\n",
       " 'נפתלי',\n",
       " 'נץ',\n",
       " 'נצח',\n",
       " 'נצר',\n",
       " 'נתאי',\n",
       " 'נתיב',\n",
       " 'נתן',\n",
       " 'נתנאל',\n",
       " 'סבסטיאן',\n",
       " 'סטיב',\n",
       " 'סטיבן',\n",
       " 'סטפן',\n",
       " 'סיימון',\n",
       " 'סיני',\n",
       " 'סמואל',\n",
       " 'סמי',\n",
       " 'עברי',\n",
       " 'עדיאל',\n",
       " 'עובד',\n",
       " 'עובדיה',\n",
       " 'עודד',\n",
       " 'עוז',\n",
       " 'עוזי',\n",
       " 'עוזיאל',\n",
       " 'עומרי',\n",
       " 'עופר',\n",
       " 'עז',\n",
       " 'עזר',\n",
       " 'עזרא',\n",
       " 'עזריאל',\n",
       " 'עזריה',\n",
       " 'עידו',\n",
       " 'עיטם',\n",
       " 'עילאי',\n",
       " 'עילום',\n",
       " 'עילי',\n",
       " 'עיליי',\n",
       " 'עילם',\n",
       " 'עלי',\n",
       " 'עלם',\n",
       " 'עמוס',\n",
       " 'עמי',\n",
       " 'עמיאל',\n",
       " 'עמיחי',\n",
       " 'עמינדב',\n",
       " 'עמיעד',\n",
       " 'עמיר',\n",
       " 'עמירם',\n",
       " 'עמר',\n",
       " 'עמרי',\n",
       " 'עמרם',\n",
       " 'ענר',\n",
       " 'עקיבא',\n",
       " 'עקיבה',\n",
       " 'ערן',\n",
       " 'עשהאל',\n",
       " 'עתי',\n",
       " 'עתיר',\n",
       " 'פביאן',\n",
       " 'פורת',\n",
       " 'פיליפ',\n",
       " 'פינחס',\n",
       " 'פלא',\n",
       " 'פנחס',\n",
       " 'פסח',\n",
       " 'פרי',\n",
       " \"צ'ארלס\",\n",
       " \"צ'רלס\",\n",
       " 'צבי',\n",
       " 'צביקה',\n",
       " 'צבר',\n",
       " 'צדוק',\n",
       " 'צדק',\n",
       " 'צהל',\n",
       " 'צוק',\n",
       " 'צורי',\n",
       " 'צוריאל',\n",
       " 'צח',\n",
       " 'צחי',\n",
       " 'ציון',\n",
       " 'צמח',\n",
       " 'צפריר',\n",
       " 'קאי',\n",
       " 'קארל',\n",
       " 'קדוש',\n",
       " 'קובי',\n",
       " 'קורן',\n",
       " 'קיליגן',\n",
       " 'קינן',\n",
       " 'קלמן',\n",
       " 'קציר',\n",
       " 'קרל',\n",
       " 'קרלוס',\n",
       " 'ראובן',\n",
       " 'ראול',\n",
       " 'ראיין',\n",
       " 'ראם',\n",
       " 'רגב',\n",
       " 'רואי',\n",
       " 'רובי',\n",
       " 'רודד',\n",
       " 'רווה',\n",
       " 'רוי',\n",
       " 'רומן',\n",
       " 'רונאל',\n",
       " 'רונן',\n",
       " 'רוסטה',\n",
       " 'רועי',\n",
       " 'רזיאל',\n",
       " 'רחמט',\n",
       " 'רחמים',\n",
       " 'ריו',\n",
       " 'ריי',\n",
       " \"ריצ'ארד\",\n",
       " \"ריצ'י\",\n",
       " \"ריצ'רד\",\n",
       " 'רם',\n",
       " 'רמי',\n",
       " 'רן',\n",
       " 'רע',\n",
       " 'רעי',\n",
       " 'רענן',\n",
       " 'רפאל',\n",
       " 'רפי',\n",
       " 'רצון',\n",
       " 'רשף',\n",
       " 'שאול',\n",
       " 'שבתאי',\n",
       " 'שבתי',\n",
       " 'שגב',\n",
       " 'שגיב',\n",
       " 'שון',\n",
       " 'שחק',\n",
       " 'שילו',\n",
       " 'שימעון',\n",
       " 'שלום',\n",
       " 'שלומי',\n",
       " 'שלם',\n",
       " 'שלמה',\n",
       " 'שם',\n",
       " 'שמאי',\n",
       " 'שמואל',\n",
       " 'שמוליק',\n",
       " 'שמעון',\n",
       " 'שמעיה',\n",
       " 'שמשון',\n",
       " 'שניאור',\n",
       " 'שר-אל',\n",
       " 'שראל',\n",
       " 'שרגא',\n",
       " 'ששון',\n",
       " 'תומאס',\n",
       " 'תומי',\n",
       " 'תומס',\n",
       " 'תיאו',\n",
       " 'תים',\n",
       " 'תמיר'}"
      ]
     },
     "execution_count": 42,
     "metadata": {},
     "output_type": "execute_result"
    }
   ],
   "source": [
    "boys"
   ]
  },
  {
   "cell_type": "code",
   "execution_count": null,
   "metadata": {
    "collapsed": false,
    "jupyter": {
     "outputs_hidden": false
    },
    "pycharm": {
     "name": "#%%\n"
    }
   },
   "outputs": [],
   "source": []
  }
 ],
 "metadata": {
  "kernelspec": {
   "display_name": "Python 3 (ipykernel)",
   "language": "python",
   "name": "python3"
  },
  "language_info": {
   "codemirror_mode": {
    "name": "ipython",
    "version": 3
   },
   "file_extension": ".py",
   "mimetype": "text/x-python",
   "name": "python",
   "nbconvert_exporter": "python",
   "pygments_lexer": "ipython3",
   "version": "3.9.13"
  }
 },
 "nbformat": 4,
 "nbformat_minor": 4
}