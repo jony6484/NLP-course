{
 "cells": [
  {
   "cell_type": "code",
   "execution_count": 2,
   "id": "a823f2f7",
   "metadata": {},
   "outputs": [],
   "source": [
    "import torch\n",
    "\n",
    "import transformers\n",
    "from transformers import AutoModel, AutoModelForMaskedLM, AutoTokenizer\n",
    "\n",
    "import matplotlib.pyplot as plt\n",
    "\n",
    "from timeit import timeit"
   ]
  },
  {
   "cell_type": "code",
   "execution_count": 3,
   "id": "c814c920",
   "metadata": {},
   "outputs": [],
   "source": [
    "BERT = 'bert-base-uncased'\n",
    "ROBERTA = 'roberta-base'\n",
    "SPANBERT = 'SpanBERT/spanbert-base-cased'\n",
    "BIGBIRD = 'google/bigbird-roberta-base'\n",
    "DISTILBERT = 'distilbert-base-uncased'"
   ]
  },
  {
   "cell_type": "markdown",
   "id": "d6111841",
   "metadata": {},
   "source": [
    "# Recitation + Tutorial 12\n",
    "\n",
    "In this recitation/tutorial we will compare different models in regard to their inference time and their language modeling capabilities."
   ]
  },
  {
   "cell_type": "markdown",
   "id": "1301ce12",
   "metadata": {},
   "source": [
    "## BERT vs. DistilBERT"
   ]
  },
  {
   "cell_type": "code",
   "execution_count": 4,
   "id": "509a2497",
   "metadata": {},
   "outputs": [
    {
     "name": "stderr",
     "output_type": "stream",
     "text": [
      "Some weights of the model checkpoint at bert-base-uncased were not used when initializing BertModel: ['cls.predictions.transform.dense.weight', 'cls.predictions.decoder.weight', 'cls.predictions.transform.LayerNorm.weight', 'cls.predictions.transform.dense.bias', 'cls.seq_relationship.weight', 'cls.seq_relationship.bias', 'cls.predictions.transform.LayerNorm.bias', 'cls.predictions.bias']\n",
      "- This IS expected if you are initializing BertModel from the checkpoint of a model trained on another task or with another architecture (e.g. initializing a BertForSequenceClassification model from a BertForPreTraining model).\n",
      "- This IS NOT expected if you are initializing BertModel from the checkpoint of a model that you expect to be exactly identical (initializing a BertForSequenceClassification model from a BertForSequenceClassification model).\n"
     ]
    },
    {
     "name": "stdout",
     "output_type": "stream",
     "text": [
      "bert-base-uncased inference time: 3.9588373000000274\n"
     ]
    },
    {
     "name": "stderr",
     "output_type": "stream",
     "text": [
      "Some weights of the model checkpoint at distilbert-base-uncased were not used when initializing DistilBertModel: ['vocab_transform.weight', 'vocab_layer_norm.weight', 'vocab_projector.weight', 'vocab_layer_norm.bias', 'vocab_transform.bias', 'vocab_projector.bias']\n",
      "- This IS expected if you are initializing DistilBertModel from the checkpoint of a model trained on another task or with another architecture (e.g. initializing a BertForSequenceClassification model from a BertForPreTraining model).\n",
      "- This IS NOT expected if you are initializing DistilBertModel from the checkpoint of a model that you expect to be exactly identical (initializing a BertForSequenceClassification model from a BertForSequenceClassification model).\n"
     ]
    },
    {
     "name": "stdout",
     "output_type": "stream",
     "text": [
      "distilbert-base-uncased inference time: 1.9593150000000037\n"
     ]
    }
   ],
   "source": [
    "for model_name in [BERT, DISTILBERT]:\n",
    "    input_ids = torch.ones((1, 100), dtype=torch.long)\n",
    "    model = AutoModel.from_pretrained(model_name)\n",
    "    print(f\"{model_name} inference time: {timeit(lambda: model(input_ids), number=10)}\")"
   ]
  },
  {
   "cell_type": "markdown",
   "id": "6124f6ce",
   "metadata": {},
   "source": [
    "## BERT vs. BigBird"
   ]
  },
  {
   "cell_type": "code",
   "execution_count": 5,
   "id": "fc9749b6",
   "metadata": {},
   "outputs": [
    {
     "name": "stderr",
     "output_type": "stream",
     "text": [
      "Some weights of the model checkpoint at bert-base-uncased were not used when initializing BertModel: ['cls.predictions.transform.dense.weight', 'cls.predictions.decoder.weight', 'cls.predictions.transform.LayerNorm.weight', 'cls.predictions.transform.dense.bias', 'cls.seq_relationship.weight', 'cls.seq_relationship.bias', 'cls.predictions.transform.LayerNorm.bias', 'cls.predictions.bias']\n",
      "- This IS expected if you are initializing BertModel from the checkpoint of a model trained on another task or with another architecture (e.g. initializing a BertForSequenceClassification model from a BertForPreTraining model).\n",
      "- This IS NOT expected if you are initializing BertModel from the checkpoint of a model that you expect to be exactly identical (initializing a BertForSequenceClassification model from a BertForSequenceClassification model).\n",
      "Some weights of the model checkpoint at google/bigbird-roberta-base were not used when initializing BigBirdModel: ['cls.predictions.transform.dense.weight', 'cls.predictions.decoder.weight', 'cls.predictions.transform.LayerNorm.weight', 'cls.predictions.transform.dense.bias', 'cls.predictions.decoder.bias', 'cls.seq_relationship.weight', 'cls.seq_relationship.bias', 'cls.predictions.transform.LayerNorm.bias', 'cls.predictions.bias']\n",
      "- This IS expected if you are initializing BigBirdModel from the checkpoint of a model trained on another task or with another architecture (e.g. initializing a BertForSequenceClassification model from a BertForPreTraining model).\n",
      "- This IS NOT expected if you are initializing BigBirdModel from the checkpoint of a model that you expect to be exactly identical (initializing a BertForSequenceClassification model from a BertForSequenceClassification model).\n",
      "Attention type 'block_sparse' is not possible if sequence_length: 10 <= num global tokens: 2 * config.block_size + min. num sliding tokens: 3 * config.block_size + config.num_random_blocks * config.block_size + additional buffer: config.num_random_blocks * config.block_size = 704 with config.block_size = 64, config.num_random_blocks = 3. Changing attention type to 'original_full'...\n"
     ]
    }
   ],
   "source": [
    "x_values = [10 * i for i in range(1, 52)]\n",
    "results = {}\n",
    "for model_name in [BERT, BIGBIRD]:\n",
    "    model = AutoModel.from_pretrained(model_name)\n",
    "    model_results = []\n",
    "    for input_length in x_values:\n",
    "        input_ids = torch.ones((1, input_length), dtype=torch.long)\n",
    "        model_results.append(timeit(lambda: model(input_ids), number=3))\n",
    "    results[model_name] = model_results"
   ]
  },
  {
   "cell_type": "code",
   "execution_count": 6,
   "id": "c37a759e",
   "metadata": {},
   "outputs": [
    {
     "data": {
      "text/plain": [
       "<matplotlib.legend.Legend at 0x23613f6db20>"
      ]
     },
     "execution_count": 6,
     "metadata": {},
     "output_type": "execute_result"
    },
    {
     "data": {
      "image/png": "[encoded data removed]",
      "text/plain": [
       "<Figure size 432x288 with 1 Axes>"
      ]
     },
     "metadata": {
      "needs_background": "light"
     },
     "output_type": "display_data"
    }
   ],
   "source": [
    "plt.plot(results[BERT], x_values, label=BERT)\n",
    "plt.plot(results[BIGBIRD], x_values, label=BIGBIRD)\n",
    "plt.legend()"
   ]
  },
  {
   "cell_type": "markdown",
   "id": "20f1d4ea",
   "metadata": {},
   "source": [
    "## Comparing Masked Language Modeling Capabilities\n",
    "\n",
    "    1. Find three quotes you like https://www.goodreads.com/quotes and store them in a list named 'texts'.\n",
    "    2. Mask out some words and replace them with [MASK]. Make sure you replace them with an appropriate number of [MASK] tokens (for example the word 'influential' might be composed of multiple subword tokens). Use the model's tokenizer to see how many mask tokens are required.\n",
    "    3. Iterate over a few models of interest and compare their predictions on the masked inputs. Use AutoModelForMaskedLM to load the model with an MLM head.\n",
    "    4. Print useful messages."
   ]
  },
  {
   "cell_type": "code",
   "execution_count": 86,
   "id": "ff0d835f",
   "metadata": {},
   "outputs": [],
   "source": [
    "texts = [\n",
    "    \"Two things are infinite: the universe and human stupidity; and I'm not sure about the universe.\",\n",
    "    \"You know you're in love when you can't fall asleep because reality is finally better than your dreams.\"\n",
    "]\n",
    "masked_texts = [\n",
    "    \"Two things are infinite: the universe and human [MASK]; and I'm not sure about the universe.\",\n",
    "    \"You know you're in love when you can't fall asleep because reality is [MASK] better than your dreams.\"\n",
    "]"
   ]
  },
  {
   "cell_type": "code",
   "execution_count": null,
   "id": "80d33741",
   "metadata": {},
   "outputs": [],
   "source": [
    "# Iterate over models\n",
    "for model_name in []:\n",
    "    # Load tokenizer and ModelForMaskedLM\n",
    "    tokenizer = \n",
    "    model = \n",
    "    \n",
    "    print(f'\\n\\n------ {model_name} ------')\n",
    "    \n",
    "    # Iterate over texts\n",
    "    for text, masked_text in zip(texts, masked_texts):\n",
    "        print(f\"Original text: {text}\")\n",
    "        print(f\"Masked text: {masked_text}\")\n",
    "        # Encode masked text, make sure to return tensors\n",
    "        input_ids = \n",
    "        \n",
    "        # Extract indices of mask tokens (you will use this later)\n",
    "        masked_indices = \n",
    "        \n",
    "        # Run input_ids through model\n",
    "        predictions = \n",
    "        \n",
    "        # For each mask token see model's prediction\n",
    "        for masked_index in masked_indices:\n",
    "            # Extract the index of the largest logit\n",
    "            predicted_index = \n",
    "            # See what token the index represents\n",
    "            predicted_token = \n",
    "            print(f\"Predictions: {predicted_token}\\n\")"
   ]
  }
 ],
 "metadata": {
  "kernelspec": {
   "display_name": "Python 3",
   "language": "python",
   "name": "python3"
  },
  "language_info": {
   "codemirror_mode": {
    "name": "ipython",
    "version": 3
   },
   "file_extension": ".py",
   "mimetype": "text/x-python",
   "name": "python",
   "nbconvert_exporter": "python",
   "pygments_lexer": "ipython3",
   "version": "3.8.8"
  }
 },
 "nbformat": 4,
 "nbformat_minor": 5
}
