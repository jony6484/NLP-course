{
 "cells": [
  {
   "cell_type": "markdown",
   "metadata": {
    "collapsed": true,
    "pycharm": {
     "name": "#%% md\n"
    }
   },
   "source": [
    "# Recitation 1\n",
    "Reading files, Splitting strings, List comprehension, Lambda Functions, SKLearn, Analyzing results"
   ]
  },
  {
   "cell_type": "markdown",
   "source": [
    "We want to be able to parse this text file into a dataset:\n",
    "\n",
    " >  This is a happy text,1\n",
    "    This is a sad text,0\n",
    "    This too is a happy text,1\n",
    "\n",
    "The file is saved under \"some_text.txt\""
   ],
   "metadata": {
    "collapsed": false,
    "pycharm": {
     "name": "#%% md\n"
    }
   }
  },
  {
   "cell_type": "markdown",
   "source": [
    "## Reading Files"
   ],
   "metadata": {
    "collapsed": false,
    "pycharm": {
     "name": "#%% md\n"
    }
   }
  },
  {
   "cell_type": "code",
   "execution_count": 1,
   "outputs": [
    {
     "name": "stdout",
     "output_type": "stream",
     "text": [
      "--read--\n",
      "This is a happy text,1\n",
      "This is a sad text,0\n",
      "This too is a happy text,1\n",
      "\n",
      "--readline--\n",
      "This is a happy text,1\n",
      "\n",
      "\n",
      "--readlines--\n",
      "['This is a happy text,1\\n', 'This is a sad text,0\\n', 'This too is a happy text,1']\n"
     ]
    }
   ],
   "source": [
    "with open(\"some_text.txt\", \"r\") as f:\n",
    "    read = f.read()\n",
    "\n",
    "print(\"--read--\")\n",
    "print(read)\n",
    "\n",
    "\n",
    "with open(\"some_text.txt\", \"r\") as f:\n",
    "    readline = f.readline()\n",
    "\n",
    "print(\"\\n--readline--\")\n",
    "print(readline)\n",
    "\n",
    "\n",
    "with open(\"some_text.txt\", \"r\") as f:\n",
    "    readlines = f.readlines()\n",
    "\n",
    "print(\"\\n--readlines--\")\n",
    "print(readlines)"
   ],
   "metadata": {
    "collapsed": false,
    "pycharm": {
     "name": "#%%\n"
    }
   }
  },
  {
   "cell_type": "markdown",
   "source": [
    "## List Comprehension"
   ],
   "metadata": {
    "collapsed": false,
    "pycharm": {
     "name": "#%% md\n"
    }
   }
  },
  {
   "cell_type": "markdown",
   "source": [
    "Let's say we have a list of integeres and we want to multiply each element by 2"
   ],
   "metadata": {
    "collapsed": false,
    "pycharm": {
     "name": "#%% md\n"
    }
   }
  },
  {
   "cell_type": "code",
   "execution_count": 2,
   "outputs": [],
   "source": [
    "a = [1, 2, 3, 4, 5, 6]"
   ],
   "metadata": {
    "collapsed": false,
    "pycharm": {
     "name": "#%%\n"
    }
   }
  },
  {
   "cell_type": "markdown",
   "source": [
    "This won't work:"
   ],
   "metadata": {
    "collapsed": false,
    "pycharm": {
     "name": "#%% md\n"
    }
   }
  },
  {
   "cell_type": "code",
   "execution_count": 3,
   "outputs": [
    {
     "name": "stdout",
     "output_type": "stream",
     "text": [
      "[1, 2, 3, 4, 5, 6, 1, 2, 3, 4, 5, 6]\n"
     ]
    }
   ],
   "source": [
    "b = a * 2\n",
    "print(b)"
   ],
   "metadata": {
    "collapsed": false,
    "pycharm": {
     "name": "#%%\n"
    }
   }
  },
  {
   "cell_type": "markdown",
   "source": [
    "First way:"
   ],
   "metadata": {
    "collapsed": false,
    "pycharm": {
     "name": "#%% md\n"
    }
   }
  },
  {
   "cell_type": "code",
   "execution_count": 4,
   "outputs": [
    {
     "name": "stdout",
     "output_type": "stream",
     "text": [
      "[2, 4, 6, 8, 10, 12]\n"
     ]
    }
   ],
   "source": [
    "b = []\n",
    "for i in a:\n",
    "    b.append(i * 2)\n",
    "print(b)"
   ],
   "metadata": {
    "collapsed": false,
    "pycharm": {
     "name": "#%%\n"
    }
   }
  },
  {
   "cell_type": "markdown",
   "source": [
    "This is more elegant and more efficient;"
   ],
   "metadata": {
    "collapsed": false,
    "pycharm": {
     "name": "#%% md\n"
    }
   }
  },
  {
   "cell_type": "code",
   "execution_count": 5,
   "outputs": [
    {
     "name": "stdout",
     "output_type": "stream",
     "text": [
      "[2, 4, 6, 8, 10, 12]\n"
     ]
    }
   ],
   "source": [
    "b = [i * 2 for i in a]\n",
    "print(b)"
   ],
   "metadata": {
    "collapsed": false,
    "pycharm": {
     "name": "#%%\n"
    }
   }
  },
  {
   "cell_type": "markdown",
   "source": [
    "### Adding conditions"
   ],
   "metadata": {
    "collapsed": false,
    "pycharm": {
     "name": "#%% md\n"
    }
   }
  },
  {
   "cell_type": "markdown",
   "source": [
    "Now let's say we want to get only the even numbers in the list. First way:"
   ],
   "metadata": {
    "collapsed": false,
    "pycharm": {
     "name": "#%% md\n"
    }
   }
  },
  {
   "cell_type": "code",
   "execution_count": 6,
   "outputs": [
    {
     "name": "stdout",
     "output_type": "stream",
     "text": [
      "[2, 4, 6]\n"
     ]
    }
   ],
   "source": [
    "b = []\n",
    "for i in a:\n",
    "    if i % 2 ==0:\n",
    "        b.append(i)\n",
    "print(b)"
   ],
   "metadata": {
    "collapsed": false,
    "pycharm": {
     "name": "#%%\n"
    }
   }
  },
  {
   "cell_type": "markdown",
   "source": [
    "With list comprehension"
   ],
   "metadata": {
    "collapsed": false,
    "pycharm": {
     "name": "#%% md\n"
    }
   }
  },
  {
   "cell_type": "code",
   "execution_count": 7,
   "outputs": [
    {
     "name": "stdout",
     "output_type": "stream",
     "text": [
      "[2, 4, 6]\n"
     ]
    }
   ],
   "source": [
    "b = [i for i in a if i % 2 == 0]\n",
    "print(b)"
   ],
   "metadata": {
    "collapsed": false,
    "pycharm": {
     "name": "#%%\n"
    }
   }
  },
  {
   "cell_type": "markdown",
   "source": [
    "### Strip function"
   ],
   "metadata": {
    "collapsed": false,
    "pycharm": {
     "name": "#%% md\n"
    }
   }
  },
  {
   "cell_type": "code",
   "execution_count": 8,
   "outputs": [
    {
     "name": "stdout",
     "output_type": "stream",
     "text": [
      "strip: 'This is a happy sentence,1'\n",
      "rstrip: '\\nThis is a happy sentence,1'\n",
      "lstrip: 'This is a happy sentence,1\\n'\n",
      "strip tabs: 'This is a happy sentence,1'\n",
      "strip spaces: 'This is a happy sentence,1'\n"
     ]
    }
   ],
   "source": [
    "s1 = \"\\nThis is a happy sentence,1\\n\"\n",
    "print(f\"strip: {repr(s1.strip())}\")\n",
    "print(f\"rstrip: {repr(s1.rstrip())}\")\n",
    "print(f\"lstrip: {repr(s1.lstrip())}\")\n",
    "\n",
    "s2 = \"\\tThis is a happy sentence,1\\t\"\n",
    "s3 = \"    This is a happy sentence,1    \"\n",
    "print(f\"strip tabs: {repr(s1.strip())}\")\n",
    "print(f\"strip spaces: {repr(s1.strip())}\")"
   ],
   "metadata": {
    "collapsed": false,
    "pycharm": {
     "name": "#%%\n"
    }
   }
  },
  {
   "cell_type": "markdown",
   "source": [
    "### Stripping the \\n"
   ],
   "metadata": {
    "collapsed": false,
    "pycharm": {
     "name": "#%% md\n"
    }
   }
  },
  {
   "cell_type": "code",
   "execution_count": 9,
   "outputs": [
    {
     "name": "stdout",
     "output_type": "stream",
     "text": [
      "--readlines--\n",
      "['This is a happy text,1\\n', 'This is a sad text,0\\n', 'This too is a happy text,1']\n"
     ]
    }
   ],
   "source": [
    "with open(\"some_text.txt\", \"r\") as f:\n",
    "    readlines = f.readlines()\n",
    "\n",
    "print(\"--readlines--\")\n",
    "print(readlines)"
   ],
   "metadata": {
    "collapsed": false,
    "pycharm": {
     "name": "#%%\n"
    }
   }
  },
  {
   "cell_type": "code",
   "execution_count": 10,
   "outputs": [
    {
     "name": "stdout",
     "output_type": "stream",
     "text": [
      "--stripped readlines--\n",
      "['This is a happy text,1', 'This is a sad text,0', 'This too is a happy text,1']\n"
     ]
    }
   ],
   "source": [
    "with open(\"some_text.txt\", \"r\") as f:\n",
    "    stripped_realines = [line.strip() for line in f.readlines()]\n",
    "\n",
    "print(\"--stripped readlines--\")\n",
    "print(stripped_realines)"
   ],
   "metadata": {
    "collapsed": false,
    "pycharm": {
     "name": "#%%\n"
    }
   }
  },
  {
   "cell_type": "markdown",
   "source": [
    "## Splitting to sentences and labels"
   ],
   "metadata": {
    "collapsed": false,
    "pycharm": {
     "name": "#%% md\n"
    }
   }
  },
  {
   "cell_type": "markdown",
   "source": [
    "### Split Method"
   ],
   "metadata": {
    "collapsed": false,
    "pycharm": {
     "name": "#%% md\n"
    }
   }
  },
  {
   "cell_type": "code",
   "execution_count": 11,
   "outputs": [
    {
     "name": "stdout",
     "output_type": "stream",
     "text": [
      "['Oh', 'the', 'humanity']\n"
     ]
    }
   ],
   "source": [
    "s = \"Oh the humanity\"\n",
    "print(s.split(\" \"))"
   ],
   "metadata": {
    "collapsed": false,
    "pycharm": {
     "name": "#%%\n"
    }
   }
  },
  {
   "cell_type": "markdown",
   "source": [
    "### Splitting up the lines"
   ],
   "metadata": {
    "collapsed": false,
    "pycharm": {
     "name": "#%% md\n"
    }
   }
  },
  {
   "cell_type": "code",
   "execution_count": 12,
   "outputs": [
    {
     "name": "stdout",
     "output_type": "stream",
     "text": [
      "[['This is a happy text', '1'], ['This is a sad text', '0'], ['This too is a happy text', '1']]\n"
     ]
    }
   ],
   "source": [
    "with open(\"some_text.txt\", \"r\") as f:\n",
    "    raw_data = [line.strip() for line in f.readlines()]\n",
    "    raw_data = [line.split(\",\") for line in raw_data]\n",
    "print(raw_data)"
   ],
   "metadata": {
    "collapsed": false,
    "pycharm": {
     "name": "#%%\n"
    }
   }
  },
  {
   "cell_type": "markdown",
   "source": [
    "### Separating sentences and labels"
   ],
   "metadata": {
    "collapsed": false,
    "pycharm": {
     "name": "#%% md\n"
    }
   }
  },
  {
   "cell_type": "code",
   "execution_count": 13,
   "outputs": [
    {
     "name": "stdout",
     "output_type": "stream",
     "text": [
      "sentences: ['This is a happy text', 'This is a sad text', 'This too is a happy text']\n",
      "labels: ['1', '0', '1']\n"
     ]
    }
   ],
   "source": [
    "with open(\"some_text.txt\", \"r\") as f:\n",
    "    raw_data = [line.strip() for line in f.readlines()]\n",
    "    raw_data = [line.split(\",\") for line in raw_data]\n",
    "    sentences = [line[0] for line in raw_data]\n",
    "    labels = [line[1] for line in raw_data]\n",
    "print(f\"sentences: {sentences}\")\n",
    "print(f\"labels: {labels}\")"
   ],
   "metadata": {
    "collapsed": false,
    "pycharm": {
     "name": "#%%\n"
    }
   }
  },
  {
   "cell_type": "markdown",
   "source": [
    "## Creating Features"
   ],
   "metadata": {
    "collapsed": false,
    "pycharm": {
     "name": "#%% md\n"
    }
   }
  },
  {
   "cell_type": "markdown",
   "source": [
    "### Lambda Functions\n",
    "Let's say we want one functions that multiplies numbers by 2 and another by 3"
   ],
   "metadata": {
    "collapsed": false,
    "pycharm": {
     "name": "#%% md\n"
    }
   }
  },
  {
   "cell_type": "code",
   "execution_count": 14,
   "outputs": [
    {
     "name": "stdout",
     "output_type": "stream",
     "text": [
      "2 * 4 = 8\n",
      "3 * 4 = 12\n"
     ]
    }
   ],
   "source": [
    "def times_2(n):\n",
    "    return 2 * n\n",
    "\n",
    "def times_3(n):\n",
    "    return 3 * n\n",
    "\n",
    "print(f\"2 * 4 = {times_2(4)}\")\n",
    "print(f\"3 * 4 = {times_3(4)}\")"
   ],
   "metadata": {
    "collapsed": false,
    "pycharm": {
     "name": "#%%\n"
    }
   }
  },
  {
   "cell_type": "markdown",
   "source": [
    "We can also achieve this by using lambda functions"
   ],
   "metadata": {
    "collapsed": false,
    "pycharm": {
     "name": "#%% md\n"
    }
   }
  },
  {
   "cell_type": "code",
   "execution_count": 15,
   "outputs": [
    {
     "name": "stdout",
     "output_type": "stream",
     "text": [
      "2 * 4 = 8\n",
      "3 * 4 = 12\n"
     ]
    }
   ],
   "source": [
    "times_2 = lambda n: 2 * n\n",
    "times_3 = lambda n: 3 * n\n",
    "\n",
    "print(f\"2 * 4 = {times_2(4)}\")\n",
    "print(f\"3 * 4 = {times_3(4)}\")"
   ],
   "metadata": {
    "collapsed": false,
    "pycharm": {
     "name": "#%%\n"
    }
   }
  },
  {
   "cell_type": "markdown",
   "source": [
    "Now we can use this to create a function that generates mulitplication functions"
   ],
   "metadata": {
    "collapsed": false,
    "pycharm": {
     "name": "#%% md\n"
    }
   }
  },
  {
   "cell_type": "code",
   "execution_count": 16,
   "outputs": [
    {
     "name": "stdout",
     "output_type": "stream",
     "text": [
      "2 * 4 = 8\n",
      "3 * 4 = 12\n"
     ]
    }
   ],
   "source": [
    "def times_k(k):\n",
    "    return lambda n: k * n\n",
    "\n",
    "times_2 = times_k(2)\n",
    "times_3 = times_k(3)\n",
    "\n",
    "print(f\"2 * 4 = {times_2(4)}\")\n",
    "print(f\"3 * 4 = {times_3(4)}\")"
   ],
   "metadata": {
    "collapsed": false,
    "pycharm": {
     "name": "#%%\n"
    }
   }
  },
  {
   "cell_type": "markdown",
   "source": [
    "### Creating Features\n",
    "We'll want our features to be lambda functions that get a sentence as an input and return some value"
   ],
   "metadata": {
    "collapsed": false,
    "pycharm": {
     "name": "#%% md\n"
    }
   }
  },
  {
   "cell_type": "code",
   "execution_count": 17,
   "outputs": [
    {
     "name": "stdout",
     "output_type": "stream",
     "text": [
      "This is a happy text\n",
      "Happy: True\n",
      "Sad: False\n",
      "\n",
      "This is a sad text\n",
      "Happy: False\n",
      "Sad: True\n",
      "\n",
      "This too is a happy text\n",
      "Happy: True\n",
      "Sad: False\n",
      "\n"
     ]
    }
   ],
   "source": [
    "feature_happy = lambda sentence: \"happy\" in sentence\n",
    "feature_sad = lambda sentence: \"sad\" in sentence\n",
    "\n",
    "for sentence in sentences:\n",
    "    print(sentence)\n",
    "    print(f\"Happy: {feature_happy(sentence)}\")\n",
    "    print(f\"Sad: {feature_sad(sentence)}\\n\")"
   ],
   "metadata": {
    "collapsed": false,
    "pycharm": {
     "name": "#%%\n"
    }
   }
  },
  {
   "cell_type": "markdown",
   "source": [
    "## Short SKLearn Recap"
   ],
   "metadata": {
    "collapsed": false,
    "pycharm": {
     "name": "#%% md\n"
    }
   }
  },
  {
   "cell_type": "code",
   "execution_count": 49,
   "outputs": [],
   "source": [
    "from sklearn.datasets import load_iris\n",
    "from sklearn.linear_model import LogisticRegression\n",
    "from sklearn.metrics import plot_confusion_matrix\n",
    "import matplotlib.pyplot as plt"
   ],
   "metadata": {
    "collapsed": false,
    "pycharm": {
     "name": "#%%\n"
    }
   }
  },
  {
   "cell_type": "code",
   "execution_count": 33,
   "outputs": [],
   "source": [
    "dataset = load_iris()\n",
    "X, y = dataset['data'], dataset['target']"
   ],
   "metadata": {
    "collapsed": false,
    "pycharm": {
     "name": "#%%\n"
    }
   }
  },
  {
   "cell_type": "code",
   "execution_count": 34,
   "outputs": [
    {
     "name": "stdout",
     "output_type": "stream",
     "text": [
      "(150, 4)\n",
      "[[5.1 3.5 1.4 0.2]\n",
      " [4.9 3.  1.4 0.2]\n",
      " [4.7 3.2 1.3 0.2]\n",
      " [4.6 3.1 1.5 0.2]\n",
      " [5.  3.6 1.4 0.2]\n",
      " [5.4 3.9 1.7 0.4]\n",
      " [4.6 3.4 1.4 0.3]\n",
      " [5.  3.4 1.5 0.2]\n",
      " [4.4 2.9 1.4 0.2]\n",
      " [4.9 3.1 1.5 0.1]\n",
      " [5.4 3.7 1.5 0.2]\n",
      " [4.8 3.4 1.6 0.2]\n",
      " [4.8 3.  1.4 0.1]\n",
      " [4.3 3.  1.1 0.1]\n",
      " [5.8 4.  1.2 0.2]\n",
      " [5.7 4.4 1.5 0.4]\n",
      " [5.4 3.9 1.3 0.4]\n",
      " [5.1 3.5 1.4 0.3]\n",
      " [5.7 3.8 1.7 0.3]\n",
      " [5.1 3.8 1.5 0.3]\n",
      " [5.4 3.4 1.7 0.2]\n",
      " [5.1 3.7 1.5 0.4]\n",
      " [4.6 3.6 1.  0.2]\n",
      " [5.1 3.3 1.7 0.5]\n",
      " [4.8 3.4 1.9 0.2]\n",
      " [5.  3.  1.6 0.2]\n",
      " [5.  3.4 1.6 0.4]\n",
      " [5.2 3.5 1.5 0.2]\n",
      " [5.2 3.4 1.4 0.2]\n",
      " [4.7 3.2 1.6 0.2]\n",
      " [4.8 3.1 1.6 0.2]\n",
      " [5.4 3.4 1.5 0.4]\n",
      " [5.2 4.1 1.5 0.1]\n",
      " [5.5 4.2 1.4 0.2]\n",
      " [4.9 3.1 1.5 0.2]\n",
      " [5.  3.2 1.2 0.2]\n",
      " [5.5 3.5 1.3 0.2]\n",
      " [4.9 3.6 1.4 0.1]\n",
      " [4.4 3.  1.3 0.2]\n",
      " [5.1 3.4 1.5 0.2]\n",
      " [5.  3.5 1.3 0.3]\n",
      " [4.5 2.3 1.3 0.3]\n",
      " [4.4 3.2 1.3 0.2]\n",
      " [5.  3.5 1.6 0.6]\n",
      " [5.1 3.8 1.9 0.4]\n",
      " [4.8 3.  1.4 0.3]\n",
      " [5.1 3.8 1.6 0.2]\n",
      " [4.6 3.2 1.4 0.2]\n",
      " [5.3 3.7 1.5 0.2]\n",
      " [5.  3.3 1.4 0.2]\n",
      " [7.  3.2 4.7 1.4]\n",
      " [6.4 3.2 4.5 1.5]\n",
      " [6.9 3.1 4.9 1.5]\n",
      " [5.5 2.3 4.  1.3]\n",
      " [6.5 2.8 4.6 1.5]\n",
      " [5.7 2.8 4.5 1.3]\n",
      " [6.3 3.3 4.7 1.6]\n",
      " [4.9 2.4 3.3 1. ]\n",
      " [6.6 2.9 4.6 1.3]\n",
      " [5.2 2.7 3.9 1.4]\n",
      " [5.  2.  3.5 1. ]\n",
      " [5.9 3.  4.2 1.5]\n",
      " [6.  2.2 4.  1. ]\n",
      " [6.1 2.9 4.7 1.4]\n",
      " [5.6 2.9 3.6 1.3]\n",
      " [6.7 3.1 4.4 1.4]\n",
      " [5.6 3.  4.5 1.5]\n",
      " [5.8 2.7 4.1 1. ]\n",
      " [6.2 2.2 4.5 1.5]\n",
      " [5.6 2.5 3.9 1.1]\n",
      " [5.9 3.2 4.8 1.8]\n",
      " [6.1 2.8 4.  1.3]\n",
      " [6.3 2.5 4.9 1.5]\n",
      " [6.1 2.8 4.7 1.2]\n",
      " [6.4 2.9 4.3 1.3]\n",
      " [6.6 3.  4.4 1.4]\n",
      " [6.8 2.8 4.8 1.4]\n",
      " [6.7 3.  5.  1.7]\n",
      " [6.  2.9 4.5 1.5]\n",
      " [5.7 2.6 3.5 1. ]\n",
      " [5.5 2.4 3.8 1.1]\n",
      " [5.5 2.4 3.7 1. ]\n",
      " [5.8 2.7 3.9 1.2]\n",
      " [6.  2.7 5.1 1.6]\n",
      " [5.4 3.  4.5 1.5]\n",
      " [6.  3.4 4.5 1.6]\n",
      " [6.7 3.1 4.7 1.5]\n",
      " [6.3 2.3 4.4 1.3]\n",
      " [5.6 3.  4.1 1.3]\n",
      " [5.5 2.5 4.  1.3]\n",
      " [5.5 2.6 4.4 1.2]\n",
      " [6.1 3.  4.6 1.4]\n",
      " [5.8 2.6 4.  1.2]\n",
      " [5.  2.3 3.3 1. ]\n",
      " [5.6 2.7 4.2 1.3]\n",
      " [5.7 3.  4.2 1.2]\n",
      " [5.7 2.9 4.2 1.3]\n",
      " [6.2 2.9 4.3 1.3]\n",
      " [5.1 2.5 3.  1.1]\n",
      " [5.7 2.8 4.1 1.3]\n",
      " [6.3 3.3 6.  2.5]\n",
      " [5.8 2.7 5.1 1.9]\n",
      " [7.1 3.  5.9 2.1]\n",
      " [6.3 2.9 5.6 1.8]\n",
      " [6.5 3.  5.8 2.2]\n",
      " [7.6 3.  6.6 2.1]\n",
      " [4.9 2.5 4.5 1.7]\n",
      " [7.3 2.9 6.3 1.8]\n",
      " [6.7 2.5 5.8 1.8]\n",
      " [7.2 3.6 6.1 2.5]\n",
      " [6.5 3.2 5.1 2. ]\n",
      " [6.4 2.7 5.3 1.9]\n",
      " [6.8 3.  5.5 2.1]\n",
      " [5.7 2.5 5.  2. ]\n",
      " [5.8 2.8 5.1 2.4]\n",
      " [6.4 3.2 5.3 2.3]\n",
      " [6.5 3.  5.5 1.8]\n",
      " [7.7 3.8 6.7 2.2]\n",
      " [7.7 2.6 6.9 2.3]\n",
      " [6.  2.2 5.  1.5]\n",
      " [6.9 3.2 5.7 2.3]\n",
      " [5.6 2.8 4.9 2. ]\n",
      " [7.7 2.8 6.7 2. ]\n",
      " [6.3 2.7 4.9 1.8]\n",
      " [6.7 3.3 5.7 2.1]\n",
      " [7.2 3.2 6.  1.8]\n",
      " [6.2 2.8 4.8 1.8]\n",
      " [6.1 3.  4.9 1.8]\n",
      " [6.4 2.8 5.6 2.1]\n",
      " [7.2 3.  5.8 1.6]\n",
      " [7.4 2.8 6.1 1.9]\n",
      " [7.9 3.8 6.4 2. ]\n",
      " [6.4 2.8 5.6 2.2]\n",
      " [6.3 2.8 5.1 1.5]\n",
      " [6.1 2.6 5.6 1.4]\n",
      " [7.7 3.  6.1 2.3]\n",
      " [6.3 3.4 5.6 2.4]\n",
      " [6.4 3.1 5.5 1.8]\n",
      " [6.  3.  4.8 1.8]\n",
      " [6.9 3.1 5.4 2.1]\n",
      " [6.7 3.1 5.6 2.4]\n",
      " [6.9 3.1 5.1 2.3]\n",
      " [5.8 2.7 5.1 1.9]\n",
      " [6.8 3.2 5.9 2.3]\n",
      " [6.7 3.3 5.7 2.5]\n",
      " [6.7 3.  5.2 2.3]\n",
      " [6.3 2.5 5.  1.9]\n",
      " [6.5 3.  5.2 2. ]\n",
      " [6.2 3.4 5.4 2.3]\n",
      " [5.9 3.  5.1 1.8]]\n"
     ]
    }
   ],
   "source": [
    "print(X.shape)\n",
    "print(X)"
   ],
   "metadata": {
    "collapsed": false,
    "pycharm": {
     "name": "#%%\n"
    }
   }
  },
  {
   "cell_type": "code",
   "execution_count": 35,
   "outputs": [
    {
     "name": "stdout",
     "output_type": "stream",
     "text": [
      "(150,)\n",
      "[0 0 0 0 0 0 0 0 0 0 0 0 0 0 0 0 0 0 0 0 0 0 0 0 0 0 0 0 0 0 0 0 0 0 0 0 0\n",
      " 0 0 0 0 0 0 0 0 0 0 0 0 0 1 1 1 1 1 1 1 1 1 1 1 1 1 1 1 1 1 1 1 1 1 1 1 1\n",
      " 1 1 1 1 1 1 1 1 1 1 1 1 1 1 1 1 1 1 1 1 1 1 1 1 1 1 2 2 2 2 2 2 2 2 2 2 2\n",
      " 2 2 2 2 2 2 2 2 2 2 2 2 2 2 2 2 2 2 2 2 2 2 2 2 2 2 2 2 2 2 2 2 2 2 2 2 2\n",
      " 2 2]\n"
     ]
    }
   ],
   "source": [
    "print(y.shape)\n",
    "print(y)"
   ],
   "metadata": {
    "collapsed": false,
    "pycharm": {
     "name": "#%%\n"
    }
   }
  },
  {
   "cell_type": "code",
   "execution_count": 36,
   "outputs": [
    {
     "name": "stdout",
     "output_type": "stream",
     "text": [
      "--score--\n",
      "0.9733333333333334\n",
      "\n",
      "--predict--\n",
      "[0 0 0 0 0 0 0 0 0 0 0 0 0 0 0 0 0 0 0 0 0 0 0 0 0 0 0 0 0 0 0 0 0 0 0 0 0\n",
      " 0 0 0 0 0 0 0 0 0 0 0 0 0 1 1 1 1 1 1 1 1 1 1 1 1 1 1 1 1 1 1 1 1 2 1 1 1\n",
      " 1 1 1 2 1 1 1 1 1 2 1 1 1 1 1 1 1 1 1 1 1 1 1 1 1 1 2 2 2 2 2 2 1 2 2 2 2\n",
      " 2 2 2 2 2 2 2 2 2 2 2 2 2 2 2 2 2 2 2 2 2 2 2 2 2 2 2 2 2 2 2 2 2 2 2 2 2\n",
      " 2 2]\n",
      "\n",
      "--predict_proba--\n",
      "[[9.81589449e-01 1.84105370e-02 1.44719389e-08]\n",
      " [9.71352524e-01 2.86474459e-02 3.01330892e-08]\n",
      " [9.85281611e-01 1.47183770e-02 1.23159831e-08]\n",
      " [9.76078494e-01 2.39214663e-02 3.96336854e-08]\n",
      " [9.85238361e-01 1.47616273e-02 1.19827281e-08]\n",
      " [9.70221224e-01 2.97787023e-02 7.38744309e-08]\n",
      " [9.86777099e-01 1.32228809e-02 1.99513458e-08]\n",
      " [9.76158223e-01 2.38417491e-02 2.76818356e-08]\n",
      " [9.79640527e-01 2.03594427e-02 3.05507991e-08]\n",
      " [9.68787507e-01 3.12124611e-02 3.16655983e-08]\n",
      " [9.76237690e-01 2.37622910e-02 1.93341549e-08]\n",
      " [9.75222357e-01 2.47775987e-02 4.38807151e-08]\n",
      " [9.74248268e-01 2.57517105e-02 2.14743625e-08]\n",
      " [9.91877924e-01 8.12207180e-03 3.88315584e-09]\n",
      " [9.88014819e-01 1.19851781e-02 2.83692920e-09]\n",
      " [9.86647188e-01 1.33527989e-02 1.29145077e-08]\n",
      " [9.87963848e-01 1.20361423e-02 9.24680526e-09]\n",
      " [9.81338936e-01 1.86610443e-02 1.97370898e-08]\n",
      " [9.56117170e-01 4.38827608e-02 6.88569052e-08]\n",
      " [9.83983294e-01 1.60166852e-02 2.06036586e-08]\n",
      " [9.46196171e-01 5.38037418e-02 8.67037370e-08]\n",
      " [9.81573608e-01 1.84263587e-02 3.29443003e-08]\n",
      " [9.95961891e-01 4.03810752e-03 1.31428270e-09]\n",
      " [9.51858305e-01 4.81414579e-02 2.36928618e-07]\n",
      " [9.51649497e-01 4.83502965e-02 2.06265507e-07]\n",
      " [9.51007417e-01 4.89924959e-02 8.68132368e-08]\n",
      " [9.69339592e-01 3.06603219e-02 8.63929478e-08]\n",
      " [9.74654428e-01 2.53455474e-02 2.50374203e-08]\n",
      " [9.77059568e-01 2.29404149e-02 1.74622552e-08]\n",
      " [9.70994280e-01 2.90056612e-02 5.84662066e-08]\n",
      " [9.63953214e-01 3.60467161e-02 7.03601327e-08]\n",
      " [9.64482479e-01 3.55174638e-02 5.76632486e-08]\n",
      " [9.88298256e-01 1.17017371e-02 7.07226308e-09]\n",
      " [9.88958600e-01 1.10413951e-02 5.34239148e-09]\n",
      " [9.68368409e-01 3.16315474e-02 4.31784481e-08]\n",
      " [9.84442327e-01 1.55576649e-02 8.00115172e-09]\n",
      " [9.78630115e-01 2.13698756e-02 9.67871804e-09]\n",
      " [9.86749643e-01 1.32503486e-02 8.52717589e-09]\n",
      " [9.85705362e-01 1.42946223e-02 1.54908847e-08]\n",
      " [9.73824715e-01 2.61752565e-02 2.84907815e-08]\n",
      " [9.86470340e-01 1.35296482e-02 1.13869139e-08]\n",
      " [9.61657613e-01 3.83423211e-02 6.57658697e-08]\n",
      " [9.88916351e-01 1.10836380e-02 1.12569714e-08]\n",
      " [9.72211012e-01 2.77888503e-02 1.37234663e-07]\n",
      " [9.60082356e-01 3.99174213e-02 2.23102827e-07]\n",
      " [9.73548200e-01 2.64517601e-02 3.99339793e-08]\n",
      " [9.80174206e-01 1.98257684e-02 2.54088975e-08]\n",
      " [9.83186204e-01 1.68137757e-02 2.01181833e-08]\n",
      " [9.78360863e-01 2.16391180e-02 1.87810468e-08]\n",
      " [9.78423822e-01 2.15761586e-02 1.93037665e-08]\n",
      " [2.12750694e-03 8.73998689e-01 1.23873804e-01]\n",
      " [5.82044998e-03 8.59763065e-01 1.34416485e-01]\n",
      " [1.06119341e-03 7.25133860e-01 2.73804946e-01]\n",
      " [1.54137609e-02 9.39704876e-01 4.48813629e-02]\n",
      " [2.37769161e-03 8.15263068e-01 1.82359241e-01]\n",
      " [6.98937204e-03 8.60120863e-01 1.32889765e-01]\n",
      " [3.77335806e-03 7.16524915e-01 2.79701727e-01]\n",
      " [1.47778831e-01 8.49168437e-01 3.05273211e-03]\n",
      " [2.77851503e-03 8.96675239e-01 1.00546246e-01]\n",
      " [4.14759972e-02 9.11917402e-01 4.66066003e-02]\n",
      " [5.58026536e-02 9.37731866e-01 6.46548007e-03]\n",
      " [1.51806828e-02 8.98852601e-01 8.59667158e-02]\n",
      " [9.09193243e-03 9.76586521e-01 1.43215469e-02]\n",
      " [3.05161045e-03 7.79278616e-01 2.17669774e-01]\n",
      " [7.44385806e-02 9.15115892e-01 1.04455278e-02]\n",
      " [5.28373347e-03 9.26379142e-01 6.83371245e-02]\n",
      " [8.72016399e-03 7.74660849e-01 2.16618987e-01]\n",
      " [1.64504590e-02 9.65190948e-01 1.83585926e-02]\n",
      " [1.81106398e-03 8.01097635e-01 1.97091301e-01]\n",
      " [2.39624825e-02 9.59447633e-01 1.65898843e-02]\n",
      " [2.30772204e-03 4.40100645e-01 5.57591633e-01]\n",
      " [1.68244589e-02 9.56798615e-01 2.63769261e-02]\n",
      " [7.15657742e-04 5.96326131e-01 4.02958211e-01]\n",
      " [3.04297942e-03 8.59910787e-01 1.37046233e-01]\n",
      " [7.07668130e-03 9.42976779e-01 4.99465397e-02]\n",
      " [5.07742339e-03 9.20132526e-01 7.47900504e-02]\n",
      " [1.12038848e-03 8.01588872e-01 1.97290739e-01]\n",
      " [5.78932179e-04 4.81172804e-01 5.18248263e-01]\n",
      " [5.48583461e-03 8.13111473e-01 1.81402693e-01]\n",
      " [6.16506337e-02 9.34972417e-01 3.37694882e-03]\n",
      " [2.91407553e-02 9.57254079e-01 1.36051653e-02]\n",
      " [3.71472945e-02 9.55324876e-01 7.52782960e-03]\n",
      " [2.51728586e-02 9.56498004e-01 1.83291377e-02]\n",
      " [4.49715094e-04 3.49672177e-01 6.49878108e-01]\n",
      " [1.02365720e-02 7.50856572e-01 2.38906856e-01]\n",
      " [9.99483589e-03 7.88690140e-01 2.01315024e-01]\n",
      " [2.26525058e-03 8.05213428e-01 1.92521322e-01]\n",
      " [2.76352787e-03 9.13215986e-01 8.40204863e-02]\n",
      " [2.70678018e-02 9.28518428e-01 4.44137704e-02]\n",
      " [1.99098753e-02 9.38098869e-01 4.19912556e-02]\n",
      " [8.72347343e-03 8.97896996e-01 9.33795308e-02]\n",
      " [4.64817739e-03 8.28271618e-01 1.67080204e-01]\n",
      " [1.75752149e-02 9.57030448e-01 2.53943366e-02]\n",
      " [1.21679765e-01 8.75273201e-01 3.04703386e-03]\n",
      " [1.44710229e-02 9.20477418e-01 6.50515595e-02]\n",
      " [1.99974320e-02 9.38092948e-01 4.19096196e-02]\n",
      " [1.71057146e-02 9.25432184e-01 5.74621019e-02]\n",
      " [8.49943814e-03 9.35140925e-01 5.63596367e-02]\n",
      " [2.43474598e-01 7.55235127e-01 1.29027441e-03]\n",
      " [1.91631378e-02 9.36050347e-01 4.47865156e-02]\n",
      " [9.03262339e-07 3.91136755e-03 9.96087729e-01]\n",
      " [2.42910494e-04 1.62527327e-01 8.37229762e-01]\n",
      " [2.48220110e-06 2.55682139e-02 9.74429304e-01]\n",
      " [3.12475808e-05 8.16555285e-02 9.18313224e-01]\n",
      " [3.73650354e-06 1.74354611e-02 9.82560802e-01]\n",
      " [5.53568372e-08 4.63715136e-03 9.95362793e-01]\n",
      " [5.77455834e-03 5.13662169e-01 4.80563273e-01]\n",
      " [6.22037450e-07 2.13384853e-02 9.78660893e-01]\n",
      " [5.23035403e-06 5.32744846e-02 9.46720285e-01]\n",
      " [6.54008581e-07 5.73979639e-03 9.94259550e-01]\n",
      " [3.02189081e-04 2.10439882e-01 7.89257929e-01]\n",
      " [7.27698600e-05 1.37287048e-01 8.62640182e-01]\n",
      " [2.12711539e-05 6.52512699e-02 9.34727459e-01]\n",
      " [2.29377902e-04 1.45211289e-01 8.54559333e-01]\n",
      " [6.90171773e-05 4.34898201e-02 9.56441163e-01]\n",
      " [5.16036803e-05 5.40160829e-02 9.45932313e-01]\n",
      " [5.56400884e-05 1.22876248e-01 8.77068112e-01]\n",
      " [8.47033744e-08 3.55847841e-03 9.96441437e-01]\n",
      " [3.15179716e-09 9.99915569e-04 9.99000081e-01]\n",
      " [3.89861820e-04 4.51948314e-01 5.47661824e-01]\n",
      " [5.60043442e-06 2.38404336e-02 9.76153966e-01]\n",
      " [6.13750687e-04 1.90402291e-01 8.08983958e-01]\n",
      " [3.13922470e-08 4.65306691e-03 9.95346902e-01]\n",
      " [5.85651365e-04 3.93057289e-01 6.06357059e-01]\n",
      " [1.28372600e-05 3.85894139e-02 9.61397749e-01]\n",
      " [4.86026627e-06 5.14747355e-02 9.48520404e-01]\n",
      " [1.07264561e-03 4.56464618e-01 5.42462736e-01]\n",
      " [1.02338265e-03 3.85315115e-01 6.13661503e-01]\n",
      " [1.06553226e-05 3.63262416e-02 9.63663103e-01]\n",
      " [1.69029141e-05 1.41968956e-01 8.58014141e-01]\n",
      " [1.06427374e-06 2.91930871e-02 9.70805849e-01]\n",
      " [7.03454740e-07 1.74123371e-02 9.82586959e-01]\n",
      " [7.88443845e-06 2.72524136e-02 9.72739702e-01]\n",
      " [5.29207945e-04 4.75548708e-01 5.23922084e-01]\n",
      " [6.27361467e-05 1.88553825e-01 8.11383438e-01]\n",
      " [3.93316598e-07 1.17426006e-02 9.88257006e-01]\n",
      " [1.16197770e-05 1.73177732e-02 9.82670607e-01]\n",
      " [6.77105937e-05 1.19451910e-01 8.80480379e-01]\n",
      " [1.62150934e-03 4.40334799e-01 5.58043692e-01]\n",
      " [3.96778245e-05 9.34683226e-02 9.06492000e-01]\n",
      " [6.30364722e-06 2.02819342e-02 9.79711762e-01]\n",
      " [9.96209205e-05 1.20631651e-01 8.79268728e-01]\n",
      " [2.42910494e-04 1.62527327e-01 8.37229762e-01]\n",
      " [2.04911609e-06 1.25808826e-02 9.87417068e-01]\n",
      " [3.80901117e-06 1.20984420e-02 9.87897749e-01]\n",
      " [5.59005015e-05 8.00968601e-02 9.19847239e-01]\n",
      " [2.27096153e-04 2.51902098e-01 7.47870805e-01]\n",
      " [1.38389746e-04 1.57100717e-01 8.42760894e-01]\n",
      " [4.56417055e-05 3.84095443e-02 9.61544814e-01]\n",
      " [4.75893844e-04 2.34826950e-01 7.64697157e-01]]\n"
     ]
    }
   ],
   "source": [
    "model = LogisticRegression(max_iter=1000)\n",
    "model.fit(X, y)\n",
    "\n",
    "score = model.score(X, y)\n",
    "print(\"--score--\")\n",
    "print(score)\n",
    "\n",
    "predict = model.predict(X)\n",
    "print(\"\\n--predict--\")\n",
    "print(predict)\n",
    "\n",
    "predict_proba = model.predict_proba(X)\n",
    "print(\"\\n--predict_proba--\")\n",
    "print(predict_proba)"
   ],
   "metadata": {
    "collapsed": false,
    "pycharm": {
     "name": "#%%\n"
    }
   }
  },
  {
   "cell_type": "code",
   "execution_count": 50,
   "outputs": [
    {
     "data": {
      "text/plain": "<sklearn.metrics._plot.confusion_matrix.ConfusionMatrixDisplay at 0x1d5d936dd90>"
     },
     "execution_count": 50,
     "metadata": {},
     "output_type": "execute_result"
    },
    {
     "data": {
      "text/plain": "<Figure size 432x288 with 2 Axes>",
      "image/png": "[encoded data removed]"
     },
     "metadata": {
      "needs_background": "light"
     },
     "output_type": "display_data"
    }
   ],
   "source": [
    "plot_confusion_matrix(model, X, y, cmap=plt.cm.Blues)"
   ],
   "metadata": {
    "collapsed": false,
    "pycharm": {
     "name": "#%%\n"
    }
   }
  }
 ],
 "metadata": {
  "kernelspec": {
   "display_name": "Python 3",
   "language": "python",
   "name": "python3"
  },
  "language_info": {
   "codemirror_mode": {
    "name": "ipython",
    "version": 2
   },
   "file_extension": ".py",
   "mimetype": "text/x-python",
   "name": "python",
   "nbconvert_exporter": "python",
   "pygments_lexer": "ipython2",
   "version": "2.7.6"
  }
 },
 "nbformat": 4,
 "nbformat_minor": 0
}