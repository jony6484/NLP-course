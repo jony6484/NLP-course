{
 "cells": [
  {
   "cell_type": "markdown",
   "metadata": {
    "collapsed": true,
    "pycharm": {
     "name": "#%% md\n"
    }
   },
   "source": [
    "# Tutorial 2 - NLP With Manual Features"
   ]
  },
  {
   "cell_type": "markdown",
   "source": [
    "## Question 1 - Data Loading\n",
    "Implement the method ```load_raw_dataset(split)``` that loads the raw dataset split in ```./data/{split}.txt```.\n",
    "The function should return two arguments:\n",
    "1. sentences - A list of sentences, all in lowercase.\n",
    "2. y - A list of all the labels.\n",
    "\n",
    "Time: ~10 minutes"
   ],
   "metadata": {
    "collapsed": false,
    "pycharm": {
     "name": "#%% md\n"
    }
   }
  },
  {
   "cell_type": "markdown",
   "source": [
    "example.txt:\n",
    ">  This is a happy text,positive\n",
    "   This is a sad text,negative\n",
    "   This too is a happy text,positive"
   ],
   "metadata": {
    "collapsed": false,
    "pycharm": {
     "name": "#%% md\n"
    }
   }
  },
  {
   "cell_type": "markdown",
   "source": [
    "<code>\n",
    "sentences, y = load_raw_data(\"example\")\n",
    "\n",
    "print(sentences)\n",
    "\n",
    "print(y)\n",
    "\n",
    "\\>\\> ['this is a happy text', 'this is a sad text', 'this too is a happy text']\n",
    "\\>\\> ['positive', 'negative', 'positive']\n",
    "</code>\n",
    "\n"
   ],
   "metadata": {
    "collapsed": false,
    "pycharm": {
     "name": "#%% md\n"
    }
   }
  },
  {
   "cell_type": "code",
   "execution_count": 224,
   "outputs": [],
   "source": [
    "def load_raw_dataset(split):\n",
    "    pass"
   ],
   "metadata": {
    "collapsed": false,
    "pycharm": {
     "name": "#%%\n"
    }
   }
  },
  {
   "cell_type": "code",
   "execution_count": 225,
   "outputs": [
    {
     "name": "stdout",
     "output_type": "stream",
     "text": [
      "['this is a happy text', 'this is a sad text', 'this too is a happy text']\n",
      "['positive', 'negative', 'positive']\n"
     ]
    }
   ],
   "source": [
    "sentences, y = load_raw_dataset(\"example\")\n",
    "print(sentences)\n",
    "print(y)"
   ],
   "metadata": {
    "collapsed": false,
    "pycharm": {
     "name": "#%%\n"
    }
   }
  },
  {
   "cell_type": "markdown",
   "source": [
    "# Question 2 - Feature maps\n",
    "\n",
    "In this question you will implement feature maps as lambda functions:\n",
    "```feature_map = lambda sentence: some_condition```\n",
    "\n",
    "Implement the following features:\n",
    "1. Return whether the word \"happy\" is in the sentence.\n",
    "2. Return whether the 4'th word in the sentence is \"happy\".\n",
    "3. Return whether the sentence contains 20 or more characters.\n",
    "4. Return whether the sentence contains 6 or more words.\n",
    "5. Implement a method called ```convert_raw_to_features(sentences, feature_maps)``` that given a list of sentences in the form of Q1 and a list of feature maps, sequentially applies the feature maps to convert the sentences to a feature representation."
   ],
   "metadata": {
    "collapsed": false,
    "pycharm": {
     "name": "#%% md\n"
    }
   }
  },
  {
   "cell_type": "code",
   "execution_count": 152,
   "outputs": [],
   "source": [
    "def convert_raw_to_features(sentences, feature_maps):\n",
    "    pass"
   ],
   "metadata": {
    "collapsed": false,
    "pycharm": {
     "name": "#%%\n"
    }
   }
  },
  {
   "cell_type": "markdown",
   "source": [
    "# Question 3 - Training a Model\n",
    "Implement the following steps:\n",
    "1. Load the train and eval sets\n",
    "2. Define some set of features\n",
    "3. Convert the raw dataset to a feature representation\n",
    "4. Fit a SVM model to the train set\n",
    "5. Measure your performance on the eval set\n",
    "6. Display a confusion matrix on the eval set"
   ],
   "metadata": {
    "collapsed": false,
    "pycharm": {
     "name": "#%% md\n"
    }
   }
  },
  {
   "cell_type": "code",
   "execution_count": null,
   "outputs": [],
   "source": [],
   "metadata": {
    "collapsed": false,
    "pycharm": {
     "name": "#%%\n"
    }
   }
  }
 ],
 "metadata": {
  "kernelspec": {
   "display_name": "Python 3",
   "language": "python",
   "name": "python3"
  },
  "language_info": {
   "codemirror_mode": {
    "name": "ipython",
    "version": 2
   },
   "file_extension": ".py",
   "mimetype": "text/x-python",
   "name": "python",
   "nbconvert_exporter": "python",
   "pygments_lexer": "ipython2",
   "version": "2.7.6"
  }
 },
 "nbformat": 4,
 "nbformat_minor": 0
}