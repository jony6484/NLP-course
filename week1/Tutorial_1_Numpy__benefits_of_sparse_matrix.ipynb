{
 "cells": [
  {
   "cell_type": "markdown",
   "metadata": {
    "id": "committed-logistics",
    "pycharm": {
     "name": "#%% md\n"
    }
   },
   "source": [
    "# NLP Course - Technion\n",
    "\n",
    "---\n",
    "\n",
    "#Tutorial 1 - Numpy\n"
   ]
  },
  {
   "cell_type": "markdown",
   "metadata": {
    "id": "-udzltY_PJtn",
    "pycharm": {
     "name": "#%% md\n"
    }
   },
   "source": [
    "# [NumPy](https://numpy.org/)\n",
    "\"The fundamental package for scientific computing with Python\""
   ]
  },
  {
   "cell_type": "markdown",
   "metadata": {
    "id": "xr5UeeQvPO4w",
    "pycharm": {
     "name": "#%% md\n"
    }
   },
   "source": [
    "* Package for scientific computing with Python.\n",
    "* N dimensional array object.\n",
    "* Linear algebra.\n",
    "* Open source."
   ]
  },
  {
   "cell_type": "code",
   "execution_count": 1,
   "outputs": [
    {
     "name": "stdout",
     "output_type": "stream",
     "text": [
      "[1 2 3]\n"
     ]
    }
   ],
   "source": [
    "import numpy as np\n",
    "print(np.array([1,2,3]))"
   ],
   "metadata": {
    "collapsed": false,
    "pycharm": {
     "name": "#%%\n"
    }
   }
  },
  {
   "cell_type": "code",
   "execution_count": 3,
   "metadata": {
    "id": "C0WfuPNMlE2S",
    "pycharm": {
     "name": "#%%\n"
    }
   },
   "outputs": [],
   "source": [
    "import numpy as np\n",
    "import random\n",
    "random.seed(42)"
   ]
  },
  {
   "cell_type": "code",
   "execution_count": 4,
   "metadata": {
    "colab": {
     "base_uri": "https://localhost:8080/"
    },
    "id": "0wnq1I0xQBur",
    "outputId": "4790dc42-67b4-42f2-a350-4ba6f7db748b",
    "pycharm": {
     "name": "#%%\n"
    }
   },
   "outputs": [
    {
     "name": "stdout",
     "output_type": "stream",
     "text": [
      "[[1. 2. 3.]\n",
      " [4. 5. 6.]\n",
      " [7. 8. 9.]]\n"
     ]
    }
   ],
   "source": [
    "A = np.array([[1,2,3],[4,5,6],[7,8,9]], dtype=float)\n",
    "print(A)"
   ]
  },
  {
   "cell_type": "markdown",
   "metadata": {
    "id": "gyjfDNs7WmhC",
    "pycharm": {
     "name": "#%% md\n"
    }
   },
   "source": [
    "## NumPy arrays vs python's list"
   ]
  },
  {
   "cell_type": "markdown",
   "metadata": {
    "id": "chQJVXXBgLxm",
    "pycharm": {
     "name": "#%% md\n"
    }
   },
   "source": [
    "\"In Python we have lists that serve the purpose of arrays, but they are slow to process.\n",
    "\n",
    "NumPy aims to provide an array object that is up to 50x faster than traditional Python lists.\n",
    "\n",
    "The array object in NumPy is called ndarray, it provides a lot of supporting functions that make working with ndarray very easy.\n",
    "\n",
    "Arrays are very frequently used in data science, where speed and resources are very important.\n",
    "\n",
    "#### Why is NumPy Faster Than Lists?\n",
    "NumPy arrays are stored at one continuous place in memory unlike lists, so processes can access and manipulate them very efficiently.\n",
    "\n",
    "This behavior is called locality of reference in computer science.\n",
    "\n",
    "This is the main reason why NumPy is faster than lists. Also it is optimized to work with latest CPU architectures.\"\n",
    "\n",
    "\n",
    "Taken from [here](https://www.w3schools.com/python/numpy/numpy_intro.asp)."
   ]
  },
  {
   "cell_type": "code",
   "execution_count": 5,
   "metadata": {
    "colab": {
     "base_uri": "https://localhost:8080/"
    },
    "id": "l4yVFJm_WAeE",
    "outputId": "533645d7-94dd-4057-b392-865fcd66e8ab",
    "pycharm": {
     "name": "#%%\n"
    }
   },
   "outputs": [
    {
     "name": "stdout",
     "output_type": "stream",
     "text": [
      "[0, 1, 2, 3, 4, 5, 6, 7, 8, 9], Type: <class 'list'>\n",
      "[0 1 2 3 4 5 6 7 8 9], Type: <class 'numpy.ndarray'>\n"
     ]
    }
   ],
   "source": [
    "py_list = list(range(10))\n",
    "np_array = np.array(py_list)\n",
    "\n",
    "print(f\"{py_list}, Type: {type(py_list)}\")\n",
    "print(f\"{np_array}, Type: {type(np_array)}\")"
   ]
  },
  {
   "cell_type": "markdown",
   "metadata": {
    "id": "9_ngc5QWWUeo",
    "pycharm": {
     "name": "#%% md\n"
    }
   },
   "source": [
    "The key difference between an array and a list is that array is designed to handle vectorized operations while a python list is not. <br>Let’s suppose you want your list to range from 1 to 10, so you want to add 1 to every item. The intuitive way to do it is something like this:"
   ]
  },
  {
   "cell_type": "code",
   "execution_count": 6,
   "metadata": {
    "colab": {
     "base_uri": "https://localhost:8080/",
     "height": 172
    },
    "id": "pzvbRcClWJm3",
    "outputId": "6a3098e4-d00d-4f81-8b0e-5d17223d9e47",
    "pycharm": {
     "name": "#%%\n"
    }
   },
   "outputs": [
    {
     "ename": "TypeError",
     "evalue": "can only concatenate list (not \"int\") to list",
     "output_type": "error",
     "traceback": [
      "\u001B[0;31m---------------------------------------------------------------------------\u001B[0m",
      "\u001B[0;31mTypeError\u001B[0m                                 Traceback (most recent call last)",
      "Input \u001B[0;32mIn [6]\u001B[0m, in \u001B[0;36m<cell line: 1>\u001B[0;34m()\u001B[0m\n\u001B[0;32m----> 1\u001B[0m \u001B[43mpy_list\u001B[49m\u001B[43m \u001B[49m\u001B[38;5;241;43m+\u001B[39;49m\u001B[43m \u001B[49m\u001B[38;5;241;43m1\u001B[39;49m\n",
      "\u001B[0;31mTypeError\u001B[0m: can only concatenate list (not \"int\") to list"
     ]
    }
   ],
   "source": [
    "py_list + 1 "
   ]
  },
  {
   "cell_type": "markdown",
   "metadata": {
    "id": "rux57gtNWafg",
    "pycharm": {
     "name": "#%% md\n"
    }
   },
   "source": [
    "\n",
    "That is not possible with a list. But you can do that on a ndarray:"
   ]
  },
  {
   "cell_type": "code",
   "execution_count": 8,
   "metadata": {
    "colab": {
     "base_uri": "https://localhost:8080/"
    },
    "id": "aWARdo5UWMkQ",
    "outputId": "b4621bfe-944a-4380-9108-0f872395ab74",
    "pycharm": {
     "name": "#%%\n"
    }
   },
   "outputs": [
    {
     "data": {
      "text/plain": "array([ 1,  2,  3,  4,  5,  6,  7,  8,  9, 10])"
     },
     "execution_count": 8,
     "metadata": {},
     "output_type": "execute_result"
    }
   ],
   "source": [
    "np_array + 1"
   ]
  },
  {
   "cell_type": "markdown",
   "metadata": {
    "id": "HIVjS9bbWfQn",
    "pycharm": {
     "name": "#%% md\n"
    }
   },
   "source": [
    "Once a ndarray is created, you cannot alter its size. To do so, you will have to create a new ndarray:"
   ]
  },
  {
   "cell_type": "code",
   "execution_count": 9,
   "metadata": {
    "colab": {
     "base_uri": "https://localhost:8080/"
    },
    "id": "0D4sCnNdWMmj",
    "outputId": "752236ae-fcd1-4b11-dd52-9d62ce67b2d6",
    "pycharm": {
     "name": "#%%\n"
    }
   },
   "outputs": [
    {
     "data": {
      "text/plain": "[0, 1, 2, 3, 4, 5, 6, 7, 8, 9, 11, 12]"
     },
     "execution_count": 9,
     "metadata": {},
     "output_type": "execute_result"
    }
   ],
   "source": [
    "py_list + [11, 12]"
   ]
  },
  {
   "cell_type": "code",
   "execution_count": 10,
   "metadata": {
    "colab": {
     "base_uri": "https://localhost:8080/",
     "height": 172
    },
    "id": "TW9-k6zwWhiy",
    "outputId": "708b4de1-8a3b-4707-e0e7-3ffe1448301f",
    "pycharm": {
     "name": "#%%\n"
    }
   },
   "outputs": [
    {
     "ename": "ValueError",
     "evalue": "operands could not be broadcast together with shapes (10,) (2,) ",
     "output_type": "error",
     "traceback": [
      "\u001B[0;31m---------------------------------------------------------------------------\u001B[0m",
      "\u001B[0;31mValueError\u001B[0m                                Traceback (most recent call last)",
      "Input \u001B[0;32mIn [10]\u001B[0m, in \u001B[0;36m<cell line: 1>\u001B[0;34m()\u001B[0m\n\u001B[0;32m----> 1\u001B[0m \u001B[43mnp_array\u001B[49m\u001B[43m \u001B[49m\u001B[38;5;241;43m+\u001B[39;49m\u001B[43m \u001B[49m\u001B[43mnp\u001B[49m\u001B[38;5;241;43m.\u001B[39;49m\u001B[43marray\u001B[49m\u001B[43m(\u001B[49m\u001B[43m[\u001B[49m\u001B[38;5;241;43m11\u001B[39;49m\u001B[43m,\u001B[49m\u001B[38;5;241;43m12\u001B[39;49m\u001B[43m]\u001B[49m\u001B[43m)\u001B[49m\n",
      "\u001B[0;31mValueError\u001B[0m: operands could not be broadcast together with shapes (10,) (2,) "
     ]
    }
   ],
   "source": [
    "np_array + np.array([11,12])"
   ]
  },
  {
   "cell_type": "markdown",
   "metadata": {
    "id": "aV3Pfjm6TMtn",
    "pycharm": {
     "name": "#%% md\n"
    }
   },
   "source": [
    "However, if both numpy arrays are of same shape, we receive element wise addition:"
   ]
  },
  {
   "cell_type": "code",
   "execution_count": 11,
   "metadata": {
    "colab": {
     "base_uri": "https://localhost:8080/"
    },
    "id": "YdsJQSxJTRc0",
    "outputId": "89fd7c24-09c1-4852-efe0-6f9de83c0467",
    "pycharm": {
     "name": "#%%\n"
    }
   },
   "outputs": [
    {
     "data": {
      "text/plain": "array([10, 10, 10, 10, 10, 10, 10, 10, 10, 10])"
     },
     "execution_count": 11,
     "metadata": {},
     "output_type": "execute_result"
    }
   ],
   "source": [
    "new_array = np_array + np.arange(10, 0, -1)\n",
    "new_array"
   ]
  },
  {
   "cell_type": "markdown",
   "metadata": {
    "id": "RACHbxkJWvqB",
    "pycharm": {
     "name": "#%% md\n"
    }
   },
   "source": [
    "You may also specify the datatype by setting the dtype argument. Some of the most commonly used numpy dtypes are: 'float', 'int', 'bool', 'str' and 'object'. \n",
    "\n",
    "* Unlike lists, numpy arrays should have all items to be of the same data type. This is another significant difference."
   ]
  },
  {
   "cell_type": "code",
   "execution_count": 12,
   "metadata": {
    "colab": {
     "base_uri": "https://localhost:8080/"
    },
    "id": "zULlgBLzWxaF",
    "outputId": "b030e5bb-edcc-42a2-eb11-4f4ccc5e19ef",
    "pycharm": {
     "name": "#%%\n"
    }
   },
   "outputs": [
    {
     "name": "stdout",
     "output_type": "stream",
     "text": [
      "[ True False False  True  True]\n"
     ]
    }
   ],
   "source": [
    "np_array_bool = np.array([1, 0, 0 ,1 ,1], dtype='bool')\n",
    "print(np_array_bool)"
   ]
  },
  {
   "cell_type": "markdown",
   "metadata": {
    "id": "OjPHkcmuW3pg",
    "pycharm": {
     "name": "#%% md\n"
    }
   },
   "source": [
    "To summarise, the main differences between Numpy arrays and python lists are::\n",
    "\n",
    "1.   Numpy Arrays support vectorized operations, while lists don’t.\n",
    "2.   Once an array is created, you cannot change its size. You will have to create a new array or overwrite the existing one.\n",
    "3. Every array has one and only one dtype. All items in it should be of that dtype."
   ]
  },
  {
   "cell_type": "markdown",
   "metadata": {
    "id": "9WIeADXYWDWA",
    "pycharm": {
     "name": "#%% md\n"
    }
   },
   "source": [
    "## Creating Arrays"
   ]
  },
  {
   "cell_type": "code",
   "execution_count": 13,
   "metadata": {
    "colab": {
     "base_uri": "https://localhost:8080/"
    },
    "id": "eC3UdTbXSBQq",
    "outputId": "a41fde34-c7e9-4646-e616-ce5a17bccb11",
    "pycharm": {
     "name": "#%%\n"
    }
   },
   "outputs": [
    {
     "data": {
      "text/plain": "array([1, 2, 3, 4])"
     },
     "execution_count": 13,
     "metadata": {},
     "output_type": "execute_result"
    }
   ],
   "source": [
    "np.array([1, 2, 3, 4])"
   ]
  },
  {
   "cell_type": "code",
   "execution_count": 14,
   "metadata": {
    "colab": {
     "base_uri": "https://localhost:8080/"
    },
    "id": "kuV-lSOIR_3m",
    "outputId": "926f79d3-8931-4253-bda4-88d54b49118a",
    "pycharm": {
     "name": "#%%\n"
    }
   },
   "outputs": [
    {
     "data": {
      "text/plain": "array([0, 1, 2, 3])"
     },
     "execution_count": 14,
     "metadata": {},
     "output_type": "execute_result"
    }
   ],
   "source": [
    "np.arange(4)"
   ]
  },
  {
   "cell_type": "code",
   "execution_count": 15,
   "metadata": {
    "colab": {
     "base_uri": "https://localhost:8080/"
    },
    "id": "NK_4VYFfJqhU",
    "outputId": "bcc6ac63-8b40-4400-ae9e-f4dd982c6ed3",
    "pycharm": {
     "name": "#%%\n"
    }
   },
   "outputs": [
    {
     "data": {
      "text/plain": "array([0. , 0.1, 0.2, 0.3, 0.4, 0.5, 0.6, 0.7, 0.8, 0.9])"
     },
     "execution_count": 15,
     "metadata": {},
     "output_type": "execute_result"
    }
   ],
   "source": [
    "np.arange(0, 1, 0.1)  # (low, high, step size)"
   ]
  },
  {
   "cell_type": "code",
   "execution_count": 16,
   "metadata": {
    "colab": {
     "base_uri": "https://localhost:8080/"
    },
    "id": "nyZpJIdfVI2u",
    "outputId": "81902d6c-2a11-46cb-c535-e23d3c2f163d",
    "pycharm": {
     "name": "#%%\n"
    }
   },
   "outputs": [
    {
     "data": {
      "text/plain": "array([[1., 1.],\n       [1., 1.]])"
     },
     "execution_count": 16,
     "metadata": {},
     "output_type": "execute_result"
    }
   ],
   "source": [
    "np.ones(shape=(2,2))"
   ]
  },
  {
   "cell_type": "code",
   "execution_count": 17,
   "metadata": {
    "colab": {
     "base_uri": "https://localhost:8080/"
    },
    "id": "CYYNjT9rVJEG",
    "outputId": "cb6668be-13e7-41e0-965f-7a497631f944",
    "pycharm": {
     "name": "#%%\n"
    }
   },
   "outputs": [
    {
     "data": {
      "text/plain": "array([[1, 0, 0],\n       [0, 2, 0],\n       [0, 0, 3]])"
     },
     "execution_count": 17,
     "metadata": {},
     "output_type": "execute_result"
    }
   ],
   "source": [
    "np.diag((1, 2, 3))"
   ]
  },
  {
   "cell_type": "code",
   "execution_count": 18,
   "metadata": {
    "colab": {
     "base_uri": "https://localhost:8080/"
    },
    "id": "Co1eusGJN62_",
    "outputId": "2826093c-3e96-4c68-fe5c-8022460d2218",
    "pycharm": {
     "name": "#%%\n"
    }
   },
   "outputs": [
    {
     "data": {
      "text/plain": "array([0.        , 0.01010101, 0.02020202, 0.03030303, 0.04040404,\n       0.05050505, 0.06060606, 0.07070707, 0.08080808, 0.09090909,\n       0.1010101 , 0.11111111, 0.12121212, 0.13131313, 0.14141414,\n       0.15151515, 0.16161616, 0.17171717, 0.18181818, 0.19191919,\n       0.2020202 , 0.21212121, 0.22222222, 0.23232323, 0.24242424,\n       0.25252525, 0.26262626, 0.27272727, 0.28282828, 0.29292929,\n       0.3030303 , 0.31313131, 0.32323232, 0.33333333, 0.34343434,\n       0.35353535, 0.36363636, 0.37373737, 0.38383838, 0.39393939,\n       0.4040404 , 0.41414141, 0.42424242, 0.43434343, 0.44444444,\n       0.45454545, 0.46464646, 0.47474747, 0.48484848, 0.49494949,\n       0.50505051, 0.51515152, 0.52525253, 0.53535354, 0.54545455,\n       0.55555556, 0.56565657, 0.57575758, 0.58585859, 0.5959596 ,\n       0.60606061, 0.61616162, 0.62626263, 0.63636364, 0.64646465,\n       0.65656566, 0.66666667, 0.67676768, 0.68686869, 0.6969697 ,\n       0.70707071, 0.71717172, 0.72727273, 0.73737374, 0.74747475,\n       0.75757576, 0.76767677, 0.77777778, 0.78787879, 0.7979798 ,\n       0.80808081, 0.81818182, 0.82828283, 0.83838384, 0.84848485,\n       0.85858586, 0.86868687, 0.87878788, 0.88888889, 0.8989899 ,\n       0.90909091, 0.91919192, 0.92929293, 0.93939394, 0.94949495,\n       0.95959596, 0.96969697, 0.97979798, 0.98989899, 1.        ])"
     },
     "execution_count": 18,
     "metadata": {},
     "output_type": "execute_result"
    }
   ],
   "source": [
    "np.linspace(0, 1, 100) # 100 point between 0 and 1: start, stop, num points"
   ]
  },
  {
   "cell_type": "markdown",
   "metadata": {
    "id": "1L06xPLvXI3A",
    "pycharm": {
     "name": "#%% md\n"
    }
   },
   "source": [
    "## Numpy Basic Attributes and Functionality"
   ]
  },
  {
   "cell_type": "markdown",
   "metadata": {
    "id": "1pR5gfrJXTWR",
    "pycharm": {
     "name": "#%% md\n"
    }
   },
   "source": [
    "Array attributes:\n",
    "\n",
    "The attributes dtype, shape, size and ndim of Numpy array object:\n"
   ]
  },
  {
   "cell_type": "code",
   "execution_count": 19,
   "metadata": {
    "colab": {
     "base_uri": "https://localhost:8080/"
    },
    "id": "RfmY5IpZXUBN",
    "outputId": "9f5a50b8-b239-4b79-d19b-bf40c2baf6d8",
    "pycharm": {
     "name": "#%%\n"
    }
   },
   "outputs": [
    {
     "name": "stdout",
     "output_type": "stream",
     "text": [
      "[[1 2 3]\n",
      " [4 5 6]]\n",
      "Type: int64\n",
      "Shape: (2, 3)\n",
      "Size: 6\n",
      "Num dims: 2\n"
     ]
    }
   ],
   "source": [
    "np_arr = np.array([[1, 2, 3], [4, 5, 6]])\n",
    "print(np_arr)\n",
    "print('Type: ' + str(np_arr.dtype))\n",
    "print('Shape: ' + str(np_arr.shape))\n",
    "print('Size: ' + str(np_arr.size))\n",
    "print('Num dims: ' + str(np_arr.ndim))"
   ]
  },
  {
   "cell_type": "markdown",
   "metadata": {
    "id": "1dZXzSlUQR2q",
    "pycharm": {
     "name": "#%% md\n"
    }
   },
   "source": [
    "## Slicing + iterating"
   ]
  },
  {
   "cell_type": "code",
   "execution_count": 20,
   "metadata": {
    "colab": {
     "base_uri": "https://localhost:8080/"
    },
    "id": "D2eojtwCQTYh",
    "outputId": "e3903dbe-a276-4806-d8ce-3a16d6c16342",
    "pycharm": {
     "name": "#%%\n"
    }
   },
   "outputs": [
    {
     "name": "stdout",
     "output_type": "stream",
     "text": [
      "Rows:\n",
      "Row 0: [1. 2. 3.]\n",
      "Row 1: [4. 5. 6.]\n",
      "Row 2: [7. 8. 9.]\n",
      "\n",
      "Columns:\n",
      "Column 0: [1. 4. 7.]\n",
      "Column 1: [2. 5. 8.]\n",
      "Column 2: [3. 6. 9.]\n"
     ]
    }
   ],
   "source": [
    "A = np.array([[1,2,3],[4,5,6],[7,8,9]], dtype=float)\n",
    "\n",
    "print(\"Rows:\")\n",
    "for i in range(3):\n",
    "  print(f\"Row {i}: {A[i]}\")\n",
    "\n",
    "print(\"\\nColumns:\")\n",
    "for i in range(3):\n",
    "  print(f\"Column {i}: {A[:, i]}\")"
   ]
  },
  {
   "cell_type": "markdown",
   "metadata": {
    "id": "3CKddeJVM2zW",
    "pycharm": {
     "name": "#%% md\n"
    }
   },
   "source": [
    "more slicing:"
   ]
  },
  {
   "cell_type": "code",
   "execution_count": 21,
   "metadata": {
    "colab": {
     "base_uri": "https://localhost:8080/"
    },
    "id": "UlX4ozMSM0-q",
    "outputId": "54b6ff24-9adf-4943-8d50-9b84f63e9f9e",
    "pycharm": {
     "name": "#%%\n"
    }
   },
   "outputs": [
    {
     "name": "stdout",
     "output_type": "stream",
     "text": [
      "The original matrix\n",
      "[[ 1.  2.  3.  4.]\n",
      " [ 5.  6.  7.  8.]\n",
      " [ 9. 10. 11. 12.]\n",
      " [13. 14. 15. 16.]]\n",
      "\n",
      "The odd rows:\n",
      "[[ 1.  2.  3.  4.]\n",
      " [ 9. 10. 11. 12.]]\n",
      "\n",
      "The odd rows and even columns:\n",
      "[[ 2.  4.]\n",
      " [10. 12.]]\n"
     ]
    }
   ],
   "source": [
    "B = np.array([[1,2,3,4],[5,6,7,8],[9,10,11,12], [13,14,15,16]], dtype=float)\n",
    "\n",
    "print(\"The original matrix\")\n",
    "print(B)\n",
    "\n",
    "print(\"\\nThe odd rows:\")\n",
    "print(B[0::2, :])\n",
    "\n",
    "print(\"\\nThe odd rows and even columns:\")\n",
    "print(B[0::2, 1::2])"
   ]
  },
  {
   "cell_type": "markdown",
   "metadata": {
    "id": "Zz6JItEsWhMM",
    "pycharm": {
     "name": "#%% md\n"
    }
   },
   "source": [
    "## Random\n",
    "Numpy has a sub-module called random (similar to the one available in native python).\n",
    "We can access it by `np.random`"
   ]
  },
  {
   "cell_type": "code",
   "execution_count": 22,
   "metadata": {
    "colab": {
     "base_uri": "https://localhost:8080/"
    },
    "id": "Q9ZUklqYWiac",
    "outputId": "bbb21b0e-2c2d-4fe0-8c23-fe2554b37037",
    "pycharm": {
     "name": "#%%\n"
    }
   },
   "outputs": [
    {
     "name": "stdout",
     "output_type": "stream",
     "text": [
      "[[8 6 1]\n",
      " [3 7 3]]\n"
     ]
    }
   ],
   "source": [
    "# Random integers: np.random.randint(low, high, size)\n",
    "arr = np.random.randint(1, 10, (2,3)) # unlike in pytohn's randint, here \"high\" is not included\n",
    "print(arr)"
   ]
  },
  {
   "cell_type": "code",
   "execution_count": 23,
   "metadata": {
    "colab": {
     "base_uri": "https://localhost:8080/"
    },
    "id": "PNRK8yVAWzxU",
    "outputId": "94a83b9d-4668-4d18-dfb7-95f62b0d2e8b",
    "pycharm": {
     "name": "#%%\n"
    }
   },
   "outputs": [
    {
     "name": "stdout",
     "output_type": "stream",
     "text": [
      "[2 1 4 3]\n",
      "[2 3 1 4]\n",
      "[4 2 1 3]\n",
      "[2 1 3 4]\n",
      "[2 1 3 4]\n"
     ]
    }
   ],
   "source": [
    "# Permutation in place:\n",
    "arr = np.array([1,2,3,4])\n",
    "\n",
    "for _ in range(5):\n",
    "  np.random.shuffle(arr)\n",
    "  print(arr)"
   ]
  },
  {
   "cell_type": "code",
   "execution_count": 24,
   "metadata": {
    "colab": {
     "base_uri": "https://localhost:8080/"
    },
    "id": "mOa-AkkMXSGW",
    "outputId": "76b2fb53-158d-4fe5-b34d-a3d40f75a8c8",
    "pycharm": {
     "name": "#%%\n"
    }
   },
   "outputs": [
    {
     "name": "stdout",
     "output_type": "stream",
     "text": [
      "[1 2 3 4 5 6 7]\n",
      "[7 6 2 5 3 1 4]\n"
     ]
    }
   ],
   "source": [
    "# Permutation new array:\n",
    "arr = np.array([1,2,3,4,5,6,7])\n",
    "new_arr = np.random.permutation(arr)\n",
    "print(arr)\n",
    "print(new_arr)"
   ]
  },
  {
   "cell_type": "code",
   "execution_count": 25,
   "metadata": {
    "colab": {
     "base_uri": "https://localhost:8080/"
    },
    "id": "fwMUfDkqVQeO",
    "outputId": "35ab4ec7-aba6-4f75-8ba5-95037d0e8968",
    "pycharm": {
     "name": "#%%\n"
    }
   },
   "outputs": [
    {
     "name": "stdout",
     "output_type": "stream",
     "text": [
      "[[0.23937915 0.41411701 0.92644973]\n",
      " [0.45918961 0.99773507 0.89207023]]\n"
     ]
    }
   ],
   "source": [
    "#rand is Random Uniform in [0.0, 1.0)\n",
    "print(np.random.rand(2, 3))"
   ]
  },
  {
   "cell_type": "code",
   "execution_count": 26,
   "metadata": {
    "colab": {
     "base_uri": "https://localhost:8080/"
    },
    "id": "-l-Hm4ZvXrkq",
    "outputId": "43aa531f-2a53-4d8d-c88b-aff644f11371",
    "pycharm": {
     "name": "#%%\n"
    }
   },
   "outputs": [
    {
     "name": "stdout",
     "output_type": "stream",
     "text": [
      "[[-0.96252555 -0.98774974 -1.4242618 ]\n",
      " [-0.94238912 -0.45293776  0.86779379]]\n"
     ]
    }
   ],
   "source": [
    "#randn is Random Gaussian N(0,1)\n",
    "print(np.random.randn(2,3))"
   ]
  },
  {
   "cell_type": "markdown",
   "metadata": {
    "id": "NFC6bxpAYOU3",
    "pycharm": {
     "name": "#%% md\n"
    }
   },
   "source": [
    "## Assigning values to cells"
   ]
  },
  {
   "cell_type": "code",
   "execution_count": 27,
   "metadata": {
    "colab": {
     "base_uri": "https://localhost:8080/"
    },
    "id": "7zVZ-TIvVkDH",
    "outputId": "79eeabbb-fd4c-49d1-8564-e8788ddf9704",
    "pycharm": {
     "name": "#%%\n"
    }
   },
   "outputs": [
    {
     "name": "stdout",
     "output_type": "stream",
     "text": [
      "[[1. 1. 1.]\n",
      " [1. 1. 1.]\n",
      " [1. 1. 1.]]\n",
      "\n",
      "changing a[0,0] to 0:\n",
      "[[0. 1. 1.]\n",
      " [1. 1. 1.]\n",
      " [1. 1. 1.]]\n"
     ]
    }
   ],
   "source": [
    "a = np.ones((3,3))\n",
    "print(a)\n",
    "\n",
    "print(\"\\nchanging a[0,0] to 0:\")\n",
    "a[0,0] = 0\n",
    "print(a)"
   ]
  },
  {
   "cell_type": "markdown",
   "metadata": {
    "id": "6f4iVCdXONjk",
    "pycharm": {
     "name": "#%% md\n"
    }
   },
   "source": [
    "## Copying arrays"
   ]
  },
  {
   "cell_type": "code",
   "execution_count": 28,
   "metadata": {
    "colab": {
     "base_uri": "https://localhost:8080/"
    },
    "id": "VmwfnstuOLWj",
    "outputId": "c2002c02-b0a3-45ea-925c-30ef59aec7a9",
    "pycharm": {
     "name": "#%%\n"
    }
   },
   "outputs": [
    {
     "name": "stdout",
     "output_type": "stream",
     "text": [
      "a:\n",
      "[[1. 1. 1.]\n",
      " [1. 1. 1.]\n",
      " [1. 1. 1.]]\n",
      "\n",
      "b:\n",
      "[[0. 1. 1.]\n",
      " [1. 1. 1.]\n",
      " [1. 1. 1.]]\n",
      "a:\n",
      "[[0. 1. 1.]\n",
      " [1. 1. 1.]\n",
      " [1. 1. 1.]]\n"
     ]
    }
   ],
   "source": [
    "a = np.ones((3,3))\n",
    "print('a:')\n",
    "print(a)\n",
    "\n",
    "b = a\n",
    "b[0,0] = 0\n",
    "print('\\nb:')\n",
    "print(b)\n",
    "\n",
    "print('a:')\n",
    "print(a)"
   ]
  },
  {
   "cell_type": "markdown",
   "metadata": {
    "id": "WUq9IoTcOkD6",
    "pycharm": {
     "name": "#%% md\n"
    }
   },
   "source": [
    "But if we use the constructor:"
   ]
  },
  {
   "cell_type": "code",
   "execution_count": 29,
   "metadata": {
    "colab": {
     "base_uri": "https://localhost:8080/"
    },
    "id": "HFSPI3FVOb5u",
    "outputId": "a9a3bb1e-7099-4788-eaf4-2d60436ffe37",
    "pycharm": {
     "name": "#%%\n"
    }
   },
   "outputs": [
    {
     "name": "stdout",
     "output_type": "stream",
     "text": [
      "a:\n",
      "[[1. 1. 1.]\n",
      " [1. 1. 1.]\n",
      " [1. 1. 1.]]\n",
      "\n",
      "b:\n",
      "[[0. 1. 1.]\n",
      " [1. 1. 1.]\n",
      " [1. 1. 1.]]\n",
      "a:\n",
      "[[1. 1. 1.]\n",
      " [1. 1. 1.]\n",
      " [1. 1. 1.]]\n"
     ]
    }
   ],
   "source": [
    "a = np.ones((3,3))\n",
    "print('a:')\n",
    "print(a)\n",
    "\n",
    "b = np.array(a) # <---------------\n",
    "b[0,0] = 0\n",
    "print('\\nb:')\n",
    "print(b)\n",
    "\n",
    "print('a:')\n",
    "print(a)"
   ]
  },
  {
   "cell_type": "markdown",
   "metadata": {
    "id": "4j-VYOm0aXtR",
    "pycharm": {
     "name": "#%% md\n"
    }
   },
   "source": [
    "## Array methods"
   ]
  },
  {
   "cell_type": "code",
   "execution_count": 30,
   "metadata": {
    "id": "rOOhFKaNaZJi",
    "pycharm": {
     "name": "#%%\n"
    }
   },
   "outputs": [],
   "source": [
    "b = np.array([ 1, 2, 3, 4])"
   ]
  },
  {
   "cell_type": "markdown",
   "metadata": {
    "id": "OXXac1E-vJaa",
    "pycharm": {
     "name": "#%% md\n"
    }
   },
   "source": [
    "####Aggregative functions"
   ]
  },
  {
   "cell_type": "code",
   "execution_count": 31,
   "metadata": {
    "colab": {
     "base_uri": "https://localhost:8080/"
    },
    "id": "jjkblfgLadkb",
    "outputId": "2abfeadb-5841-4ce9-e7cf-8afa231dfffc",
    "pycharm": {
     "name": "#%%\n"
    }
   },
   "outputs": [
    {
     "name": "stdout",
     "output_type": "stream",
     "text": [
      "1\n",
      "4\n",
      "10\n",
      "2.5\n"
     ]
    }
   ],
   "source": [
    "print(b.min())\n",
    "print(b.max())\n",
    "print(b.sum())\n",
    "print(b.mean())"
   ]
  },
  {
   "cell_type": "markdown",
   "metadata": {
    "id": "e3csuSSgvRzG",
    "pycharm": {
     "name": "#%% md\n"
    }
   },
   "source": [
    "####Mathematical functions"
   ]
  },
  {
   "cell_type": "code",
   "execution_count": 32,
   "metadata": {
    "colab": {
     "base_uri": "https://localhost:8080/"
    },
    "id": "PBQHuuZsYoqC",
    "outputId": "894cf6a6-fb43-431f-b146-29a35f624915",
    "pycharm": {
     "name": "#%%\n"
    }
   },
   "outputs": [
    {
     "name": "stdout",
     "output_type": "stream",
     "text": [
      "[ 1  4  9 16]\n"
     ]
    }
   ],
   "source": [
    "print(b**2)"
   ]
  },
  {
   "cell_type": "code",
   "execution_count": 33,
   "metadata": {
    "colab": {
     "base_uri": "https://localhost:8080/"
    },
    "id": "R5Js-a8kYpu1",
    "outputId": "d1d298d4-2629-474a-9d10-ab46a16bdde0",
    "pycharm": {
     "name": "#%%\n"
    }
   },
   "outputs": [
    {
     "name": "stdout",
     "output_type": "stream",
     "text": [
      "[1.         1.41421356 1.73205081 2.        ]\n"
     ]
    }
   ],
   "source": [
    "print(np.sqrt(b))"
   ]
  },
  {
   "cell_type": "code",
   "execution_count": 34,
   "metadata": {
    "colab": {
     "base_uri": "https://localhost:8080/"
    },
    "id": "SMi-zSdYv3H3",
    "outputId": "bbe72304-6ac2-4214-8b6a-fa5ea68c340c",
    "pycharm": {
     "name": "#%%\n"
    }
   },
   "outputs": [
    {
     "name": "stdout",
     "output_type": "stream",
     "text": [
      "[0.33333333 0.66666667 1.         1.33333333]\n"
     ]
    }
   ],
   "source": [
    "print(b/3)"
   ]
  },
  {
   "cell_type": "markdown",
   "metadata": {
    "id": "4QzlK7r5vt1Y",
    "pycharm": {
     "name": "#%% md\n"
    }
   },
   "source": [
    "#### Binary operators"
   ]
  },
  {
   "cell_type": "code",
   "execution_count": 35,
   "metadata": {
    "colab": {
     "base_uri": "https://localhost:8080/"
    },
    "id": "1jokfpZoYrXA",
    "outputId": "788823c4-e482-45d0-e1fd-9894dc806b70",
    "pycharm": {
     "name": "#%%\n"
    }
   },
   "outputs": [
    {
     "name": "stdout",
     "output_type": "stream",
     "text": [
      "a = [0 1 2 3]\n",
      "b = [1 2 3 4]\n"
     ]
    }
   ],
   "source": [
    "a = np.arange(4)\n",
    "b = np.array([ 1, 2, 3, 4])\n",
    "print(f'a = {a}')\n",
    "print(f'b = {b}')"
   ]
  },
  {
   "cell_type": "code",
   "execution_count": 36,
   "metadata": {
    "colab": {
     "base_uri": "https://localhost:8080/"
    },
    "id": "Xwzkoke7Y2j2",
    "outputId": "b975ea36-f182-4059-b0bc-3a1f12e1d093",
    "pycharm": {
     "name": "#%%\n"
    }
   },
   "outputs": [
    {
     "name": "stdout",
     "output_type": "stream",
     "text": [
      "[ 0  2  6 12]\n"
     ]
    }
   ],
   "source": [
    "#element wise multiplication:\n",
    "print(a * b)"
   ]
  },
  {
   "cell_type": "code",
   "execution_count": 37,
   "metadata": {
    "colab": {
     "base_uri": "https://localhost:8080/"
    },
    "id": "z1eMK7tVZBZ3",
    "outputId": "5086d963-81f1-4f43-a849-77ce8e9053d5",
    "pycharm": {
     "name": "#%%\n"
    }
   },
   "outputs": [
    {
     "name": "stdout",
     "output_type": "stream",
     "text": [
      "20\n"
     ]
    }
   ],
   "source": [
    "#dot product:\n",
    "print(a @ b)\n",
    "\n",
    "# or: np.dot(a,b)"
   ]
  },
  {
   "cell_type": "code",
   "execution_count": 38,
   "metadata": {
    "colab": {
     "base_uri": "https://localhost:8080/"
    },
    "id": "oxFuHvTIY4QF",
    "outputId": "d1739faf-8880-4fd4-b3d1-ecc414ded415",
    "pycharm": {
     "name": "#%%\n"
    }
   },
   "outputs": [
    {
     "name": "stdout",
     "output_type": "stream",
     "text": [
      "[-1 -1 -1 -1]\n"
     ]
    }
   ],
   "source": [
    "#subtraction\n",
    "print(a - b)"
   ]
  },
  {
   "cell_type": "code",
   "execution_count": 39,
   "metadata": {
    "colab": {
     "base_uri": "https://localhost:8080/"
    },
    "id": "WsnKxq0OS0LM",
    "outputId": "12359c4f-c019-42e5-f5c2-5fae4e975fcc",
    "pycharm": {
     "name": "#%%\n"
    }
   },
   "outputs": [
    {
     "name": "stdout",
     "output_type": "stream",
     "text": [
      "[1 3 5 7]\n"
     ]
    }
   ],
   "source": [
    "#addition\n",
    "print(a + b)"
   ]
  },
  {
   "cell_type": "markdown",
   "metadata": {
    "id": "1Y0H_3sIBCnE",
    "pycharm": {
     "name": "#%% md\n"
    }
   },
   "source": [
    "## Linear Algebra with Numpy"
   ]
  },
  {
   "cell_type": "code",
   "execution_count": 40,
   "metadata": {
    "colab": {
     "base_uri": "https://localhost:8080/"
    },
    "id": "bnO64P--C0Xm",
    "outputId": "67240835-b9b3-4589-9a56-0c2c9dd8161a",
    "pycharm": {
     "name": "#%%\n"
    }
   },
   "outputs": [
    {
     "name": "stdout",
     "output_type": "stream",
     "text": [
      "[[1. 0. 0.]\n",
      " [0. 1. 0.]\n",
      " [0. 0. 1.]]\n"
     ]
    }
   ],
   "source": [
    "print(np.eye(3))                  # identity matrix"
   ]
  },
  {
   "cell_type": "code",
   "execution_count": 41,
   "metadata": {
    "id": "yIPwOJVABEFk",
    "pycharm": {
     "name": "#%%\n"
    }
   },
   "outputs": [],
   "source": [
    "A = np.random.randn(5, 5)\n",
    "b = np.random.randn(5)"
   ]
  },
  {
   "cell_type": "code",
   "execution_count": 42,
   "metadata": {
    "colab": {
     "base_uri": "https://localhost:8080/"
    },
    "id": "0FDGAotgCpkE",
    "outputId": "888af616-601f-41f7-b15e-cb2b6fbd32f8",
    "pycharm": {
     "name": "#%%\n"
    }
   },
   "outputs": [
    {
     "name": "stdout",
     "output_type": "stream",
     "text": [
      "-0.607665304448447\n"
     ]
    }
   ],
   "source": [
    "print(np.trace(A))                # trace of A"
   ]
  },
  {
   "cell_type": "code",
   "execution_count": 43,
   "metadata": {
    "colab": {
     "base_uri": "https://localhost:8080/"
    },
    "id": "eR8nEtfGCpmv",
    "outputId": "7880cb8c-79e8-4de4-e500-b1ee2d453a14",
    "pycharm": {
     "name": "#%%\n"
    }
   },
   "outputs": [
    {
     "name": "stdout",
     "output_type": "stream",
     "text": [
      "[[-0.32332065 -0.04246445 -0.13390966 -0.10070994 -0.443165  ]\n",
      " [-0.66820608 -0.08405627 -0.59258059  0.59853156  0.02088795]\n",
      " [-0.2851452   0.26807699 -0.26348696  0.37490756 -0.10230348]\n",
      " [ 0.2295066   0.10851419  0.28594126  0.26486315 -0.06582656]\n",
      " [-0.06887402  0.086457    0.49714412 -0.28494565  0.18127667]]\n"
     ]
    }
   ],
   "source": [
    "print(np.linalg.inv(A))           # inverse of A"
   ]
  },
  {
   "cell_type": "code",
   "execution_count": 44,
   "metadata": {
    "colab": {
     "base_uri": "https://localhost:8080/"
    },
    "id": "bDDTPNYMUSEx",
    "outputId": "16c674ea-7117-4172-ce27-6ac0d085353b",
    "pycharm": {
     "name": "#%%\n"
    }
   },
   "outputs": [
    {
     "name": "stdout",
     "output_type": "stream",
     "text": [
      "[[-0.66936246 -0.55985825  0.54006989 -0.22748241 -1.82599724]\n",
      " [-0.90596369 -1.60434736  0.54628344  0.95981195  0.43150803]\n",
      " [-0.04059238  3.44777664 -0.86957721 -0.42408926  0.05837831]\n",
      " [ 0.29117334 -1.0633614   1.68457326  1.88008937 -1.04681468]\n",
      " [-1.44916654  0.37580164  1.37832521 -0.22334225  0.65553235]]\n"
     ]
    }
   ],
   "source": [
    "print(A.T)                        # transpose of A"
   ]
  },
  {
   "cell_type": "code",
   "execution_count": 45,
   "metadata": {
    "colab": {
     "base_uri": "https://localhost:8080/"
    },
    "id": "vxWj1aj3Cpp1",
    "outputId": "332f82b3-ed15-4ec5-82ef-b76ee4a9a65d",
    "pycharm": {
     "name": "#%%\n"
    }
   },
   "outputs": [
    {
     "name": "stdout",
     "output_type": "stream",
     "text": [
      "1.2471163393368778\n"
     ]
    }
   ],
   "source": [
    "print(np.linalg.norm(b))          # norm of b"
   ]
  },
  {
   "cell_type": "code",
   "execution_count": 46,
   "metadata": {
    "colab": {
     "base_uri": "https://localhost:8080/"
    },
    "id": "Iq7tj0kFCpvX",
    "outputId": "9b53f8b0-9b21-40cf-98cc-6ab9dcc78039",
    "pycharm": {
     "name": "#%%\n"
    }
   },
   "outputs": [
    {
     "name": "stdout",
     "output_type": "stream",
     "text": [
      "[ 0.13564772 -0.86838818 -0.25448735  0.29345258  0.48221978]\n"
     ]
    }
   ],
   "source": [
    "print(np.linalg.solve(A, b))       # solves Ax=b"
   ]
  },
  {
   "cell_type": "code",
   "execution_count": 47,
   "metadata": {
    "colab": {
     "base_uri": "https://localhost:8080/"
    },
    "id": "yYB9m_DaCp00",
    "outputId": "eac41833-34db-42d7-f9b2-e8ab449202a3",
    "pycharm": {
     "name": "#%%\n"
    }
   },
   "outputs": [
    {
     "name": "stdout",
     "output_type": "stream",
     "text": [
      "[-2.75835062+0.j         -1.01971189+1.24220612j -1.01971189-1.24220612j\n",
      "  2.09505455+0.35897448j  2.09505455-0.35897448j]\n"
     ]
    }
   ],
   "source": [
    "print(np.linalg.eigvals(A))       # eigenvalues of A"
   ]
  },
  {
   "cell_type": "markdown",
   "metadata": {
    "id": "Pah1IckMm5Qx",
    "pycharm": {
     "name": "#%% md\n"
    }
   },
   "source": [
    "##Further Reading\n"
   ]
  },
  {
   "cell_type": "markdown",
   "metadata": {
    "id": "-9p81yURoM5G",
    "pycharm": {
     "name": "#%% md\n"
    }
   },
   "source": [
    "https://www.geeksforgeeks.org/numpy-linear-algebra/\n",
    "\n",
    "https://numpy.org/doc/stable/reference/index.html#reference"
   ]
  },
  {
   "cell_type": "markdown",
   "metadata": {
    "id": "D9DNDyrOlDic",
    "pycharm": {
     "name": "#%% md\n"
    }
   },
   "source": [
    "# Matplotlib"
   ]
  },
  {
   "cell_type": "markdown",
   "metadata": {
    "id": "6j4m9oh1lG9f",
    "pycharm": {
     "name": "#%% md\n"
    }
   },
   "source": [
    "Matplotlib is a comprehensive library for creating static, animated, and interactive visualizations in Python. \n",
    "\n",
    "Matplotlib makes easy things easy and hard things possible.\n",
    "\n",
    "* Create publication quality plots.\n",
    "* Make interactive figures that can zoom, pan, update.\n",
    "* Customize visual style and layout.\n",
    "* Export to many file formats .\n",
    "* Embed in JupyterLab and Graphical User Interfaces.\n",
    "* Use a rich array of third-party packages built on Matplotlib.\n",
    "\n",
    "(from matplotlib site)"
   ]
  },
  {
   "cell_type": "code",
   "execution_count": 52,
   "metadata": {
    "id": "R2kCHEywmH6P",
    "pycharm": {
     "name": "#%%\n"
    }
   },
   "outputs": [],
   "source": [
    "import matplotlib.pyplot as plt"
   ]
  },
  {
   "cell_type": "markdown",
   "metadata": {
    "id": "wWnjTcxxl4Yg",
    "pycharm": {
     "name": "#%% md\n"
    }
   },
   "source": [
    "## Plot"
   ]
  },
  {
   "cell_type": "code",
   "execution_count": 53,
   "metadata": {
    "colab": {
     "base_uri": "https://localhost:8080/",
     "height": 297
    },
    "id": "5bQ4tjxrnXcs",
    "outputId": "a73f7af0-5191-4d89-df70-b65dd7235e2a",
    "pycharm": {
     "name": "#%%\n"
    }
   },
   "outputs": [
    {
     "data": {
      "text/plain": "<Figure size 432x288 with 1 Axes>",
      "image/png": "[encoded data removed]"
     },
     "metadata": {
      "needs_background": "light"
     },
     "output_type": "display_data"
    }
   ],
   "source": [
    "x = np.linspace(0, 2 * np.pi, 200)\n",
    "y = np.sin(x)\n",
    "plt.plot(x, y)\n",
    "plt.xlabel('$x$')\n",
    "plt.ylabel('$y$')\n",
    "plt.title('$y=sin(x)$')\n",
    "plt.show()"
   ]
  },
  {
   "cell_type": "code",
   "execution_count": 54,
   "metadata": {
    "colab": {
     "base_uri": "https://localhost:8080/",
     "height": 295
    },
    "id": "i47i4Fwel3qM",
    "outputId": "079d01fb-2ade-4cd0-fb36-b1816001749e",
    "pycharm": {
     "name": "#%%\n"
    }
   },
   "outputs": [
    {
     "data": {
      "text/plain": "<Figure size 432x288 with 1 Axes>",
      "image/png": "[encoded data removed]"
     },
     "metadata": {
      "needs_background": "light"
     },
     "output_type": "display_data"
    }
   ],
   "source": [
    "x = np.linspace(0, 4, 200)\n",
    "y1 = np.exp(x)\n",
    "y2 = list(map(lambda t: 0.5 * (t**2) + 5, x))\n",
    "\n",
    "plt.plot(x, y1, label='$e^x$')\n",
    "plt.plot(x, y2, label='$\\dfrac{x^2}{2} + 5$')\n",
    "plt.title('Two plots in the same figure')\n",
    "plt.xlabel('$x$')\n",
    "plt.ylabel('$y$')\n",
    "plt.legend()\n",
    "plt.show()"
   ]
  },
  {
   "cell_type": "markdown",
   "metadata": {
    "id": "ajawrv67l6PE",
    "pycharm": {
     "name": "#%% md\n"
    }
   },
   "source": [
    "## Scatter"
   ]
  },
  {
   "cell_type": "code",
   "execution_count": 55,
   "metadata": {
    "colab": {
     "base_uri": "https://localhost:8080/",
     "height": 265
    },
    "id": "6_Olr3IBoy5w",
    "outputId": "86304f99-aca2-4408-9f5c-cf9829969188",
    "pycharm": {
     "name": "#%%\n"
    }
   },
   "outputs": [
    {
     "data": {
      "text/plain": "<Figure size 432x288 with 1 Axes>",
      "image/png": "[encoded data removed]"
     },
     "metadata": {
      "needs_background": "light"
     },
     "output_type": "display_data"
    }
   ],
   "source": [
    "x1 = np.random.randn(100, 2)  # 100 records with 2 features each, randomly sampled from N(0, 1)\n",
    "x2 = 2 * np.random.randn(100,2) - 4  # 100 records with 2 features each, randomly sampled from N(-4, 2^2)\n",
    "plt.scatter(*x1.T)  \n",
    "# Alternatively:\n",
    "# plt.scatter(x1[:, 0], x1[:, 1]) \n",
    "plt.scatter(*x2.T)\n",
    "plt.show()"
   ]
  },
  {
   "cell_type": "markdown",
   "metadata": {
    "id": "OduUKJZVl8Gs",
    "pycharm": {
     "name": "#%% md\n"
    }
   },
   "source": [
    "## Subplots"
   ]
  },
  {
   "cell_type": "code",
   "execution_count": 56,
   "metadata": {
    "colab": {
     "base_uri": "https://localhost:8080/",
     "height": 313
    },
    "id": "-0HAaWEOqtbz",
    "outputId": "dfd64af8-bb7f-4e8a-e35d-707d3a83f85c",
    "pycharm": {
     "name": "#%%\n"
    }
   },
   "outputs": [
    {
     "data": {
      "text/plain": "<Figure size 432x288 with 6 Axes>",
      "image/png": "[encoded data removed]"
     },
     "metadata": {
      "needs_background": "light"
     },
     "output_type": "display_data"
    }
   ],
   "source": [
    "nrows = 2\n",
    "ncols = 3\n",
    "x = np.linspace(0, 4, 200)\n",
    "fig, axes = plt.subplots(nrows=nrows, ncols=ncols, constrained_layout=True)\n",
    "for i in range(nrows):\n",
    "  for j in range(ncols):\n",
    "    axes[i, j].plot(x, (j-i)*x**2 + i * x + j)\n",
    "    axes[i, j].set_title(f'i={i}, j={j}')\n",
    "fig.suptitle('Multiple Subplots', fontsize=20)\n",
    "plt.show()"
   ]
  },
  {
   "cell_type": "markdown",
   "metadata": {
    "id": "S8e9EVngsEQW",
    "pycharm": {
     "name": "#%% md\n"
    }
   },
   "source": [
    "## Further Reading "
   ]
  },
  {
   "cell_type": "markdown",
   "metadata": {
    "id": "4PXvAgAxsJjW",
    "pycharm": {
     "name": "#%% md\n"
    }
   },
   "source": [
    "https://matplotlib.org/stable/gallery/index.html"
   ]
  },
  {
   "cell_type": "markdown",
   "metadata": {
    "id": "T_G8BWGwULXy",
    "pycharm": {
     "name": "#%% md\n"
    }
   },
   "source": [
    "# SciPy sparse matrix \n",
    "##  Memory savings"
   ]
  },
  {
   "cell_type": "code",
   "execution_count": 52,
   "metadata": {
    "colab": {
     "base_uri": "https://localhost:8080/"
    },
    "id": "gJfSBFv6UUel",
    "outputId": "d76b6acb-6f51-411e-e07a-591f01329dbd",
    "pycharm": {
     "name": "#%%\n"
    }
   },
   "outputs": [
    {
     "name": "stdout",
     "output_type": "stream",
     "text": [
      "The size of sparse matrix is 11722 KiB\n",
      "The size of regular matrix is 781250.0 KiB\n",
      "Data compression ratio is 66.6481829039413\n"
     ]
    }
   ],
   "source": [
    "import scipy.sparse\n",
    "from scipy.sparse import csr_matrix, csc_matrix\n",
    "\n",
    "def get_sparse_size(matrix):\n",
    "    # get size of a sparse matrix\n",
    "    return int((matrix.data.nbytes + matrix.indptr.nbytes + matrix.indices.nbytes) / 1024.)\n",
    "\n",
    "# create a sparse matrix, 1000 x 100000\n",
    "sparse_mat = scipy.sparse.random(10 ** 3, 10 ** 5, format='csr')\n",
    "\n",
    "# get size of a sparse matrix\n",
    "sparse_size = get_sparse_size(sparse_mat)\n",
    "\n",
    "# convert sparse matrix to a regular matrix and get its size\n",
    "regular_size = sparse_mat.toarray().nbytes / 1024.\n",
    "\n",
    "print(\"The size of sparse matrix is %s KiB\" % sparse_size)\n",
    "print(\"The size of regular matrix is %s KiB\" % regular_size)\n",
    "print(\"Data compression ratio is %s\" % (regular_size / sparse_size))"
   ]
  },
  {
   "cell_type": "markdown",
   "metadata": {
    "id": "LiNVCFsZUqGN",
    "pycharm": {
     "name": "#%% md\n"
    }
   },
   "source": [
    "## The importance of choosing the right format of sparsing"
   ]
  },
  {
   "cell_type": "code",
   "execution_count": 12,
   "metadata": {
    "colab": {
     "base_uri": "https://localhost:8080/"
    },
    "id": "bmGxd2lBUbwC",
    "outputId": "09d322c9-a771-4717-a2df-4e808201579a",
    "pycharm": {
     "name": "#%%\n"
    }
   },
   "outputs": [
    {
     "name": "stdout",
     "output_type": "stream",
     "text": [
      "718 µs ± 24.2 µs per loop (mean ± std. dev. of 7 runs, 1000 loops each)\n",
      "2.22 s ± 50.5 ms per loop (mean ± std. dev. of 7 runs, 1 loop each)\n"
     ]
    }
   ],
   "source": [
    "from scipy.sparse import csr_matrix, csc_matrix\n",
    "\n",
    "n = 10000\n",
    "mat_A = csr_matrix((np.ones(n), (np.zeros(n), np.arange(n))), shape=(n,n))\n",
    "mat_B = csc_matrix((np.ones(n), (np.arange(n), np.zeros(n))), shape=(n,n))\n",
    "\n",
    "%timeit mat_A @ mat_B\n",
    "%timeit mat_B @ mat_A\n"
   ]
  },
  {
   "cell_type": "code",
   "execution_count": 56,
   "metadata": {
    "colab": {
     "base_uri": "https://localhost:8080/"
    },
    "id": "0gACE7QSZPSD",
    "outputId": "6e130d68-d21f-4c48-844b-30831c4bd48b",
    "pycharm": {
     "name": "#%%\n"
    }
   },
   "outputs": [
    {
     "name": "stdout",
     "output_type": "stream",
     "text": [
      "1000 loops, best of 5: 1.08 ms per loop\n",
      "1 loop, best of 5: 679 ms per loop\n"
     ]
    }
   ],
   "source": [
    "from scipy.sparse import csr_matrix, csc_matrix\n",
    "%timeit csr_matrix((np.ones(n), (np.zeros(n), np.arange(n))), shape=(n,n)) @ csc_matrix((np.ones(n), (np.arange(n), np.zeros(n))), shape=(n,n))\n",
    "%timeit csc_matrix((np.ones(n), (np.arange(n), np.zeros(n))), shape=(n,n)) @ csr_matrix((np.ones(n), (np.zeros(n), np.arange(n))), shape=(n,n))"
   ]
  },
  {
   "cell_type": "markdown",
   "metadata": {
    "id": "My4YoPBOVdCd",
    "pycharm": {
     "name": "#%% md\n"
    }
   },
   "source": [
    "## Further Reading \n",
    "https://docs.scipy.org/doc/scipy/reference/sparse.html#sparse-matrix-classes"
   ]
  },
  {
   "cell_type": "code",
   "execution_count": 13,
   "metadata": {
    "id": "jGMkiS52Vfrz",
    "pycharm": {
     "name": "#%%\n"
    }
   },
   "outputs": [
    {
     "ename": "ImportError",
     "evalue": "cannot import name 'csr_array' from 'scipy.sparse' (C:\\Users\\JONAF\\AppData\\Local\\Programs\\Python\\Python310\\lib\\site-packages\\scipy\\sparse\\__init__.py)",
     "output_type": "error",
     "traceback": [
      "\u001B[1;31m---------------------------------------------------------------------------\u001B[0m",
      "\u001B[1;31mImportError\u001B[0m                               Traceback (most recent call last)",
      "\u001B[1;32m~\\AppData\\Local\\Temp/ipykernel_21660/1605519732.py\u001B[0m in \u001B[0;36m<module>\u001B[1;34m\u001B[0m\n\u001B[1;32m----> 1\u001B[1;33m \u001B[1;32mfrom\u001B[0m \u001B[0mscipy\u001B[0m\u001B[1;33m.\u001B[0m\u001B[0msparse\u001B[0m \u001B[1;32mimport\u001B[0m \u001B[0mcsr_matrix\u001B[0m\u001B[1;33m,\u001B[0m \u001B[0mcsc_matrix\u001B[0m\u001B[1;33m,\u001B[0m \u001B[0mcsr_array\u001B[0m\u001B[1;33m,\u001B[0m \u001B[0mcsc_array\u001B[0m\u001B[1;33m\u001B[0m\u001B[1;33m\u001B[0m\u001B[0m\n\u001B[0m",
      "\u001B[1;31mImportError\u001B[0m: cannot import name 'csr_array' from 'scipy.sparse' (C:\\Users\\JONAF\\AppData\\Local\\Programs\\Python\\Python310\\lib\\site-packages\\scipy\\sparse\\__init__.py)"
     ]
    }
   ],
   "source": [
    "from scipy.sparse import csr_matrix, csc_matrix, csr_array, csc_array"
   ]
  },
  {
   "cell_type": "code",
   "execution_count": 15,
   "metadata": {
    "pycharm": {
     "name": "#%%\n"
    }
   },
   "outputs": [],
   "source": [
    "import scipy"
   ]
  },
  {
   "cell_type": "code",
   "execution_count": 16,
   "metadata": {
    "pycharm": {
     "name": "#%%\n"
    }
   },
   "outputs": [
    {
     "data": {
      "text/plain": [
       "['SparseEfficiencyWarning',\n",
       " 'SparseWarning',\n",
       " '__all__',\n",
       " '__builtins__',\n",
       " '__cached__',\n",
       " '__doc__',\n",
       " '__file__',\n",
       " '__loader__',\n",
       " '__name__',\n",
       " '__package__',\n",
       " '__path__',\n",
       " '__spec__',\n",
       " '_csparsetools',\n",
       " '_index',\n",
       " '_matrix_io',\n",
       " '_sparsetools',\n",
       " '_warnings',\n",
       " 'base',\n",
       " 'block_diag',\n",
       " 'bmat',\n",
       " 'bsr',\n",
       " 'bsr_matrix',\n",
       " 'compressed',\n",
       " 'construct',\n",
       " 'coo',\n",
       " 'coo_matrix',\n",
       " 'csc',\n",
       " 'csc_matrix',\n",
       " 'csgraph',\n",
       " 'csr',\n",
       " 'csr_matrix',\n",
       " 'data',\n",
       " 'dia',\n",
       " 'dia_matrix',\n",
       " 'diags',\n",
       " 'dok',\n",
       " 'dok_matrix',\n",
       " 'extract',\n",
       " 'eye',\n",
       " 'find',\n",
       " 'hstack',\n",
       " 'identity',\n",
       " 'issparse',\n",
       " 'isspmatrix',\n",
       " 'isspmatrix_bsr',\n",
       " 'isspmatrix_coo',\n",
       " 'isspmatrix_csc',\n",
       " 'isspmatrix_csr',\n",
       " 'isspmatrix_dia',\n",
       " 'isspmatrix_dok',\n",
       " 'isspmatrix_lil',\n",
       " 'kron',\n",
       " 'kronsum',\n",
       " 'lil',\n",
       " 'lil_matrix',\n",
       " 'load_npz',\n",
       " 'rand',\n",
       " 'random',\n",
       " 'save_npz',\n",
       " 'spdiags',\n",
       " 'spmatrix',\n",
       " 'sputils',\n",
       " 'test',\n",
       " 'tril',\n",
       " 'triu',\n",
       " 'vstack']"
      ]
     },
     "execution_count": 16,
     "metadata": {},
     "output_type": "execute_result"
    }
   ],
   "source": [
    "dir(scipy.sparse)"
   ]
  },
  {
   "cell_type": "code",
   "execution_count": null,
   "metadata": {
    "pycharm": {
     "name": "#%%\n"
    }
   },
   "outputs": [],
   "source": []
  }
 ],
 "metadata": {
  "colab": {
   "collapsed_sections": [],
   "name": "Tutorial 1 - Numpy & benefits of sparse matrix.ipynb",
   "provenance": [],
   "toc_visible": true
  },
  "kernelspec": {
   "display_name": "Python 3",
   "language": "python",
   "name": "python3"
  },
  "language_info": {
   "codemirror_mode": {
    "name": "ipython",
    "version": 3
   },
   "file_extension": ".py",
   "mimetype": "text/x-python",
   "name": "python",
   "nbconvert_exporter": "python",
   "pygments_lexer": "ipython3",
   "version": "3.10.3"
  }
 },
 "nbformat": 4,
 "nbformat_minor": 1
}