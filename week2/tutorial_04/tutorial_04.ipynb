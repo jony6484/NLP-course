{
 "cells": [
  {
   "cell_type": "markdown",
   "metadata": {
    "pycharm": {
     "name": "#%% md\n"
    }
   },
   "source": [
    "# Question 1 - Creating a Dataset"
   ]
  },
  {
   "cell_type": "markdown",
   "metadata": {
    "pycharm": {
     "name": "#%% md\n"
    }
   },
   "source": [
    "In this question you'll create a dataset class for the amazon sentiment analysis dataset.\n",
    "\n",
    "Add the following to the class below:\n",
    "```__init__```:\n",
    "1. Enumerate the different labels and create two dict attributes: ```self.label2idx```, ```self.idx2label```.\n",
    "2. Instantiate a ```TfidfVectorizer``` and use ```TfidfVectorizer.fit_transform``` to transform the sentences into tf-idf vectors. Documentation can be found [here](https://scikit-learn.org/stable/modules/generated/sklearn.feature_extraction.text.TfidfVectorizer.html#sklearn.feature_extraction.text.TfidfVectorizer.fit_transform).\n",
    "3. Set the attribute ```self.vocab_size``` using the tokenizer's ```vocabulary_``` attribute.\n",
    "\n",
    "\n",
    "```__getitem__```:\n",
    "1. Reimplement the method so that it returns the tf-idf vector of the sentence in a tensor. the tensor should be of shape ```[vocab_size]``` and not ```[1, vocab_size]```. You can use the ```Tensor.squeeze()``` method to do this ((documentation)[https://pytorch.org/docs/stable/generated/torch.squeeze.html#torch.squeeze])\n",
    "2. You should return the idx of the label instead of the label itself.\n",
    "3. The output should be in the following format: ```data = {\"input_vectors\": setnence, \"labels\": label}```"
   ]
  },
  {
   "cell_type": "code",
   "execution_count": 1,
   "metadata": {
    "collapsed": false,
    "jupyter": {
     "outputs_hidden": false
    },
    "pycharm": {
     "name": "#%%\n"
    }
   },
   "outputs": [],
   "source": [
    "import torch\n",
    "from torch.utils.data import Dataset, DataLoader\n",
    "import pandas as pd\n",
    "from sklearn.feature_extraction.text import TfidfVectorizer\n",
    "# from torch."
   ]
  },
  {
   "cell_type": "code",
   "execution_count": 2,
   "metadata": {},
   "outputs": [
    {
     "data": {
      "text/html": [
       "<div>\n",
       "<style scoped>\n",
       "    .dataframe tbody tr th:only-of-type {\n",
       "        vertical-align: middle;\n",
       "    }\n",
       "\n",
       "    .dataframe tbody tr th {\n",
       "        vertical-align: top;\n",
       "    }\n",
       "\n",
       "    .dataframe thead th {\n",
       "        text-align: right;\n",
       "    }\n",
       "</style>\n",
       "<table border=\"1\" class=\"dataframe\">\n",
       "  <thead>\n",
       "    <tr style=\"text-align: right;\">\n",
       "      <th></th>\n",
       "      <th>reviewText</th>\n",
       "      <th>label</th>\n",
       "    </tr>\n",
       "  </thead>\n",
       "  <tbody>\n",
       "    <tr>\n",
       "      <th>0</th>\n",
       "      <td>Remember when you were a kid, and something ca...</td>\n",
       "      <td>Positive</td>\n",
       "    </tr>\n",
       "    <tr>\n",
       "      <th>1</th>\n",
       "      <td>I've enjoyed this show from the beginning.The ...</td>\n",
       "      <td>Positive</td>\n",
       "    </tr>\n",
       "    <tr>\n",
       "      <th>2</th>\n",
       "      <td>This is an awesome TV show!  Very entertaining...</td>\n",
       "      <td>Positive</td>\n",
       "    </tr>\n",
       "    <tr>\n",
       "      <th>3</th>\n",
       "      <td>It's fun to get a glimpse into a totally diffe...</td>\n",
       "      <td>Positive</td>\n",
       "    </tr>\n",
       "    <tr>\n",
       "      <th>4</th>\n",
       "      <td>Under the Dome is an interesting way to see a ...</td>\n",
       "      <td>Positive</td>\n",
       "    </tr>\n",
       "  </tbody>\n",
       "</table>\n",
       "</div>"
      ],
      "text/plain": [
       "                                          reviewText     label\n",
       "0  Remember when you were a kid, and something ca...  Positive\n",
       "1  I've enjoyed this show from the beginning.The ...  Positive\n",
       "2  This is an awesome TV show!  Very entertaining...  Positive\n",
       "3  It's fun to get a glimpse into a totally diffe...  Positive\n",
       "4  Under the Dome is an interesting way to see a ...  Positive"
      ]
     },
     "execution_count": 2,
     "metadata": {},
     "output_type": "execute_result"
    }
   ],
   "source": [
    "df = pd.read_csv('./amazon_sa/train.csv')\n",
    "df.head()"
   ]
  },
  {
   "cell_type": "code",
   "execution_count": 5,
   "metadata": {
    "tags": []
   },
   "outputs": [],
   "source": [
    "lb = df['label'].tolist()"
   ]
  },
  {
   "cell_type": "code",
   "execution_count": 12,
   "metadata": {},
   "outputs": [],
   "source": [
    "d = {label: ii for ii, label in enumerate(df['label'].unique())}"
   ]
  },
  {
   "cell_type": "code",
   "execution_count": 15,
   "metadata": {},
   "outputs": [],
   "source": [
    "tf = TfidfVectorizer()"
   ]
  },
  {
   "cell_type": "code",
   "execution_count": 49,
   "metadata": {},
   "outputs": [],
   "source": [
    "ttt = tf.fit_transform(df['reviewText'].tolist())"
   ]
  },
  {
   "cell_type": "code",
   "execution_count": 51,
   "metadata": {},
   "outputs": [
    {
     "data": {
      "text/plain": [
       "<1x49221 sparse matrix of type '<class 'numpy.float64'>'\n",
       "\twith 512 stored elements in Compressed Sparse Row format>"
      ]
     },
     "execution_count": 51,
     "metadata": {},
     "output_type": "execute_result"
    }
   ],
   "source": [
    "ttt[0, :]"
   ]
  },
  {
   "cell_type": "code",
   "execution_count": 106,
   "metadata": {
    "pycharm": {
     "name": "#%%\n"
    },
    "tags": []
   },
   "outputs": [],
   "source": [
    "class ClassificationDataset(Dataset):\n",
    "\n",
    "    def __init__(self, file_path, tokenizer=None):\n",
    "        # Read data\n",
    "        self.file_path = file_path\n",
    "        data = pd.read_csv(self.file_path)\n",
    "\n",
    "        # Split to sentences and labels\n",
    "        self.sentences = data['reviewText'].tolist()\n",
    "        self.labels = data['label'].tolist()\n",
    "\n",
    "        # Enumerate labels\n",
    "        self.label2idx = {label: ii for ii, label in enumerate(sorted(data['label'].unique()))}\n",
    "        self.idx2label = {v: k for k, v in self.label2idx.items()}\n",
    "        # Tokenize sentences\n",
    "        if tokenizer is not None:\n",
    "            self.tokenizer = tokenizer\n",
    "            self.tokenized_sent = self.tokenizer.transform(self.sentences)\n",
    "            \n",
    "        else:\n",
    "            self.tokenizer = TfidfVectorizer()\n",
    "            self.tokenized_sent = self.tokenizer.fit_transform(self.sentences)      \n",
    "\n",
    "        # Set vocab_size attribute\n",
    "        self.vocab_size = len(self.tokenizer.vocabulary_)\n",
    "    def __getitem__(self, item):\n",
    "        # Tensorize sentence\n",
    "        sentence = self.tokenized_sent[item, :].toarray().squeeze()\n",
    "        sentence = torch.tensor(sentence).float()\n",
    "        # Get label idx\n",
    "        label = self.label2idx[self.labels[item]]\n",
    "        data = {\"input_vectors\": sentence, \"labels\": label}\n",
    "        return data\n",
    "\n",
    "    def __len__(self):\n",
    "        return len(self.sentences)"
   ]
  },
  {
   "cell_type": "code",
   "execution_count": 107,
   "metadata": {
    "collapsed": false,
    "jupyter": {
     "outputs_hidden": false
    },
    "pycharm": {
     "name": "#%%\n"
    }
   },
   "outputs": [],
   "source": [
    "train_dataset = ClassificationDataset('./amazon_sa/train.csv', tokenizer=None)\n",
    "test_dataset = ClassificationDataset('./amazon_sa/test.csv', tokenizer=train_dataset.tokenizer)\n",
    "\n",
    "batch_size = 4\n",
    "train_loader = DataLoader(train_dataset, shuffle=True, batch_size=batch_size)\n",
    "test_loader = DataLoader(test_dataset, shuffle=False, batch_size=batch_size)"
   ]
  },
  {
   "cell_type": "code",
   "execution_count": 108,
   "metadata": {
    "collapsed": false,
    "jupyter": {
     "outputs_hidden": false
    },
    "pycharm": {
     "name": "#%%\n"
    }
   },
   "outputs": [
    {
     "data": {
      "text/plain": [
       "tensor([0., 0., 0.,  ..., 0., 0., 0.])"
      ]
     },
     "execution_count": 108,
     "metadata": {},
     "output_type": "execute_result"
    }
   ],
   "source": [
    "train_dataset[0]['input_vectors']"
   ]
  },
  {
   "cell_type": "code",
   "execution_count": 109,
   "metadata": {
    "collapsed": false,
    "jupyter": {
     "outputs_hidden": false
    },
    "pycharm": {
     "name": "#%%\n"
    }
   },
   "outputs": [
    {
     "name": "stdout",
     "output_type": "stream",
     "text": [
      "{'input_vectors': tensor([[0., 0., 0.,  ..., 0., 0., 0.],\n",
      "        [0., 0., 0.,  ..., 0., 0., 0.],\n",
      "        [0., 0., 0.,  ..., 0., 0., 0.],\n",
      "        [0., 0., 0.,  ..., 0., 0., 0.]]), 'labels': tensor([1, 1, 1, 1])}\n"
     ]
    }
   ],
   "source": [
    "for batch in train_loader:\n",
    "    break\n",
    "print(batch)"
   ]
  },
  {
   "cell_type": "markdown",
   "metadata": {
    "pycharm": {
     "name": "#%% md\n"
    }
   },
   "source": [
    "# Question 2 - Modeling"
   ]
  },
  {
   "cell_type": "markdown",
   "metadata": {
    "pycharm": {
     "name": "#%% md\n"
    }
   },
   "source": [
    "In this question you will implement a simple neural network that will classify a sentence given its tf-idf vector.\n",
    "\n",
    "Implement a model with the following architecture:\n",
    "1. A linear layer from ```vocab_size``` to ```hidden_dim```.\n",
    "2. A ReLU activation fn.\n",
    "3. A linear layer from ```hidden_dim``` to ```num_classes```.\n",
    "4. A cross Entropy Loss\n",
    "\n",
    "```forward```:\n",
    "1. If labels are passed, should return the output of the second layer and the loss.\n",
    "2. Otherwise, should pass the output of the second layer and None."
   ]
  },
  {
   "cell_type": "code",
   "execution_count": 110,
   "metadata": {
    "collapsed": false,
    "jupyter": {
     "outputs_hidden": false
    },
    "pycharm": {
     "name": "#%%\n"
    }
   },
   "outputs": [],
   "source": [
    "from torch import nn"
   ]
  },
  {
   "cell_type": "code",
   "execution_count": 155,
   "metadata": {
    "collapsed": false,
    "jupyter": {
     "outputs_hidden": false
    },
    "pycharm": {
     "name": "#%%\n"
    }
   },
   "outputs": [],
   "source": [
    "class TfIdfClassifier(nn.Module):\n",
    "\n",
    "    def __init__(self, vocab_size, num_classes, hidden_dim=100):\n",
    "        super(TfIdfClassifier, self).__init__()\n",
    "        self.fc1 = nn.Linear(vocab_size, hidden_dim)\n",
    "        self.activation = nn.ReLU()\n",
    "        self.fc2 = nn.Linear(hidden_dim, num_classes)\n",
    "        # self.loss = torch.nn.BCEWithLogitsLoss()\n",
    "        self.loss = torch.nn.CrossEntropyLoss()\n",
    "        \n",
    "\n",
    "    def forward(self, input_vectors, labels=None):\n",
    "        x = self.fc1(input_vectors)\n",
    "        x = self.activation(x)\n",
    "        x = self.fc2(x)\n",
    "        if labels is None:\n",
    "            return x, None\n",
    "        else:\n",
    "            return x, self.loss(x, labels)"
   ]
  },
  {
   "cell_type": "code",
   "execution_count": 156,
   "metadata": {
    "collapsed": false,
    "jupyter": {
     "outputs_hidden": false
    },
    "pycharm": {
     "name": "#%%\n"
    }
   },
   "outputs": [
    {
     "name": "stdout",
     "output_type": "stream",
     "text": [
      "TfIdfClassifier(\n",
      "  (fc1): Linear(in_features=49221, out_features=100, bias=True)\n",
      "  (activation): ReLU()\n",
      "  (fc2): Linear(in_features=100, out_features=2, bias=True)\n",
      "  (loss): CrossEntropyLoss()\n",
      ")\n"
     ]
    }
   ],
   "source": [
    "model = TfIdfClassifier(train_dataset.vocab_size, len(train_dataset.label2idx), hidden_dim=100)\n",
    "print(model)"
   ]
  },
  {
   "cell_type": "code",
   "execution_count": 157,
   "metadata": {},
   "outputs": [
    {
     "data": {
      "text/plain": [
       "(tensor([[-0.0446, -0.0075],\n",
       "         [-0.0432, -0.0075],\n",
       "         [-0.0445, -0.0090],\n",
       "         [-0.0440, -0.0066]], grad_fn=<AddmmBackward0>),\n",
       " tensor(0.6751, grad_fn=<NllLossBackward0>))"
      ]
     },
     "execution_count": 157,
     "metadata": {},
     "output_type": "execute_result"
    }
   ],
   "source": [
    "model(**batch)"
   ]
  }
 ],
 "metadata": {
  "kernelspec": {
   "display_name": "Python 3",
   "language": "python",
   "name": "python3"
  },
  "language_info": {
   "codemirror_mode": {
    "name": "ipython",
    "version": 3
   },
   "file_extension": ".py",
   "mimetype": "text/x-python",
   "name": "python",
   "nbconvert_exporter": "python",
   "pygments_lexer": "ipython3",
   "version": "3.10.3"
  }
 },
 "nbformat": 4,
 "nbformat_minor": 4
}
