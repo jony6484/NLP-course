{
 "cells": [
  {
   "cell_type": "markdown",
   "metadata": {
    "id": "view-in-github",
    "pycharm": {
     "name": "#%% md\n"
    }
   },
   "source": [
    "<a href=\"https://colab.research.google.com/github/eyalbd2/097215_Natural-Language-Processing_Workshop-Notebooks/blob/master/NLP_2_pytorch_getting_started.ipynb\" target=\"_parent\"><img src=\"https://colab.research.google.com/assets/colab-badge.svg\" alt=\"Open In Colab\"/></a>"
   ]
  },
  {
   "cell_type": "markdown",
   "metadata": {
    "id": "nNxZIlqb16cd",
    "pycharm": {
     "name": "#%% md\n"
    }
   },
   "source": [
    "# <img src=\"https://img.icons8.com/dusk/64/000000/mind-map.png\" style=\"height:50px;display:inline\"> IE 097215 - Technion - Natural Language Processing\n",
    "\n",
    "## Pytorch basics\n",
    "\n"
   ]
  },
  {
   "cell_type": "markdown",
   "metadata": {
    "id": "2OXGlug13hhH",
    "pycharm": {
     "name": "#%% md\n"
    }
   },
   "source": [
    "### Part 1 - Tensors\n",
    "\n",
    "Tensors are similar to NumPy’s ndarrays, with the addition being that Tensors can also be used on a GPU to accelerate computing."
   ]
  },
  {
   "cell_type": "code",
   "execution_count": null,
   "metadata": {
    "id": "Zdja62wX12nH",
    "pycharm": {
     "name": "#%%\n"
    }
   },
   "outputs": [],
   "source": [
    "import torch"
   ]
  },
  {
   "cell_type": "markdown",
   "metadata": {
    "id": "uaIa6qj63_0z",
    "pycharm": {
     "name": "#%% md\n"
    }
   },
   "source": [
    "Initializing a tensor, with what is in memory at the moment."
   ]
  },
  {
   "cell_type": "code",
   "execution_count": null,
   "metadata": {
    "colab": {
     "base_uri": "https://localhost:8080/",
     "height": 85
    },
    "executionInfo": {
     "elapsed": 1934,
     "status": "ok",
     "timestamp": 1588865319731,
     "user": {
      "displayName": "Eyal Ben David",
      "photoUrl": "",
      "userId": "13627541310241359464"
     },
     "user_tz": -180
    },
    "id": "LFutsOMn4yj4",
    "outputId": "91c51c8a-3a8e-4191-8ce6-afd96c77ff73",
    "pycharm": {
     "name": "#%%\n"
    }
   },
   "outputs": [],
   "source": [
    "x = torch.empty(4, 4)\n",
    "print(x)"
   ]
  },
  {
   "cell_type": "markdown",
   "metadata": {
    "id": "hDa3dlbG49FR",
    "pycharm": {
     "name": "#%% md\n"
    }
   },
   "source": [
    "And now lets initialize it randomly"
   ]
  },
  {
   "cell_type": "code",
   "execution_count": null,
   "metadata": {
    "colab": {
     "base_uri": "https://localhost:8080/",
     "height": 85
    },
    "executionInfo": {
     "elapsed": 1877,
     "status": "ok",
     "timestamp": 1588865319732,
     "user": {
      "displayName": "Eyal Ben David",
      "photoUrl": "",
      "userId": "13627541310241359464"
     },
     "user_tz": -180
    },
    "id": "PEbscffc5ESF",
    "outputId": "7cddf038-16f6-425c-aafc-e990e42914b1",
    "pycharm": {
     "name": "#%%\n"
    }
   },
   "outputs": [],
   "source": [
    "x = torch.rand(4, 4)\n",
    "print(x)"
   ]
  },
  {
   "cell_type": "markdown",
   "metadata": {
    "id": "9ej99hJL5Ksk",
    "pycharm": {
     "name": "#%% md\n"
    }
   },
   "source": [
    "Zeros tensor"
   ]
  },
  {
   "cell_type": "code",
   "execution_count": null,
   "metadata": {
    "colab": {
     "base_uri": "https://localhost:8080/",
     "height": 102
    },
    "executionInfo": {
     "elapsed": 1820,
     "status": "ok",
     "timestamp": 1588865319733,
     "user": {
      "displayName": "Eyal Ben David",
      "photoUrl": "",
      "userId": "13627541310241359464"
     },
     "user_tz": -180
    },
    "id": "oImAVfka5M9U",
    "outputId": "3bef6e31-73ac-4094-e050-2d53b598baf9",
    "pycharm": {
     "name": "#%%\n"
    }
   },
   "outputs": [],
   "source": [
    "x = torch.zeros(5, 3, dtype=torch.long)\n",
    "print(x)"
   ]
  },
  {
   "cell_type": "markdown",
   "metadata": {
    "id": "KXFCN2rJ5TOK",
    "pycharm": {
     "name": "#%% md\n"
    }
   },
   "source": [
    "Construct directly:"
   ]
  },
  {
   "cell_type": "code",
   "execution_count": null,
   "metadata": {
    "colab": {
     "base_uri": "https://localhost:8080/",
     "height": 34
    },
    "executionInfo": {
     "elapsed": 1783,
     "status": "ok",
     "timestamp": 1588865319734,
     "user": {
      "displayName": "Eyal Ben David",
      "photoUrl": "",
      "userId": "13627541310241359464"
     },
     "user_tz": -180
    },
    "id": "m2_yx_Ja5cTK",
    "outputId": "7e7785fa-1608-467a-993e-8cb72067e5c6",
    "pycharm": {
     "name": "#%%\n"
    }
   },
   "outputs": [],
   "source": [
    "x = torch.tensor([12.25, 2])\n",
    "print(x)"
   ]
  },
  {
   "cell_type": "markdown",
   "metadata": {
    "id": "Fm7zlTGI5wVd",
    "pycharm": {
     "name": "#%% md\n"
    }
   },
   "source": [
    "We can create a tensor based on an existing tensor, and get its size. "
   ]
  },
  {
   "cell_type": "code",
   "execution_count": null,
   "metadata": {
    "colab": {
     "base_uri": "https://localhost:8080/",
     "height": 170
    },
    "executionInfo": {
     "elapsed": 1760,
     "status": "ok",
     "timestamp": 1588865319735,
     "user": {
      "displayName": "Eyal Ben David",
      "photoUrl": "",
      "userId": "13627541310241359464"
     },
     "user_tz": -180
    },
    "id": "YUtupP4S53Ol",
    "outputId": "f8e66168-a144-4f5e-d2a0-3315d14b1055",
    "pycharm": {
     "name": "#%%\n"
    }
   },
   "outputs": [],
   "source": [
    "x = x.new_ones(4, 4, dtype=torch.double)      # new_* methods take in sizes\n",
    "print(x)\n",
    "\n",
    "x = torch.randn_like(x, dtype=torch.float)    # override dtype!\n",
    "print(x) \n",
    "x.size()"
   ]
  },
  {
   "cell_type": "markdown",
   "metadata": {
    "id": "XLuq3q7Z6Qey",
    "pycharm": {
     "name": "#%% md\n"
    }
   },
   "source": [
    "Lets watch some tensor oprations:"
   ]
  },
  {
   "cell_type": "code",
   "execution_count": null,
   "metadata": {
    "colab": {
     "base_uri": "https://localhost:8080/",
     "height": 272
    },
    "executionInfo": {
     "elapsed": 1730,
     "status": "ok",
     "timestamp": 1588865319736,
     "user": {
      "displayName": "Eyal Ben David",
      "photoUrl": "",
      "userId": "13627541310241359464"
     },
     "user_tz": -180
    },
    "id": "nFvxnyD16XCc",
    "outputId": "6d1731e8-ef6c-4824-bad4-9d02bfef11c7",
    "pycharm": {
     "name": "#%%\n"
    }
   },
   "outputs": [],
   "source": [
    "# Addition\n",
    "y = torch.rand(4, 4)\n",
    "print(\"x+y = \")\n",
    "print(x + y)\n",
    "\n",
    "# Another addition\n",
    "print(\"x+y = \")\n",
    "print(torch.add(x, y))\n",
    "\n",
    "# Addition in-place (changing y)\n",
    "y.add_(x)\n",
    "print(\"y = \")\n",
    "print(y)\n"
   ]
  },
  {
   "cell_type": "code",
   "execution_count": null,
   "metadata": {
    "colab": {
     "base_uri": "https://localhost:8080/",
     "height": 34
    },
    "executionInfo": {
     "elapsed": 1713,
     "status": "ok",
     "timestamp": 1588865319738,
     "user": {
      "displayName": "Eyal Ben David",
      "photoUrl": "",
      "userId": "13627541310241359464"
     },
     "user_tz": -180
    },
    "id": "QFlSXyqb75i_",
    "outputId": "22412ff7-922a-4443-d54c-aad831b8cff3",
    "pycharm": {
     "name": "#%%\n"
    }
   },
   "outputs": [],
   "source": [
    "# Numpy operations on Tensors\n",
    "print(f\"x=\\n{x}\")\n",
    "print(f\"x[0, :]={x[0, :]}\")\n",
    "print(f\"x[:, 0]={x[:, 0]}\")"
   ]
  },
  {
   "cell_type": "markdown",
   "metadata": {
    "id": "cgbTVqCu_tk5",
    "pycharm": {
     "name": "#%% md\n"
    }
   },
   "source": [
    "Resizing and reshaping a tensor"
   ]
  },
  {
   "cell_type": "code",
   "execution_count": null,
   "metadata": {
    "colab": {
     "base_uri": "https://localhost:8080/",
     "height": 34
    },
    "executionInfo": {
     "elapsed": 1690,
     "status": "ok",
     "timestamp": 1588865319741,
     "user": {
      "displayName": "Eyal Ben David",
      "photoUrl": "",
      "userId": "13627541310241359464"
     },
     "user_tz": -180
    },
    "id": "iRsY2HS5_qHD",
    "outputId": "04975056-fc39-4a41-c7c5-b9cee93aa4aa",
    "pycharm": {
     "name": "#%%\n"
    }
   },
   "outputs": [],
   "source": [
    "x = torch.randn(4, 4)\n",
    "y = x.view(16)\n",
    "z = x.view(-1, int(x.size(0)*2))  # the size -1 is inferred from other dimensions\n",
    "print(x.size(), y.size(), z.size())"
   ]
  },
  {
   "cell_type": "code",
   "execution_count": null,
   "metadata": {
    "pycharm": {
     "name": "#%%\n"
    }
   },
   "outputs": [],
   "source": [
    "x[0][0] = 5\n",
    "print(x)\n",
    "print(z)"
   ]
  },
  {
   "cell_type": "markdown",
   "metadata": {
    "id": "TYtArSR2_88R",
    "pycharm": {
     "name": "#%% md\n"
    }
   },
   "source": [
    "Convert a tensor to a numpy array"
   ]
  },
  {
   "cell_type": "code",
   "execution_count": null,
   "metadata": {
    "colab": {
     "base_uri": "https://localhost:8080/",
     "height": 51
    },
    "executionInfo": {
     "elapsed": 1658,
     "status": "ok",
     "timestamp": 1588865319743,
     "user": {
      "displayName": "Eyal Ben David",
      "photoUrl": "",
      "userId": "13627541310241359464"
     },
     "user_tz": -180
    },
    "id": "TSwEjCa7__p_",
    "outputId": "13f47b3e-dbef-4c33-b44f-3a8e832c8e3e",
    "pycharm": {
     "name": "#%%\n"
    }
   },
   "outputs": [],
   "source": [
    "a = torch.ones(5)\n",
    "print(a)\n",
    "\n",
    "b = a.numpy()\n",
    "print(b)"
   ]
  },
  {
   "cell_type": "code",
   "execution_count": null,
   "metadata": {
    "colab": {
     "base_uri": "https://localhost:8080/",
     "height": 51
    },
    "executionInfo": {
     "elapsed": 1835,
     "status": "ok",
     "timestamp": 1588865319941,
     "user": {
      "displayName": "Eyal Ben David",
      "photoUrl": "",
      "userId": "13627541310241359464"
     },
     "user_tz": -180
    },
    "id": "iGCP1TlHAV7S",
    "outputId": "e4da43af-5b8f-4242-9f97-04ddc8ba3782",
    "pycharm": {
     "name": "#%%\n"
    }
   },
   "outputs": [],
   "source": [
    "# See how the numpy array changed in value.\n",
    "a.add_(1)\n",
    "print(a)\n",
    "print(b)"
   ]
  },
  {
   "cell_type": "markdown",
   "metadata": {
    "id": "R4_aQXII__2f",
    "pycharm": {
     "name": "#%% md\n"
    }
   },
   "source": [
    "Convert Numpy array to tensor"
   ]
  },
  {
   "cell_type": "code",
   "execution_count": null,
   "metadata": {
    "colab": {
     "base_uri": "https://localhost:8080/",
     "height": 51
    },
    "executionInfo": {
     "elapsed": 1805,
     "status": "ok",
     "timestamp": 1588865319943,
     "user": {
      "displayName": "Eyal Ben David",
      "photoUrl": "",
      "userId": "13627541310241359464"
     },
     "user_tz": -180
    },
    "id": "6pnMgXWjAD5P",
    "outputId": "c9973a4a-2ffc-4715-f8c6-f885c1b7614d",
    "pycharm": {
     "name": "#%%\n"
    }
   },
   "outputs": [],
   "source": [
    "import numpy as np\n",
    "a = np.ones(5)\n",
    "b = torch.from_numpy(a)\n",
    "np.add(a, 1, out=a)\n",
    "print(a)\n",
    "print(b)"
   ]
  },
  {
   "cell_type": "markdown",
   "metadata": {
    "id": "4IW0mpQPAc26",
    "pycharm": {
     "name": "#%% md\n"
    }
   },
   "source": [
    "### Cuda Tensors\n",
    "Using the .to method, Tensors can be moved onto any device."
   ]
  },
  {
   "cell_type": "code",
   "execution_count": null,
   "metadata": {
    "colab": {
     "base_uri": "https://localhost:8080/",
     "height": 153
    },
    "executionInfo": {
     "elapsed": 3866,
     "status": "ok",
     "timestamp": 1588865322028,
     "user": {
      "displayName": "Eyal Ben David",
      "photoUrl": "",
      "userId": "13627541310241359464"
     },
     "user_tz": -180
    },
    "id": "tdDUGDHJAmpq",
    "outputId": "0a2eb601-dbd8-4823-eef0-314bacbdf206",
    "pycharm": {
     "name": "#%%\n"
    }
   },
   "outputs": [],
   "source": [
    "# let us run this cell only if CUDA is available\n",
    "# We will use ``torch.device`` objects to move tensors in and out of GPU\n",
    "if torch.cuda.is_available():\n",
    "    device = torch.device(\"cuda\")          # a CUDA device object\n",
    "    y = torch.ones_like(x, device=device)  # directly create a tensor on GPU\n",
    "    x = x.to(device)                       # or just use strings ``.to(\"cuda\")``\n",
    "    z = x + y\n",
    "    print(z)\n",
    "    print(z.to(\"cpu\", torch.double))       # ``.to`` can also change dtype together!"
   ]
  },
  {
   "cell_type": "code",
   "execution_count": null,
   "metadata": {
    "colab": {
     "base_uri": "https://localhost:8080/",
     "height": 34
    },
    "executionInfo": {
     "elapsed": 3839,
     "status": "ok",
     "timestamp": 1588865322029,
     "user": {
      "displayName": "Eyal Ben David",
      "photoUrl": "",
      "userId": "13627541310241359464"
     },
     "user_tz": -180
    },
    "id": "RjeUCu_klocU",
    "outputId": "be5f5943-34c4-41fe-b2a4-c6162346794c",
    "pycharm": {
     "name": "#%%\n"
    }
   },
   "outputs": [],
   "source": [
    "# We could also move tensor to the available device\n",
    "device = torch.device(\"cuda\" if torch.cuda.is_available() else \"cpu\")\n",
    "device"
   ]
  },
  {
   "cell_type": "code",
   "execution_count": null,
   "metadata": {
    "pycharm": {
     "name": "#%%\n"
    }
   },
   "outputs": [],
   "source": [
    "torch.cuda.is_available()"
   ]
  },
  {
   "cell_type": "markdown",
   "metadata": {
    "id": "YGjcFpsFlbMc",
    "pycharm": {
     "name": "#%% md\n"
    }
   },
   "source": [
    "See PyTorch Tensors [Tutorial](https://pytorch.org/tutorials/beginner/former_torchies/tensor_tutorial.html) and [Documentation](https://pytorch.org/docs/stable/tensors.html) for more info and examples."
   ]
  },
  {
   "cell_type": "markdown",
   "metadata": {
    "id": "gXoBQga3miP7",
    "pycharm": {
     "name": "#%% md\n"
    }
   },
   "source": [
    "### Part 2 - Define a DNN model\n",
    "We would like to demonstrate how to construct a simple regression model with pytorch. We devide this demonstration to 4 steps:\n",
    "\n",
    "\n",
    "1.   Creating our neural-net model\n",
    "2.   Data Creation and split to train, val, test\n",
    "3.   Optimizer and Loss\n",
    "4.   Training\n",
    "\n",
    "Lets begin.. :)\n",
    "\n",
    "\n"
   ]
  },
  {
   "cell_type": "markdown",
   "metadata": {
    "id": "j7fJ_IKqcY5j",
    "pycharm": {
     "name": "#%% md\n"
    }
   },
   "source": [
    "#### Step 1 - Creating our neural-net model"
   ]
  },
  {
   "cell_type": "code",
   "execution_count": null,
   "metadata": {
    "colab": {
     "base_uri": "https://localhost:8080/",
     "height": 85
    },
    "executionInfo": {
     "elapsed": 3813,
     "status": "ok",
     "timestamp": 1588865322030,
     "user": {
      "displayName": "Eyal Ben David",
      "photoUrl": "",
      "userId": "13627541310241359464"
     },
     "user_tz": -180
    },
    "id": "L5Lwo-3-mtbR",
    "outputId": "09871cbe-4304-4896-c7a0-6e2fe232fcf5",
    "pycharm": {
     "name": "#%%\n"
    }
   },
   "outputs": [],
   "source": [
    "import torch\n",
    "import torch.nn as nn\n",
    "import torch.nn.functional as F\n",
    "from torch.utils.data import TensorDataset, DataLoader\n",
    "\n",
    "# We create a FC regression network, with 2 layers.\n",
    "class RegressioNet(nn.Module):\n",
    "   def __init__(self):\n",
    "       super(RegressioNet, self).__init__()\n",
    "       self.hidden_dim = 10\n",
    "       self.layer_1 = torch.nn.Linear(1, self.hidden_dim)\n",
    "       self.layer_2 = torch.nn.Linear(self.hidden_dim, 1)\n",
    "       self.activation = F.relu\n",
    "\n",
    "   def forward(self, x):\n",
    "       x = self.layer_1(x)        # x.size() -> [batch_size, self.hidden_dim]\n",
    "       x = self.activation(x)     # x.size() -> [batch_size, self.hidden_dim]\n",
    "       x = self.layer_2(x)        # x.size() -> [batch_size, 1]\n",
    "       return x  \n",
    "\n",
    "net = RegressioNet()\n",
    "print(net)"
   ]
  },
  {
   "cell_type": "markdown",
   "metadata": {
    "id": "wRWOX8ldn_uG",
    "pycharm": {
     "name": "#%% md\n"
    }
   },
   "source": [
    "###### Activation Function\n",
    "We are building a regression model, hence we don't need an activation function. However, an example of a ReLU implementation is given by [`F.relu`](https://pytorch.org/docs/stable/nn.functional.html#relu). \n",
    "Recall the ReLU formulation:\n",
    "$ReLU(x) = max(0,x)$"
   ]
  },
  {
   "cell_type": "markdown",
   "metadata": {
    "id": "LmGnFnWBcWJq",
    "pycharm": {
     "name": "#%% md\n"
    }
   },
   "source": [
    "#### Step 2 - Data Creation and split to train, val, test\n"
   ]
  },
  {
   "cell_type": "code",
   "execution_count": null,
   "metadata": {
    "colab": {
     "base_uri": "https://localhost:8080/",
     "height": 265
    },
    "executionInfo": {
     "elapsed": 3788,
     "status": "ok",
     "timestamp": 1588865322031,
     "user": {
      "displayName": "Eyal Ben David",
      "photoUrl": "",
      "userId": "13627541310241359464"
     },
     "user_tz": -180
    },
    "id": "q8mMYtrDcsCD",
    "outputId": "91399b12-0dcb-40ff-a6d3-7d85267ece3a",
    "pycharm": {
     "name": "#%%\n"
    }
   },
   "outputs": [],
   "source": [
    "# Visualize our data\n",
    "import matplotlib.pyplot as plt\n",
    "import numpy as np\n",
    "\n",
    "x = np.random.rand(100000)\n",
    "\n",
    "# y = exp(x) + 5 + noise\n",
    "y = np.exp(x) + np.random.rand(100000)*0.001 + 5\n",
    "\n",
    "plt.scatter(x, y)\n",
    "plt.show()"
   ]
  },
  {
   "cell_type": "code",
   "execution_count": null,
   "metadata": {
    "colab": {
     "base_uri": "https://localhost:8080/",
     "height": 85
    },
    "executionInfo": {
     "elapsed": 3759,
     "status": "ok",
     "timestamp": 1588865322032,
     "user": {
      "displayName": "Eyal Ben David",
      "photoUrl": "",
      "userId": "13627541310241359464"
     },
     "user_tz": -180
    },
    "id": "36wJ62MXw__s",
    "outputId": "815dff3c-dcf1-49f3-a838-e45cef686851",
    "pycharm": {
     "name": "#%%\n"
    }
   },
   "outputs": [],
   "source": [
    "split_frac = 0.8\n",
    "\n",
    "## split data into training, validation, and test data (x and y)\n",
    "\n",
    "split_idx = int(len(x)*split_frac)\n",
    "train_x, remaining_x = x[:split_idx], x[split_idx:]\n",
    "train_y, remaining_y = y[:split_idx], y[split_idx:]\n",
    "\n",
    "test_idx = int(len(remaining_x)*0.5)\n",
    "val_x, test_x = remaining_x[:test_idx], remaining_x[test_idx:]\n",
    "val_y, test_y = remaining_y[:test_idx], remaining_y[test_idx:]\n",
    "\n",
    "# print out the shapes of your resultant feature data\n",
    "print(\"\\t\\t\\tFeature Shapes:\")\n",
    "print(\"Train set: \\t\\t{}\".format(train_x.shape), \n",
    "      \"\\nValidation set: \\t{}\".format(val_x.shape),\n",
    "      \"\\nTest set: \\t\\t{}\".format(test_x.shape))\n",
    "\n"
   ]
  },
  {
   "cell_type": "markdown",
   "metadata": {
    "id": "twdnRgpmPZDC",
    "pycharm": {
     "name": "#%% md\n"
    }
   },
   "source": [
    "#### Step 3 - Optimizer and Loss\n",
    "Next, we should define the Optimizer and the Loss Function for our training process. We will use SGD as an optimizer,although many others are available (such as Adam, RMSprop, Adagrad..). Our Loss function will be is the MSE as we are constructiong a regression model (if we would build a classification model we would use Cross-Entropy)."
   ]
  },
  {
   "cell_type": "code",
   "execution_count": null,
   "metadata": {
    "id": "w4LXM97PzxkJ",
    "pycharm": {
     "name": "#%%\n"
    }
   },
   "outputs": [],
   "source": [
    "# Define Optimizer and Loss Function\n",
    "optimizer = torch.optim.SGD(net.parameters(), lr=0.2)\n",
    "loss_func = torch.nn.MSELoss()"
   ]
  },
  {
   "cell_type": "markdown",
   "metadata": {
    "id": "kKJzY8Haz4-j",
    "pycharm": {
     "name": "#%% md\n"
    }
   },
   "source": [
    "#### Step 4 - Training"
   ]
  },
  {
   "cell_type": "code",
   "execution_count": null,
   "metadata": {
    "id": "ccsZ0jpxyAF8",
    "pycharm": {
     "name": "#%%\n"
    }
   },
   "outputs": [],
   "source": [
    "batch_size = 20\n",
    "\n",
    "# create Tensor datasets\n",
    "train_data = TensorDataset(torch.from_numpy(train_x).float(), torch.from_numpy(train_y).float())\n",
    "valid_data = TensorDataset(torch.from_numpy(val_x).float(), torch.from_numpy(val_y).float())\n",
    "test_data = TensorDataset(torch.from_numpy(test_x).float(), torch.from_numpy(test_y).float())\n",
    "\n",
    "# make sure the SHUFFLE your training data\n",
    "train_loader = DataLoader(train_data, shuffle=True, batch_size=batch_size)\n",
    "valid_loader = DataLoader(valid_data, shuffle=False, batch_size=batch_size)\n",
    "test_loader = DataLoader(test_data, shuffle=False, batch_size=batch_size)"
   ]
  },
  {
   "cell_type": "code",
   "execution_count": null,
   "metadata": {
    "colab": {
     "base_uri": "https://localhost:8080/",
     "height": 204
    },
    "executionInfo": {
     "elapsed": 4202,
     "status": "ok",
     "timestamp": 1588865322542,
     "user": {
      "displayName": "Eyal Ben David",
      "photoUrl": "",
      "userId": "13627541310241359464"
     },
     "user_tz": -180
    },
    "id": "NyZZ9nBGPGjh",
    "outputId": "236384a4-d921-4c42-8783-332c5584b0ef",
    "pycharm": {
     "name": "#%%\n"
    }
   },
   "outputs": [],
   "source": [
    "# obtain one batch of training data\n",
    "dataiter = iter(train_loader)\n",
    "sample_x, sample_y = dataiter.next()\n",
    "\n",
    "print('Sample input size: ', sample_x.size()) # batch_size\n",
    "print('Sample input: \\n', sample_x)\n",
    "print()\n",
    "print('Sample label size: ', sample_y.size()) # batch_size\n",
    "print('Sample label: \\n', sample_y)"
   ]
  },
  {
   "cell_type": "code",
   "execution_count": null,
   "metadata": {
    "colab": {
     "base_uri": "https://localhost:8080/",
     "height": 34
    },
    "executionInfo": {
     "elapsed": 4176,
     "status": "ok",
     "timestamp": 1588865322544,
     "user": {
      "displayName": "Eyal Ben David",
      "photoUrl": "",
      "userId": "13627541310241359464"
     },
     "user_tz": -180
    },
    "id": "VuSBFudLQdaM",
    "outputId": "2cf53fa0-082b-4b41-adbd-c4c0701cc76f",
    "pycharm": {
     "name": "#%%\n"
    }
   },
   "outputs": [],
   "source": [
    "# First checking if GPU is available\n",
    "device = torch.device(\"cuda\" if torch.cuda.is_available() else \"cpu\")\n",
    "\n",
    "if torch.cuda.is_available():\n",
    "    print('Training on GPU.')\n",
    "else:\n",
    "    print('No GPU available, training on CPU.')\n"
   ]
  },
  {
   "cell_type": "code",
   "execution_count": null,
   "metadata": {
    "colab": {
     "base_uri": "https://localhost:8080/",
     "height": 85
    },
    "executionInfo": {
     "elapsed": 4162,
     "status": "ok",
     "timestamp": 1588865322545,
     "user": {
      "displayName": "Eyal Ben David",
      "photoUrl": "",
      "userId": "13627541310241359464"
     },
     "user_tz": -180
    },
    "id": "6zGg_CorQ9Yh",
    "outputId": "d9765eba-5b2d-43ba-be5d-45e1c153c70e",
    "pycharm": {
     "name": "#%%\n"
    }
   },
   "outputs": [],
   "source": [
    "# Define training params\n",
    "epochs = 1 \n",
    "\n",
    "counter = 0\n",
    "print_every = 100\n",
    "clip = 1000 # gradient clipping\n",
    "\n",
    "# move model to GPU, if available\n",
    "net = net.float()\n",
    "net.to(device)\n",
    "\n",
    "net.train()\n",
    "# train for some number of epochs"
   ]
  },
  {
   "cell_type": "code",
   "execution_count": null,
   "metadata": {
    "colab": {
     "base_uri": "https://localhost:8080/",
     "height": 1000
    },
    "executionInfo": {
     "elapsed": 41047,
     "status": "ok",
     "timestamp": 1588865359466,
     "user": {
      "displayName": "Eyal Ben David",
      "photoUrl": "",
      "userId": "13627541310241359464"
     },
     "user_tz": -180
    },
    "id": "euthqmVuRXQH",
    "outputId": "4ab700ea-842f-44c0-af22-e9ae80e420dd",
    "pycharm": {
     "name": "#%%\n"
    }
   },
   "outputs": [],
   "source": [
    "for e in range(epochs):\n",
    "    # batch loop\n",
    "    for inputs, labels in train_loader:\n",
    "        counter += 1\n",
    "\n",
    "        # if training on gpu\n",
    "        inputs, labels = inputs.to(device), labels.to(device)\n",
    "\n",
    "        # zero accumulated gradients\n",
    "        net.zero_grad()\n",
    "\n",
    "        # get the output from the model\n",
    "        # x.size() -> [batch_size]\n",
    "        batch_size = inputs.size(0)\n",
    "        # IMPORTANT - change the dimensions of x before it enters the NN, batch size must always be first\n",
    "        x = inputs.unsqueeze(0)         # x.size() -> [1, batch_size]\n",
    "        x = x.view(batch_size, -1)      # x.size() -> [batch_size, 1]\n",
    "        predictions = net(x)\n",
    "\n",
    "        # calculate the loss and perform backprop\n",
    "        loss = loss_func(predictions.squeeze(), labels.float())\n",
    "        loss.backward()\n",
    "        # `clip_grad_norm` helps prevent the exploding gradient problem in RNNs / LSTMs.\n",
    "        nn.utils.clip_grad_norm_(net.parameters(), clip)\n",
    "        optimizer.step()\n",
    "\n",
    "        # loss stats\n",
    "        if counter % print_every == 0:\n",
    "            # Get validation loss\n",
    "            val_losses = []\n",
    "            net.eval()\n",
    "            print_flag = True\n",
    "            for inputs, labels in valid_loader:\n",
    "                # Creating new variables for the hidden state, otherwise\n",
    "                # we'd backprop through the entire training history\n",
    "                if print_flag:\n",
    "                  inputs, labels = zip(*sorted(zip(inputs.numpy(), labels.numpy())))\n",
    "                  inputs = torch.from_numpy(np.asarray(inputs))\n",
    "                  labels = torch.from_numpy(np.asarray(labels))\n",
    "                inputs, labels = inputs.to(device), labels.to(device)\n",
    "                 \n",
    "\n",
    "                # get the output from the model\n",
    "                # x.size() -> [batch_size]\n",
    "                batch_size = inputs.size(0)\n",
    "                # IMPORTANT - change the dimensions of x before it enters the NN, batch size must always be first\n",
    "                x = inputs.unsqueeze(0)    # x.size() -> [1, batch_size]\n",
    "                x = x.view(batch_size, -1) # x.size() -> [batch_size, 1]\n",
    "                val_predictions = net(x)\n",
    "                val_loss = loss_func(val_predictions.squeeze(), labels.float())\n",
    "\n",
    "                val_losses.append(val_loss.item())\n",
    "                if print_flag:\n",
    "                  print_flag = False\n",
    "                  # plot and show learning process\n",
    "                  fig = plt.figure()\n",
    "                  ax = fig.add_subplot(111)\n",
    "                  ax.cla()\n",
    "                  ax.scatter(inputs.cpu().data.numpy(), labels.cpu().data.numpy())\n",
    "                  ax.plot(inputs.cpu().data.numpy(), val_predictions.cpu().data.numpy(), 'r-', lw=2)\n",
    "                  ax.text(0.5, 0, 'Loss=%.4f' % np.mean(val_losses), fontdict={'size': 10, 'color':  'red'})\n",
    "                  plt.pause(0.1)\n",
    "                  ax.clear()\n",
    "\n",
    "            net.train()\n",
    "            print(\"Epoch: {}/{}...\".format(e+1, epochs),\n",
    "                  \"Step: {}...\".format(counter),\n",
    "                  \"Loss: {:.6f}...\".format(loss.item()),\n",
    "                  \"Val Loss: {:.6f}\".format(np.mean(val_losses)))\n",
    "plt.show()"
   ]
  },
  {
   "cell_type": "markdown",
   "metadata": {
    "id": "2e2NfwzrNQrR",
    "pycharm": {
     "name": "#%% md\n"
    }
   },
   "source": [
    "### Part 3 - More About AUTOGRAD: Automatic Differentiation\n",
    "\n",
    "As you have seen in the regression model above, tensors are similar to NumPy’s ndarrays, with the addition being that Tensors can also be used on a GPU to accelerate computing.\n",
    "\n",
    "During our training we have used AUTOGRAD methods to update our Neural Net. Lets discuss about that in more details."
   ]
  },
  {
   "cell_type": "markdown",
   "metadata": {
    "id": "gcepwNpzV2hK",
    "pycharm": {
     "name": "#%% md\n"
    }
   },
   "source": [
    "***torch.Tensor*** is the central class of the package. If you set its attribute ***.requires_grad*** as True, it starts to track all operations on it. When you finish your computation you can call ***.backward()*** and have all the gradients computed automatically. The gradient for this tensor will be accumulated into .grad attribute.\n",
    "\n",
    "To stop a tensor from tracking history, you can call ***.detach()*** to detach it from the computation history, and to prevent future computation from being tracked."
   ]
  },
  {
   "cell_type": "code",
   "execution_count": null,
   "metadata": {
    "colab": {
     "base_uri": "https://localhost:8080/",
     "height": 102
    },
    "executionInfo": {
     "elapsed": 41028,
     "status": "ok",
     "timestamp": 1588865359468,
     "user": {
      "displayName": "Eyal Ben David",
      "photoUrl": "",
      "userId": "13627541310241359464"
     },
     "user_tz": -180
    },
    "id": "00AoeCzpWPVB",
    "outputId": "a01962fc-bb5c-4e49-97d5-68c09c90e8bc",
    "pycharm": {
     "name": "#%%\n"
    }
   },
   "outputs": [],
   "source": [
    "import torch\n",
    "\n",
    "# Notice the 'requires_grad'\n",
    "x = torch.ones(2, 2, requires_grad=True)\n",
    "print(x)\n",
    "\n",
    "y = x + 2\n",
    "print(y)\n",
    "\n",
    "print(y.grad_fn)\n"
   ]
  },
  {
   "cell_type": "code",
   "execution_count": null,
   "metadata": {
    "colab": {
     "base_uri": "https://localhost:8080/",
     "height": 68
    },
    "executionInfo": {
     "elapsed": 41001,
     "status": "ok",
     "timestamp": 1588865359469,
     "user": {
      "displayName": "Eyal Ben David",
      "photoUrl": "",
      "userId": "13627541310241359464"
     },
     "user_tz": -180
    },
    "id": "O1H5ywdnWwb5",
    "outputId": "eb5acd17-8ed4-471f-f436-1c654b89fa80",
    "pycharm": {
     "name": "#%%\n"
    }
   },
   "outputs": [],
   "source": [
    "# Notice how the tensors follow mathamtical operations\n",
    "z = y * y * 3\n",
    "out = z.mean()\n",
    "\n",
    "print(z)\n",
    "print(out)"
   ]
  },
  {
   "cell_type": "markdown",
   "metadata": {
    "id": "S-RPZteFYeJl",
    "pycharm": {
     "name": "#%% md\n"
    }
   },
   "source": [
    "More on require grad"
   ]
  },
  {
   "cell_type": "code",
   "execution_count": null,
   "metadata": {
    "colab": {
     "base_uri": "https://localhost:8080/",
     "height": 68
    },
    "executionInfo": {
     "elapsed": 40977,
     "status": "ok",
     "timestamp": 1588865359470,
     "user": {
      "displayName": "Eyal Ben David",
      "photoUrl": "",
      "userId": "13627541310241359464"
     },
     "user_tz": -180
    },
    "id": "42mBsLXgYiDB",
    "outputId": "7fac231c-de3b-48c1-9278-9d6186917a31",
    "pycharm": {
     "name": "#%%\n"
    }
   },
   "outputs": [],
   "source": [
    "a = torch.randn(3, 2)\n",
    "a = ((a * 3) - (a - 1))\n",
    "print(a.requires_grad)\n",
    "a.requires_grad_(True)\n",
    "print(a.requires_grad)\n",
    "b = (a * a).sum()\n",
    "print(b.grad_fn)"
   ]
  },
  {
   "cell_type": "markdown",
   "metadata": {
    "id": "ZY8T_K5qYuwO",
    "pycharm": {
     "name": "#%% md\n"
    }
   },
   "source": [
    "### Lets see how easy it is to calculate the gradients:"
   ]
  },
  {
   "cell_type": "code",
   "execution_count": null,
   "metadata": {
    "colab": {
     "base_uri": "https://localhost:8080/",
     "height": 34
    },
    "executionInfo": {
     "elapsed": 40960,
     "status": "ok",
     "timestamp": 1588865359470,
     "user": {
      "displayName": "Eyal Ben David",
      "photoUrl": "",
      "userId": "13627541310241359464"
     },
     "user_tz": -180
    },
    "id": "zFAcbB01Y1O2",
    "outputId": "9db9bcce-b978-47c9-ef9f-dc205e777c9d",
    "pycharm": {
     "name": "#%%\n"
    }
   },
   "outputs": [],
   "source": [
    "b.backward()\n",
    "# print gradients d(out)/dx\n",
    "print(a.grad)"
   ]
  },
  {
   "cell_type": "markdown",
   "source": [
    "## A bit more on pytorch datasets"
   ],
   "metadata": {
    "collapsed": false,
    "pycharm": {
     "name": "#%% md\n"
    }
   }
  },
  {
   "cell_type": "markdown",
   "source": [
    "A custom Dataset class must implement three functions: \\_\\_init__, \\_\\_len__, and \\_\\_getitem__."
   ],
   "metadata": {
    "collapsed": false,
    "pycharm": {
     "name": "#%% md\n"
    }
   }
  },
  {
   "cell_type": "code",
   "execution_count": 2,
   "outputs": [],
   "source": [
    "import torch\n",
    "from torch.utils.data import Dataset\n",
    "import pandas as pd"
   ],
   "metadata": {
    "collapsed": false,
    "pycharm": {
     "name": "#%%\n"
    }
   }
  },
  {
   "cell_type": "code",
   "execution_count": 3,
   "outputs": [],
   "source": [
    "class ClassificationDataset(Dataset):\n",
    "\n",
    "    def __init__(self, file_path):\n",
    "        # Read data\n",
    "        self.file_path = file_path\n",
    "        data = pd.read_csv(self.file_path)\n",
    "\n",
    "        # Split to sentences and labels\n",
    "        self.sentences = data['reviewText'].tolist()\n",
    "        self.labels = data['label'].tolist()\n",
    "\n",
    "    def __getitem__(self, item):\n",
    "        cur_sen = self.sentences[item]\n",
    "        label = self.labels[item]\n",
    "        data = {\"sentences\": cur_sen, \"labels\": label}\n",
    "        return data\n",
    "\n",
    "    def __len__(self):\n",
    "        return len(self.sentences)"
   ],
   "metadata": {
    "collapsed": false,
    "pycharm": {
     "name": "#%%\n"
    }
   }
  },
  {
   "cell_type": "code",
   "execution_count": 4,
   "outputs": [],
   "source": [
    "dataset = ClassificationDataset('./amazon_sa/train.csv')"
   ],
   "metadata": {
    "collapsed": false,
    "pycharm": {
     "name": "#%%\n"
    }
   }
  },
  {
   "cell_type": "markdown",
   "metadata": {
    "id": "jDz9FoNeH45t",
    "pycharm": {
     "name": "#%% md\n"
    }
   },
   "source": [
    "## <img src=\"https://img.icons8.com/dusk/64/000000/prize.png\" style=\"height:50px;display:inline\"> Credits\n",
    "* Much of the code above is adjusted from  <a href=\"https://github.com/udacity\">Udacity tutorials</a>\n",
    "* By <a href=\"https://github.com/eyalbd2\">Eyal Ben David</a> and <a href=\"https://github.com/nadavo\">Nadav Oved </a>"
   ]
  }
 ],
 "metadata": {
  "accelerator": "GPU",
  "colab": {
   "collapsed_sections": [],
   "name": "getting started with torch.ipynb",
   "provenance": []
  },
  "kernelspec": {
   "display_name": "Python 3 (ipykernel)",
   "language": "python",
   "name": "python3"
  },
  "language_info": {
   "codemirror_mode": {
    "name": "ipython",
    "version": 3
   },
   "file_extension": ".py",
   "mimetype": "text/x-python",
   "name": "python",
   "nbconvert_exporter": "python",
   "pygments_lexer": "ipython3",
   "version": "3.8.8"
  }
 },
 "nbformat": 4,
 "nbformat_minor": 1
}