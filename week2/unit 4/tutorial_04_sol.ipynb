{
 "cells": [
  {
   "cell_type": "markdown",
   "metadata": {
    "collapsed": true,
    "pycharm": {
     "name": "#%% md\n"
    }
   },
   "source": [
    "# Question 1 - Creating a Dataset"
   ]
  },
  {
   "cell_type": "markdown",
   "metadata": {
    "pycharm": {
     "name": "#%% md\n"
    }
   },
   "source": [
    "In this question you'll create a dataset class for the amazon sentiment analysis dataset.\n",
    "\n",
    "Add the following to the class below:\n",
    "```__init__```:\n",
    "1. Enumerate the different labels and create two dict attributes: ```self.label2idx```, ```self.idx2label```.\n",
    "2. Instantiate a ```TfidfVectorizer``` and use ```TfidfVectorizer.fit_transform``` to transform the sentences into tf-idf vectors. Documentation can be found [here](https://scikit-learn.org/stable/modules/generated/sklearn.feature_extraction.text.TfidfVectorizer.html#sklearn.feature_extraction.text.TfidfVectorizer.fit_transform).\n",
    "3. Set the attribute ```self.vocab_size``` using the tokenizer's ```vocabulary_``` attribute.\n",
    "\n",
    "\n",
    "```__getitem__```:\n",
    "1. Reimplement the method so that it returns the tf-idf vector of the sentence in a tensor. the tensor should be of shape ```[vocab_size]``` and not ```[1, vocab_size]```. You can use the ```Tensor.squeeze()``` method to do this ((documentation)[https://pytorch.org/docs/stable/generated/torch.squeeze.html#torch.squeeze])\n",
    "2. You should return the idx of the label instead of the label itself.\n",
    "3. The output should be in the following format: ```data = {\"input_vectors\": setnence, \"labels\": label}```"
   ]
  },
  {
   "cell_type": "code",
   "execution_count": 1,
   "metadata": {
    "pycharm": {
     "name": "#%%\n"
    }
   },
   "outputs": [],
   "source": [
    "import torch\n",
    "from torch.utils.data import Dataset, DataLoader\n",
    "import pandas as pd\n",
    "from sklearn.feature_extraction.text import TfidfVectorizer"
   ]
  },
  {
   "cell_type": "code",
   "execution_count": 2,
   "metadata": {
    "pycharm": {
     "name": "#%%\n"
    }
   },
   "outputs": [],
   "source": [
    "class ClassificationDataset(Dataset):\n",
    "\n",
    "    def __init__(self, file_path, tokenizer=None):\n",
    "        # Read data\n",
    "        self.file_path = file_path\n",
    "        data = pd.read_csv(self.file_path)\n",
    "\n",
    "        # Split to sentences and labels\n",
    "        self.sentences = data['reviewText'].tolist()\n",
    "        self.labels = data['label'].tolist()\n",
    "\n",
    "        # Enumerate labels\n",
    "        self.label_to_idx = {tag: idx for idx, tag in enumerate(sorted(list(set(self.labels))))}\n",
    "        self.idx_to_label = {idx: tag for tag, idx in self.label_to_idx.items()}\n",
    "\n",
    "        # Tokenize sentences\n",
    "        if tokenizer is not None:\n",
    "            self.tokenizer = tokenizer\n",
    "            self.tokenized_sen = self.tokenizer.transform(self.sentences)\n",
    "        else:\n",
    "            self.tokenizer = TfidfVectorizer(lowercase=True, stop_words=None)\n",
    "            self.tokenized_sen = self.tokenizer.fit_transform(self.sentences)\n",
    "        \n",
    "        # Set vocab_size attribute\n",
    "        self.vocab_size = len(self.tokenizer.vocabulary_)\n",
    "\n",
    "    def __getitem__(self, item):\n",
    "        # Tensorize sentence\n",
    "        sentence = self.tokenized_sen[item]\n",
    "        sentence = torch.FloatTensor(sentence.toarray()).squeeze()\n",
    "\n",
    "        # Get label idx\n",
    "        label = self.labels[item]\n",
    "        label = self.label_to_idx[label]\n",
    "\n",
    "        data = {\"input_vectors\": sentence, \"labels\": label}\n",
    "        return data\n",
    "\n",
    "    def __len__(self):\n",
    "        return len(self.sentences)"
   ]
  },
  {
   "cell_type": "code",
   "execution_count": 3,
   "metadata": {
    "pycharm": {
     "name": "#%%\n"
    }
   },
   "outputs": [],
   "source": [
    "train_dataset = ClassificationDataset('./amazon_sa/train.csv')\n",
    "test_dataset = ClassificationDataset('./amazon_sa/test.csv', tokenizer=train_dataset.tokenizer)\n",
    "\n",
    "batch_size = 4\n",
    "train_loader = DataLoader(train_dataset, shuffle=True, batch_size=batch_size)\n",
    "test_loader = DataLoader(test_dataset, shuffle=False, batch_size=batch_size)"
   ]
  },
  {
   "cell_type": "code",
   "execution_count": 4,
   "metadata": {
    "pycharm": {
     "name": "#%%\n"
    }
   },
   "outputs": [
    {
     "data": {
      "text/plain": "{'input_vectors': tensor([0., 0., 0.,  ..., 0., 0., 0.]), 'labels': 1}"
     },
     "execution_count": 4,
     "metadata": {},
     "output_type": "execute_result"
    }
   ],
   "source": [
    "train_dataset[0]"
   ]
  },
  {
   "cell_type": "code",
   "execution_count": 5,
   "metadata": {
    "pycharm": {
     "name": "#%%\n"
    }
   },
   "outputs": [
    {
     "name": "stdout",
     "output_type": "stream",
     "text": [
      "{'input_vectors': tensor([[0., 0., 0.,  ..., 0., 0., 0.],\n",
      "        [0., 0., 0.,  ..., 0., 0., 0.],\n",
      "        [0., 0., 0.,  ..., 0., 0., 0.],\n",
      "        [0., 0., 0.,  ..., 0., 0., 0.]]), 'labels': tensor([1, 1, 1, 1])}\n"
     ]
    }
   ],
   "source": [
    "for batch in train_loader:\n",
    "    break\n",
    "print(batch)"
   ]
  },
  {
   "cell_type": "markdown",
   "metadata": {
    "pycharm": {
     "name": "#%% md\n"
    }
   },
   "source": [
    "# Question 2 - Modeling"
   ]
  },
  {
   "cell_type": "markdown",
   "metadata": {
    "pycharm": {
     "name": "#%% md\n"
    }
   },
   "source": [
    "In this question you will implement a simple neural network that will classify a sentence given its tf-idf vector.\n",
    "\n",
    "Implement a model with the following architecture:\n",
    "1. A linear layer from ```vocab_size``` to ```hidden_dim```.\n",
    "2. A ReLU activation fn.\n",
    "3. A linear layer from ```hidden_dim``` to ```num_classes```.\n",
    "4. A cross Entropy Loss\n",
    "\n",
    "```forward```:\n",
    "1. If labels are passed, should return the output of the second layer and the loss.\n",
    "2. Otherwise, should pass the output of the second layer and None."
   ]
  },
  {
   "cell_type": "code",
   "execution_count": 6,
   "metadata": {
    "pycharm": {
     "name": "#%%\n"
    }
   },
   "outputs": [],
   "source": [
    "from torch import nn"
   ]
  },
  {
   "cell_type": "code",
   "execution_count": 7,
   "metadata": {
    "pycharm": {
     "name": "#%%\n"
    }
   },
   "outputs": [],
   "source": [
    "class TfIdfClassifier(nn.Module):\n",
    "\n",
    "    def __init__(self, vocab_size, num_classes, hidden_dim=100):\n",
    "        super(TfIdfClassifier, self).__init__()\n",
    "        self.first_layer = nn.Linear(vocab_size, hidden_dim)\n",
    "        self.activation = nn.ReLU()\n",
    "        self.second_layer = nn.Linear(hidden_dim, num_classes)\n",
    "        self.loss = nn.CrossEntropyLoss()\n",
    "\n",
    "    def forward(self, input_vectors, labels=None):\n",
    "        x = self.first_layer(input_vectors)\n",
    "        x = self.activation(x)\n",
    "        x = self.second_layer(x)\n",
    "        if labels is None:\n",
    "            return x, None\n",
    "        loss = self.loss(x, labels)\n",
    "        return x, loss"
   ]
  },
  {
   "cell_type": "code",
   "execution_count": 8,
   "metadata": {
    "pycharm": {
     "name": "#%%\n"
    }
   },
   "outputs": [
    {
     "name": "stdout",
     "output_type": "stream",
     "text": [
      "TfIdfClassifier(\n",
      "  (first_layer): Linear(in_features=49221, out_features=100, bias=True)\n",
      "  (activation): ReLU()\n",
      "  (second_layer): Linear(in_features=100, out_features=2, bias=True)\n",
      "  (loss): CrossEntropyLoss()\n",
      ")\n"
     ]
    }
   ],
   "source": [
    "model = TfIdfClassifier(train_dataset.vocab_size, len(train_dataset.label_to_idx), hidden_dim=100)\n",
    "print(model)"
   ]
  },
  {
   "cell_type": "code",
   "execution_count": 9,
   "metadata": {
    "pycharm": {
     "name": "#%%\n"
    }
   },
   "outputs": [
    {
     "data": {
      "text/plain": "(tensor([[-0.0541, -0.0376],\n         [-0.0544, -0.0375],\n         [-0.0549, -0.0368],\n         [-0.0548, -0.0391]], grad_fn=<AddmmBackward0>),\n tensor(0.6848, grad_fn=<NllLossBackward0>))"
     },
     "execution_count": 9,
     "metadata": {},
     "output_type": "execute_result"
    }
   ],
   "source": [
    "model(**batch)"
   ]
  }
 ],
 "metadata": {
  "kernelspec": {
   "display_name": "Python 3",
   "language": "python",
   "name": "python3"
  },
  "language_info": {
   "codemirror_mode": {
    "name": "ipython",
    "version": 3
   },
   "file_extension": ".py",
   "mimetype": "text/x-python",
   "name": "python",
   "nbconvert_exporter": "python",
   "pygments_lexer": "ipython3",
   "version": "3.8.8"
  }
 },
 "nbformat": 4,
 "nbformat_minor": 1
}