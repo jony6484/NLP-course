{
 "cells": [
  {
   "cell_type": "markdown",
   "metadata": {
    "collapsed": true,
    "pycharm": {
     "name": "#%% md\n"
    }
   },
   "source": [
    "# Question 1 - Creating a Dataset"
   ]
  },
  {
   "cell_type": "markdown",
   "source": [
    "In this question you'll create a dataset class for the amazon sentiment analysis dataset.\n",
    "\n",
    "Add the following to the class below:\n",
    "```__init__```:\n",
    "1. Enumerate the different labels and create two dict attributes: ```self.label2idx```, ```self.idx2label```.\n",
    "2. Instantiate a ```TfidfVectorizer``` and use ```TfidfVectorizer.fit_transform``` to transform the sentences into tf-idf vectors. Documentation can be found [here](https://scikit-learn.org/stable/modules/generated/sklearn.feature_extraction.text.TfidfVectorizer.html#sklearn.feature_extraction.text.TfidfVectorizer.fit_transform).\n",
    "3. Set the attribute ```self.vocab_size``` using the tokenizer's ```vocabulary_``` attribute.\n",
    "\n",
    "\n",
    "```__getitem__```:\n",
    "1. Reimplement the method so that it returns the tf-idf vector of the sentence in a tensor. the tensor should be of shape ```[vocab_size]``` and not ```[1, vocab_size]```. You can use the ```Tensor.squeeze()``` method to do this ((documentation)[https://pytorch.org/docs/stable/generated/torch.squeeze.html#torch.squeeze])\n",
    "2. You should return the idx of the label instead of the label itself.\n",
    "3. The output should be in the following format: ```data = {\"input_vectors\": setnence, \"labels\": label}```"
   ],
   "metadata": {
    "collapsed": false,
    "pycharm": {
     "name": "#%% md\n"
    }
   }
  },
  {
   "cell_type": "code",
   "execution_count": null,
   "outputs": [],
   "source": [
    "import torch\n",
    "from torch.utils.data import Dataset, DataLoader\n",
    "import pandas as pd\n",
    "from sklearn.feature_extraction.text import TfidfVectorizer"
   ],
   "metadata": {
    "collapsed": false,
    "pycharm": {
     "name": "#%%\n"
    }
   }
  },
  {
   "cell_type": "code",
   "execution_count": null,
   "outputs": [],
   "source": [
    "class ClassificationDataset(Dataset):\n",
    "\n",
    "    def __init__(self, file_path):\n",
    "        # Read data\n",
    "        self.file_path = file_path\n",
    "        data = pd.read_csv(self.file_path)\n",
    "\n",
    "        # Split to sentences and labels\n",
    "        self.sentences = data['reviewText'].tolist()\n",
    "        self.labels = data['label'].tolist()\n",
    "\n",
    "        # Enumerate labels\n",
    "\n",
    "        # Tokenize sentences\n",
    "\n",
    "        # Set vocab_size attribute\n",
    "\n",
    "    def __getitem__(self, item):\n",
    "        # Tensorize sentence\n",
    "\n",
    "        # Get label idx\n",
    "\n",
    "        data = {\"input_vectors\": sentence, \"labels\": label}\n",
    "        return data\n",
    "\n",
    "    def __len__(self):\n",
    "        return len(self.sentences)"
   ],
   "metadata": {
    "collapsed": false,
    "pycharm": {
     "name": "#%%\n"
    }
   }
  },
  {
   "cell_type": "code",
   "execution_count": null,
   "outputs": [],
   "source": [
    "train_dataset = ClassificationDataset('./amazon_sa/train.csv')\n",
    "test_dataset = ClassificationDataset('./amazon_sa/test.csv')\n",
    "\n",
    "batch_size = 4\n",
    "train_loader = DataLoader(train_dataset, shuffle=True, batch_size=batch_size)\n",
    "test_loader = DataLoader(test_dataset, shuffle=False, batch_size=batch_size)"
   ],
   "metadata": {
    "collapsed": false,
    "pycharm": {
     "name": "#%%\n"
    }
   }
  },
  {
   "cell_type": "code",
   "execution_count": null,
   "outputs": [],
   "source": [
    "train_dataset[0]"
   ],
   "metadata": {
    "collapsed": false,
    "pycharm": {
     "name": "#%%\n"
    }
   }
  },
  {
   "cell_type": "code",
   "execution_count": null,
   "outputs": [],
   "source": [
    "for batch in train_loader:\n",
    "    break\n",
    "print(batch)"
   ],
   "metadata": {
    "collapsed": false,
    "pycharm": {
     "name": "#%%\n"
    }
   }
  },
  {
   "cell_type": "markdown",
   "source": [
    "# Question 2 - Modeling"
   ],
   "metadata": {
    "collapsed": false,
    "pycharm": {
     "name": "#%% md\n"
    }
   }
  },
  {
   "cell_type": "markdown",
   "source": [
    "In this question you will implement a simple neural network that will classify a sentence given its tf-idf vector.\n",
    "\n",
    "Implement a model with the following architecture:\n",
    "1. A linear layer from ```vocab_size``` to ```hidden_dim```.\n",
    "2. A ReLU activation fn.\n",
    "3. A linear layer from ```hidden_dim``` to ```num_classes```.\n",
    "4. A cross Entropy Loss\n",
    "\n",
    "```forward```:\n",
    "1. If labels are passed, should return the output of the second layer and the loss.\n",
    "2. Otherwise, should pass the output of the second layer and None."
   ],
   "metadata": {
    "collapsed": false,
    "pycharm": {
     "name": "#%% md\n"
    }
   }
  },
  {
   "cell_type": "code",
   "execution_count": null,
   "outputs": [],
   "source": [
    "from torch import nn"
   ],
   "metadata": {
    "collapsed": false,
    "pycharm": {
     "name": "#%%\n"
    }
   }
  },
  {
   "cell_type": "code",
   "execution_count": null,
   "outputs": [],
   "source": [
    "class TfIdfClassifier(nn.Module):\n",
    "\n",
    "    def __init__(self, vocab_size, num_classes, hidden_dim=100):\n",
    "        super(TfIdfClassifier, self).__init__()\n",
    "        pass\n",
    "\n",
    "    def forward(self, input_vectors, labels=None):\n",
    "        pass"
   ],
   "metadata": {
    "collapsed": false,
    "pycharm": {
     "name": "#%%\n"
    }
   }
  },
  {
   "cell_type": "code",
   "execution_count": null,
   "outputs": [],
   "source": [
    "model = TfIdfClassifier(train_dataset.vocab_size, len(train_dataset.label_to_idx), hidden_dim=100)\n",
    "print(model)"
   ],
   "metadata": {
    "collapsed": false,
    "pycharm": {
     "name": "#%%\n"
    }
   }
  },
  {
   "cell_type": "code",
   "execution_count": null,
   "outputs": [],
   "source": [
    "model(**batch)"
   ],
   "metadata": {
    "collapsed": false,
    "pycharm": {
     "name": "#%%\n"
    }
   }
  }
 ],
 "metadata": {
  "kernelspec": {
   "display_name": "Python 3",
   "language": "python",
   "name": "python3"
  },
  "language_info": {
   "codemirror_mode": {
    "name": "ipython",
    "version": 2
   },
   "file_extension": ".py",
   "mimetype": "text/x-python",
   "name": "python",
   "nbconvert_exporter": "python",
   "pygments_lexer": "ipython2",
   "version": "2.7.6"
  }
 },
 "nbformat": 4,
 "nbformat_minor": 0
}