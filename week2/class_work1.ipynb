{
 "cells": [
  {
   "cell_type": "code",
   "execution_count": 48,
   "id": "8663048c-becf-4c71-8138-7681eada9f3f",
   "metadata": {},
   "outputs": [],
   "source": [
    "import numpy as np\n",
    "import gensim\n",
    "import pandas as pd\n",
    "from gensim.models import Word2Vec"
   ]
  },
  {
   "cell_type": "code",
   "execution_count": 7,
   "id": "1671e5ae-a7b7-4db4-ab4f-79bf3b43116d",
   "metadata": {},
   "outputs": [],
   "source": [
    "from gensim import downloader\n",
    "GLOVE_PATH = 'glove-twitter-200'\n",
    "glove = downloader.load(GLOVE_PATH)"
   ]
  },
  {
   "cell_type": "code",
   "execution_count": 49,
   "id": "8d692a74-fbf0-416f-af42-2b48c7fd0671",
   "metadata": {},
   "outputs": [],
   "source": [
    "sentences = dataset['review'].values\n",
    "y = (dataset['sentiment'] == 'positive').values.astype(int)"
   ]
  },
  {
   "cell_type": "code",
   "execution_count": 50,
   "id": "a988b060-231f-44f3-873d-45bb432e7c4a",
   "metadata": {},
   "outputs": [],
   "source": [
    "N = len(sentences)"
   ]
  },
  {
   "cell_type": "code",
   "execution_count": 98,
   "id": "1eebed50-401f-413d-8ae6-fcbfc49d8665",
   "metadata": {},
   "outputs": [],
   "source": [
    "representations = []\n",
    "for sentence in sentences:\n",
    "    sen_represent = []\n",
    "    for word in sentence.split():\n",
    "        if word.lower() not in glove.key_to_index:\n",
    "            # print(f\"{word} not an existing word in the model\")\n",
    "            continue\n",
    "        sen_represent.append(glove[word.lower()])\n",
    "    representations.append(sen_represent)"
   ]
  },
  {
   "cell_type": "code",
   "execution_count": 99,
   "id": "bd5d4da3-fdce-4bb0-a85d-00cfe5d1dedf",
   "metadata": {},
   "outputs": [
    {
     "data": {
      "text/plain": [
       "50000"
      ]
     },
     "execution_count": 99,
     "metadata": {},
     "output_type": "execute_result"
    }
   ],
   "source": [
    "len(representations)"
   ]
  },
  {
   "cell_type": "code",
   "execution_count": 100,
   "id": "5806ff5d-e0f0-489b-ac8d-0aa75af5b944",
   "metadata": {},
   "outputs": [],
   "source": [
    "X = np.zeros(shape=(N, 200))\n",
    "for ii in range(N):\n",
    "    X[ii, :] = np.mean(representations[ii], axis=0)"
   ]
  },
  {
   "cell_type": "code",
   "execution_count": 107,
   "id": "103f39fe-c890-4f7d-a0e6-82488729f82d",
   "metadata": {},
   "outputs": [],
   "source": [
    "from sklearn.model_selection import train_test_split\n",
    "X_train, X_test, y_train, y_test = train_test_split(X, y, test_size=0.1, random_state=42)"
   ]
  },
  {
   "cell_type": "code",
   "execution_count": 111,
   "id": "b1bb6717-5099-47ef-b4e2-cf677aa60318",
   "metadata": {},
   "outputs": [
    {
     "data": {
      "text/plain": [
       "KNeighborsClassifier()"
      ]
     },
     "execution_count": 111,
     "metadata": {},
     "output_type": "execute_result"
    }
   ],
   "source": [
    "from sklearn.neighbors import KNeighborsClassifier\n",
    "model = KNeighborsClassifier()\n",
    "model.fit(X_train, y_train)"
   ]
  },
  {
   "cell_type": "code",
   "execution_count": 112,
   "id": "1ce49109-9a35-4097-b11d-edf573debcd5",
   "metadata": {},
   "outputs": [],
   "source": [
    "y_test_hat = model.predict(X_test)"
   ]
  },
  {
   "cell_type": "code",
   "execution_count": 113,
   "id": "87843244-6688-475c-ae25-b6fd1ce04561",
   "metadata": {},
   "outputs": [
    {
     "data": {
      "text/plain": [
       "0.717"
      ]
     },
     "execution_count": 113,
     "metadata": {},
     "output_type": "execute_result"
    }
   ],
   "source": [
    "model.score(X_test, y_test)"
   ]
  }
 ],
 "metadata": {
  "kernelspec": {
   "display_name": "Python 3",
   "language": "python",
   "name": "python3"
  },
  "language_info": {
   "codemirror_mode": {
    "name": "ipython",
    "version": 3
   },
   "file_extension": ".py",
   "mimetype": "text/x-python",
   "name": "python",
   "nbconvert_exporter": "python",
   "pygments_lexer": "ipython3",
   "version": "3.10.3"
  }
 },
 "nbformat": 4,
 "nbformat_minor": 5
}
