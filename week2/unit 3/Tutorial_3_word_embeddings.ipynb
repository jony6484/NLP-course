{
  "cells": [
    {
      "cell_type": "markdown",
      "metadata": {
        "id": "JEUjNrhz3p-y"
      },
      "source": [
        "# Word Embeddings\n",
        "    More details in the official documentation: https://radimrehurek.com/gensim/auto_examples/index.html#documentation"
      ]
    },
    {
      "cell_type": "code",
      "execution_count": 31,
      "metadata": {
        "id": "TVVgZCg0RUox",
        "colab": {
          "base_uri": "https://localhost:8080/"
        },
        "outputId": "6e3590c1-4bca-4555-c3df-9467b9c27e35"
      },
      "outputs": [
        {
          "output_type": "stream",
          "name": "stdout",
          "text": [
            "Looking in indexes: https://pypi.org/simple, https://us-python.pkg.dev/colab-wheels/public/simple/\n",
            "Requirement already satisfied: gensim in /usr/local/lib/python3.7/dist-packages (4.2.0)\n",
            "Requirement already satisfied: scipy>=0.18.1 in /usr/local/lib/python3.7/dist-packages (from gensim) (1.4.1)\n",
            "Requirement already satisfied: numpy>=1.17.0 in /usr/local/lib/python3.7/dist-packages (from gensim) (1.21.6)\n",
            "Requirement already satisfied: smart-open>=1.8.1 in /usr/local/lib/python3.7/dist-packages (from gensim) (5.2.1)\n",
            "Looking in indexes: https://pypi.org/simple, https://us-python.pkg.dev/colab-wheels/public/simple/\n",
            "Requirement already satisfied: numpy in /usr/local/lib/python3.7/dist-packages (1.21.6)\n"
          ]
        }
      ],
      "source": [
        "!pip install gensim --upgrade\n",
        "!pip install numpy --upgrade"
      ]
    },
    {
      "cell_type": "code",
      "execution_count": 32,
      "metadata": {
        "id": "PJ6gpAJCop9D"
      },
      "outputs": [],
      "source": [
        "from gensim import downloader\n",
        "import numpy as np"
      ]
    },
    {
      "cell_type": "code",
      "execution_count": 33,
      "metadata": {
        "colab": {
          "base_uri": "https://localhost:8080/"
        },
        "id": "NY4Krmgt7t-y",
        "outputId": "a07c6f66-7834-4084-9ac3-6b816abe60e0"
      },
      "outputs": [
        {
          "output_type": "stream",
          "name": "stdout",
          "text": [
            "4.2.0\n"
          ]
        }
      ],
      "source": [
        "import gensim\n",
        "print(gensim.__version__)"
      ]
    },
    {
      "cell_type": "markdown",
      "metadata": {
        "id": "e6G8nu1W3wtX"
      },
      "source": [
        "## Loading The Pretrained Weights\n",
        "Supported options are at https://radimrehurek.com/gensim/models/word2vec.html#pretrained-models"
      ]
    },
    {
      "cell_type": "code",
      "execution_count": 34,
      "metadata": {
        "id": "1ieBE5Zo7-iv"
      },
      "outputs": [],
      "source": [
        "WORD_2_VEC_PATH = 'word2vec-google-news-300'\n",
        "GLOVE_PATH = 'glove-twitter-200'"
      ]
    },
    {
      "cell_type": "code",
      "execution_count": 35,
      "metadata": {
        "id": "TqRr4ctUpAK4"
      },
      "outputs": [],
      "source": [
        "glove = downloader.load(GLOVE_PATH)"
      ]
    },
    {
      "cell_type": "markdown",
      "metadata": {
        "id": "5FOkwYA_8iRU"
      },
      "source": [
        "## Using The Pre-Trained Vecotors"
      ]
    },
    {
      "cell_type": "code",
      "execution_count": 36,
      "metadata": {
        "colab": {
          "base_uri": "https://localhost:8080/"
        },
        "id": "ukua0IZBpm-Z",
        "outputId": "a9e735ff-4834-4b99-a0d5-adf257e99dfe"
      },
      "outputs": [
        {
          "output_type": "stream",
          "name": "stdout",
          "text": [
            "asjfgsrafkjhbfgk not an existing word in the model\n",
            "(4, 200)\n"
          ]
        }
      ],
      "source": [
        "sen = \"good morning to you asjfgsrafkjhbfgk\"\n",
        "representation = []\n",
        "for word in sen.split():\n",
        "    if word not in glove.key_to_index:\n",
        "        print(f\"{word} not an existing word in the model\")\n",
        "        continue\n",
        "    vec = glove[word]\n",
        "    representation.append(vec)\n",
        "representation = np.asarray(representation)\n",
        "print(representation.shape)"
      ]
    },
    {
      "cell_type": "code",
      "source": [
        "representation"
      ],
      "metadata": {
        "colab": {
          "base_uri": "https://localhost:8080/"
        },
        "id": "atwPAWXKELum",
        "outputId": "1264718c-0597-4fb2-9c32-1204cb54ec70"
      },
      "execution_count": 37,
      "outputs": [
        {
          "output_type": "execute_result",
          "data": {
            "text/plain": [
              "array([[ 1.8223e-02, -1.2323e-02,  3.5569e-02,  2.4232e-01, -1.6069e-01,\n",
              "         5.2370e-01,  4.4601e-01,  1.2796e-01, -3.9654e-01, -5.5359e-01,\n",
              "        -4.2493e-01, -5.1860e-01, -4.7980e-01,  1.3340e-01, -2.0102e-02,\n",
              "         1.1239e-02, -1.6348e-01, -6.4611e-02, -2.1307e-01,  1.8213e-01,\n",
              "        -5.0681e-02, -4.7004e-02,  2.6059e-01,  2.6835e-01,  5.6722e-02,\n",
              "         1.2509e+00, -2.3720e-01,  8.2913e-02,  1.9489e-01, -1.5868e-01,\n",
              "        -3.0604e-01, -1.7661e-01,  1.5068e-03,  3.6496e-01,  2.2036e-01,\n",
              "         6.2268e-01, -4.1441e-01,  9.6564e-02, -4.3795e-03,  2.7042e-01,\n",
              "         2.5475e-01, -5.5140e-02,  1.1192e-01,  1.9500e-01,  2.8769e-01,\n",
              "        -1.1948e-01,  4.3597e-01,  9.1972e-02, -1.5433e-01,  8.4403e-02,\n",
              "        -1.3209e-01,  2.4921e-01, -1.4751e-01,  3.8311e-02,  6.5674e-02,\n",
              "         1.9684e-01, -1.9819e-01,  5.0042e-02,  3.4048e-01, -1.3061e-01,\n",
              "        -2.6501e-01, -3.0854e-01, -5.8837e-01, -2.3073e-01,  2.6364e-02,\n",
              "        -3.4728e-01, -4.9131e-01,  9.0294e-02,  2.9076e-02,  1.0076e-01,\n",
              "         3.4967e-02,  1.4593e-01, -6.1772e-02, -8.7673e-03,  3.0884e-01,\n",
              "         5.5880e-02,  1.8971e-01, -8.0787e-02,  5.9851e-03,  3.2556e-01,\n",
              "         2.7673e-01,  1.2172e-01,  3.9949e-01,  2.8788e-01,  6.4106e-01,\n",
              "         3.3606e-01, -3.4634e-02, -1.8203e-01,  8.4213e-02,  1.4813e-02,\n",
              "        -1.1287e-01, -2.0120e-01, -3.3092e-01,  2.4928e-01,  6.5857e-02,\n",
              "        -4.7621e-02,  4.6902e-01,  3.9605e-01, -6.9311e-02, -2.5040e-01,\n",
              "        -2.0841e-01, -1.7133e-01,  5.2573e-02, -1.7911e-01,  2.3310e-01,\n",
              "        -5.5963e-02,  7.2836e-02,  2.3318e-01,  2.1811e-01,  5.2048e-01,\n",
              "        -4.5084e-01,  3.8682e-02,  2.6486e-01,  8.5314e-01, -5.1592e-01,\n",
              "        -9.2948e-02, -1.7601e-01, -2.0314e-01,  4.6082e-01,  3.8613e-01,\n",
              "         1.2586e-01,  1.8592e-01, -6.6811e-03, -1.4622e-01,  2.4552e-02,\n",
              "        -4.0889e-01,  3.0091e-02, -3.1515e-01, -4.9889e-01,  6.9617e-02,\n",
              "        -5.5283e-02, -5.7159e-02,  1.8025e-02,  6.0406e-01, -2.0548e-01,\n",
              "         1.1209e-02,  1.9596e-01, -1.2695e-01, -2.0463e-02,  4.5135e-01,\n",
              "        -2.8645e-03, -7.0730e-02,  4.8038e-01,  1.2599e-01, -2.3355e-01,\n",
              "         1.3648e-01,  2.1576e-01,  5.2709e-01,  4.8783e-01,  7.7489e-02,\n",
              "         4.7081e-01,  9.0564e-02, -5.7548e+00,  1.4570e-01, -5.4864e-02,\n",
              "        -3.3638e-01, -8.1189e-02, -7.1477e-02,  1.9461e-01,  1.6298e-01,\n",
              "        -2.4587e-01, -8.1902e-03, -9.6375e-02,  3.0896e-01,  1.6521e-01,\n",
              "         4.5220e-01, -2.5568e-01,  1.7678e-01,  2.1908e-01,  2.6869e-01,\n",
              "         1.2103e-01, -2.5415e-01,  2.4167e-01,  1.7522e-01, -4.4715e-01,\n",
              "        -1.6270e-01, -2.4524e-01, -1.7461e-01,  1.5330e-01, -1.0728e-01,\n",
              "        -3.1391e-01, -1.6711e-01,  7.8056e-02,  4.5057e-02,  8.7922e-04,\n",
              "        -4.2077e-01, -2.9744e-01, -4.1303e-01, -5.0349e-01, -1.8497e-01,\n",
              "        -3.3904e-01, -6.1346e-02,  1.2878e+00, -3.1205e-01,  2.6783e-01,\n",
              "        -7.5879e-02, -3.8390e-01, -2.6446e-01, -2.9350e-01, -1.0448e-01],\n",
              "       [ 1.7513e-01, -3.5645e-02, -1.5280e-01,  1.2789e-01, -8.1739e-02,\n",
              "         3.9544e-03,  4.9699e-02,  4.9327e-02, -2.0036e-01, -9.7087e-01,\n",
              "         1.3116e-01, -2.9954e-01, -1.0630e-01,  1.4835e-01, -2.8138e-01,\n",
              "        -5.0671e-01,  9.0577e-02, -1.5514e-01, -2.2512e-01,  1.5974e-01,\n",
              "         3.5446e-01,  3.0933e-01, -6.4611e-02,  1.8449e-01,  3.9034e-01,\n",
              "         1.2109e+00, -5.0995e-01,  7.4940e-02,  2.3574e-01, -5.6834e-01,\n",
              "        -4.0619e-01, -2.0566e-01, -2.8768e-02,  4.3720e-01,  2.3840e-01,\n",
              "         3.5266e-01, -7.0234e-01,  6.5225e-01,  2.6356e-01,  5.3510e-01,\n",
              "        -3.2218e-02,  2.0903e-01,  7.3437e-02,  4.9300e-01,  4.8715e-01,\n",
              "        -1.4673e-01,  7.1360e-03,  1.5482e-01, -2.8260e-01, -1.0312e-02,\n",
              "        -1.3765e-01, -3.4539e-01, -3.5003e-02, -4.4507e-03,  1.9730e-01,\n",
              "         5.9487e-01, -4.7780e-02, -1.2509e-01,  6.3074e-01,  1.4180e-01,\n",
              "        -2.9888e-01, -4.3087e-01, -5.0525e-01,  1.2222e-01,  2.1973e-01,\n",
              "        -4.9185e-01,  9.8437e-02,  5.2103e-02,  3.0569e-01, -2.2386e-01,\n",
              "        -3.8399e-02,  8.4654e-03,  2.6320e-02, -3.4285e-01,  2.8355e-01,\n",
              "         4.3037e-01,  1.4519e-01, -1.6492e-01, -2.8264e-01,  5.3949e-01,\n",
              "         2.6535e-01, -1.0983e-01,  5.0509e-01,  8.3905e-01,  1.1371e-01,\n",
              "         6.1366e-01, -1.9796e-01,  2.5279e-01,  6.3524e-01, -5.1851e-01,\n",
              "        -2.3945e-01, -3.1334e-02,  1.2974e-01,  6.3618e-01,  2.1022e-01,\n",
              "        -2.8958e-01,  1.6855e-01,  3.2738e-01,  1.5145e-01,  6.8250e-02,\n",
              "        -4.2610e-01, -2.6518e-01,  5.3868e-02, -2.6678e-01, -5.4553e-01,\n",
              "        -1.5624e-01,  2.6699e-01, -2.0493e-01,  9.5795e-02,  5.5002e-02,\n",
              "         9.2998e-03, -1.6874e-01, -3.5225e-01,  9.4162e-01, -3.9331e-01,\n",
              "        -4.7721e-01, -5.6619e-01, -9.3770e-01,  4.0431e-01,  1.1091e-01,\n",
              "         2.5929e-01,  1.2574e-01, -6.3417e-02,  2.3161e-01,  1.5476e-01,\n",
              "         1.6530e-01,  6.6014e-02, -6.2479e-01, -4.9649e-01,  2.2612e-01,\n",
              "         9.3374e-01, -6.2023e-01,  1.1348e-01,  4.6949e-01, -2.3179e-01,\n",
              "        -3.2964e-01, -1.5217e-01,  5.4731e-01, -2.3302e-01,  7.2832e-01,\n",
              "        -2.9886e-01,  2.8189e-02, -6.5521e-02,  2.5763e-01, -2.2927e-01,\n",
              "        -3.7020e-02, -1.0265e-01,  2.0080e-01,  2.6515e-01, -4.3906e-01,\n",
              "         5.5784e-02,  3.9368e-02, -4.9448e+00,  1.7991e-01, -4.1086e-01,\n",
              "        -7.3805e-01, -5.0763e-01, -5.6236e-02,  6.5506e-01,  3.9351e-01,\n",
              "         3.2724e-01, -4.8221e-01,  6.0827e-02,  5.2288e-01,  9.4437e-02,\n",
              "         2.4360e-01, -2.1763e-01,  1.5166e-01,  2.4997e-01, -4.1357e-02,\n",
              "        -6.1864e-01,  1.5905e-01,  6.9240e-02,  3.9784e-01, -5.9814e-01,\n",
              "         2.3337e-01, -2.2466e-01,  1.3659e-02,  2.4710e-01,  2.9519e-01,\n",
              "        -2.2707e-01,  5.2895e-01,  2.7598e-01,  6.3040e-01, -4.5438e-01,\n",
              "        -5.7313e-01, -6.0348e-01, -2.5204e-01, -3.4638e-01, -5.5030e-02,\n",
              "         1.9542e-01, -2.1092e-03,  1.2852e+00, -4.7185e-02, -2.3576e-02,\n",
              "         4.1204e-01, -4.0940e-01, -2.4818e-01, -6.5680e-02, -1.0838e-02],\n",
              "       [ 6.1774e-01,  2.1046e-01,  5.2698e-01,  2.0467e-01,  2.5700e-01,\n",
              "        -2.1732e-01,  6.1374e-01, -1.0005e-02,  3.0721e-01, -1.0223e-01,\n",
              "         2.7075e-01, -3.6910e-01, -1.4433e+00, -1.1167e-01, -1.1774e-02,\n",
              "        -6.1509e-01, -4.7574e-02,  2.9608e-01, -5.3990e-01, -6.6852e-01,\n",
              "        -1.0916e-01, -1.7703e-01, -4.5429e-01,  1.7385e-01,  2.9253e-01,\n",
              "         1.6115e-01,  1.9399e-01,  4.4625e-01,  8.7495e-01, -9.2465e-02,\n",
              "         1.3727e-02, -1.8580e-01, -3.3876e-01, -4.5230e-01, -4.3748e-01,\n",
              "         1.0453e-02,  4.0842e-01,  1.3613e-01, -7.8784e-01,  9.9471e-02,\n",
              "         8.8163e-02,  6.6798e-01,  3.4415e-01, -3.9527e-01,  2.3724e-01,\n",
              "         1.5362e-01, -4.9449e-01, -5.6937e-02, -1.4270e-01, -6.9449e-02,\n",
              "        -3.0868e-01, -7.6233e-02,  2.0988e-01,  7.8556e-02, -5.6155e-01,\n",
              "         1.8090e-01, -5.1773e-01,  4.6357e-01,  3.0987e-01, -1.9069e-02,\n",
              "         6.7242e-01,  3.9125e-01, -1.4125e-01,  1.1573e-02,  1.2692e-01,\n",
              "         8.8414e-02, -3.0354e-01,  3.2022e-01, -7.5043e-01,  6.4759e-01,\n",
              "         4.0745e-01, -3.2315e-01,  1.3080e-01,  1.1403e-01,  2.2156e-01,\n",
              "         1.3545e-01,  3.0976e-01, -3.5066e-01,  2.6475e-01, -1.8838e-01,\n",
              "         2.0806e-01,  2.4032e-01,  4.3735e-01,  3.4629e-01,  2.1611e-01,\n",
              "         3.5571e-01, -2.3089e-02,  3.4014e-01, -9.7253e-03, -3.8114e-01,\n",
              "         7.2125e-02,  3.1611e-02,  3.7476e-01,  1.8813e-01,  6.7863e-01,\n",
              "        -3.9233e-01, -7.5472e-02, -1.3099e-01, -3.8893e-01,  1.1880e-02,\n",
              "         4.1337e-01, -1.0998e-01,  3.0033e-01, -4.6344e-02,  2.2431e-01,\n",
              "        -6.3357e-01,  4.2110e-01,  6.1615e-02, -8.7939e-02, -1.0441e-01,\n",
              "        -1.4026e-01,  6.6755e-02,  4.7358e-01,  1.6719e-01,  1.0758e-01,\n",
              "        -2.2153e-01,  4.8319e-02,  4.2274e-01,  2.3313e-01,  3.6964e-01,\n",
              "         3.3876e-01,  4.1347e-01, -1.1237e-01,  1.5725e-01,  7.3065e-01,\n",
              "        -4.9247e-03,  2.7203e-01,  3.0763e-01,  4.7040e-01,  2.6032e-01,\n",
              "        -9.5454e-02, -7.6075e-01,  5.3049e-01,  9.0797e-02, -4.7060e-01,\n",
              "        -2.9850e-01,  2.8640e-01,  5.7581e-01,  5.8647e-02, -8.2910e-01,\n",
              "         1.5576e-01,  2.2733e-02, -4.5719e-02,  7.0358e-01,  3.4692e-01,\n",
              "         6.0275e-02,  1.8755e-01,  8.3105e-01,  6.5844e-02,  2.8287e-01,\n",
              "         5.2738e-01,  2.6252e-01, -6.6675e+00,  6.4621e-01,  7.5547e-03,\n",
              "         7.8997e-01, -5.2943e-01, -2.4546e-01,  6.3916e-01,  2.5545e-01,\n",
              "        -2.9200e-02,  1.9652e-01,  4.1215e-02,  1.5697e-01, -4.1102e-01,\n",
              "        -2.4685e-01,  1.9674e-01, -1.5722e-02, -6.4124e-02, -2.6484e-01,\n",
              "        -1.3809e-01,  1.7366e-01,  2.7951e-02, -3.7426e-02, -1.8403e-01,\n",
              "        -2.9065e-01,  7.0043e-02, -3.5120e-01,  2.6538e-01, -3.2504e-02,\n",
              "         2.4060e-01,  7.9199e-01, -1.2442e-01,  3.5116e-02, -4.1300e-01,\n",
              "         8.6633e-02,  4.0075e-01,  8.7781e-03,  2.9536e-01,  2.8309e-01,\n",
              "         1.5470e-01, -1.8914e-01,  2.0568e-01, -1.8938e-01,  3.3298e-02,\n",
              "         2.2822e-02,  3.3207e-01, -1.1269e-02, -5.2165e-01,  9.3783e-02],\n",
              "       [ 1.9640e-01,  6.7153e-01,  6.2976e-03,  2.5359e-01, -4.2097e-01,\n",
              "         3.8490e-01,  1.0378e+00, -1.8536e-01, -5.4244e-02, -1.0856e-01,\n",
              "         1.2146e-01,  4.7692e-02, -9.3228e-01, -2.7192e-01, -3.5060e-01,\n",
              "         1.1069e-01, -5.5099e-02, -7.9658e-02,  1.1767e-02,  1.4395e-01,\n",
              "        -2.5917e-02, -1.8253e-01,  2.5691e-02,  1.9619e-01,  1.0334e-01,\n",
              "         1.0731e+00,  4.1992e-01,  1.7083e-01,  9.1596e-01, -4.3398e-01,\n",
              "         1.6464e-01,  1.2715e-02,  9.5477e-02,  1.4490e-01, -2.9652e-01,\n",
              "        -1.0642e-01,  9.8389e-02,  1.7937e-01,  2.3289e-01, -2.2209e-01,\n",
              "         8.7770e-02, -1.8005e-01,  3.8678e-01, -3.2059e-02,  1.2020e-01,\n",
              "        -4.1741e-01,  2.6827e-01, -1.9769e-01,  2.1976e-02, -2.3585e-01,\n",
              "         1.4789e-01,  1.0173e-01, -1.0380e-01, -3.1954e-01,  6.3308e-01,\n",
              "        -5.1142e-02, -5.3209e-02,  2.9378e-01, -5.4395e-02,  4.3346e-05,\n",
              "         2.5585e-01, -1.8048e-01, -2.7030e-01,  7.7783e-03,  6.3585e-01,\n",
              "         1.4869e-01, -1.0854e-01, -2.4726e-01, -1.0869e-01, -2.4147e-01,\n",
              "         2.8059e-01,  1.3645e-01, -3.5610e-02, -6.8258e-01,  1.1957e-01,\n",
              "         1.1085e-02, -1.3771e-02, -1.7603e-01, -5.7826e-01, -4.1571e-02,\n",
              "        -1.2342e-01,  5.8091e-01, -4.4446e-02,  1.4833e-01, -8.1576e-02,\n",
              "        -1.5804e-01, -4.3868e-01, -9.0296e-02, -2.7891e-01, -3.2887e-02,\n",
              "         1.1688e-01,  5.4837e-02,  1.0082e-01,  2.4519e-01,  1.5062e-01,\n",
              "         3.8064e-02, -2.5851e-01, -2.3446e-01,  6.4198e-02,  1.2255e-01,\n",
              "        -5.2537e-01,  3.3350e-01, -2.3323e-01, -2.5780e-01,  2.9035e-01,\n",
              "         1.3483e-01,  6.5876e-02,  3.8322e-01,  1.1237e-01, -2.3038e-03,\n",
              "        -2.8184e-01,  1.7724e-01,  5.6759e-01,  2.4386e-01, -4.0227e-02,\n",
              "        -4.5024e-02, -3.4185e-01, -4.1455e-01, -4.1110e-02,  2.2438e-01,\n",
              "        -1.1626e-01,  2.0744e-01, -1.1859e-01, -7.7585e-02,  3.3058e-01,\n",
              "        -2.8058e-01,  4.9034e-02, -1.9482e-01,  6.7283e-02,  3.0070e-02,\n",
              "         6.9742e-02, -1.3861e-01,  6.2041e-01,  3.8005e-01, -5.0533e-02,\n",
              "         9.7378e-02,  2.7874e-01, -1.7388e-01,  3.7021e-01, -6.6593e-01,\n",
              "         1.4769e-01, -6.3142e-02, -1.2092e-01,  3.7639e-01, -2.0316e-01,\n",
              "         3.6495e-01,  2.5422e-01,  1.6774e-01,  5.0256e-02,  5.4627e-02,\n",
              "         1.0653e-01, -7.0859e-02, -6.7986e+00,  4.0561e-01, -3.8071e-01,\n",
              "         3.2075e-01, -3.3545e-01, -1.5599e-02, -4.6192e-01,  2.9860e-01,\n",
              "         5.1756e-01, -1.7136e-01, -8.3454e-01, -1.4496e-01, -3.6553e-01,\n",
              "        -1.8636e-01,  1.0103e-01,  3.6616e-01,  1.3110e-01,  5.1864e-01,\n",
              "        -4.1521e-01, -1.9650e-01, -6.8740e-03, -1.4722e-02, -3.3198e-01,\n",
              "         1.3165e-01,  2.9492e-01, -1.9796e-01, -2.8374e-01, -1.4532e-01,\n",
              "         1.9547e-01,  1.1138e-01,  1.2032e-01,  2.1849e-01,  4.7585e-01,\n",
              "        -7.8959e-01,  3.0750e-01,  1.0715e-02, -2.1146e-01, -2.0619e-02,\n",
              "        -1.1518e-01,  5.5363e-01, -1.8500e-01, -1.9653e-01,  1.0566e-01,\n",
              "        -2.6214e-01,  2.0397e-01, -3.0815e-01, -1.2312e-01,  4.8926e-02]],\n",
              "      dtype=float32)"
            ]
          },
          "metadata": {},
          "execution_count": 37
        }
      ]
    },
    {
      "cell_type": "markdown",
      "metadata": {
        "id": "aDecQRKIosCG"
      },
      "source": [
        "# Training A Model"
      ]
    },
    {
      "cell_type": "code",
      "execution_count": 61,
      "metadata": {
        "id": "RuDtWHaUosCG",
        "outputId": "9df6ccf2-446c-460e-d931-7bd14afdd3b3",
        "colab": {
          "base_uri": "https://localhost:8080/"
        }
      },
      "outputs": [
        {
          "output_type": "execute_result",
          "data": {
            "text/plain": [
              "[['chapter', 'i.', 'down', 'the', 'rabbit-hole'],\n",
              " ['alice',\n",
              "  'was',\n",
              "  'beginning',\n",
              "  'to',\n",
              "  'get',\n",
              "  'very',\n",
              "  'tired',\n",
              "  'of',\n",
              "  'sitting',\n",
              "  'by',\n",
              "  'her',\n",
              "  'sister',\n",
              "  'on',\n",
              "  'the']]"
            ]
          },
          "metadata": {},
          "execution_count": 61
        }
      ],
      "source": [
        "TEXT_PATH = 'Alice_book'\n",
        "with open(TEXT_PATH, 'r', encoding='utf-8') as f:\n",
        "    sentences = f.readlines()\n",
        "sentences = [sen.strip().lower() for sen in sentences]\n",
        "sentences = [sen.split() for sen in sentences if sen]\n",
        "sentences[0:2]"
      ]
    },
    {
      "cell_type": "code",
      "source": [
        "from google.colab import drive\n",
        "drive.mount('/content/drive')"
      ],
      "metadata": {
        "id": "aqS4R2aAFxiL",
        "colab": {
          "base_uri": "https://localhost:8080/"
        },
        "outputId": "cb9251ed-2255-4931-e819-fd1b674f28df"
      },
      "execution_count": 62,
      "outputs": [
        {
          "output_type": "stream",
          "name": "stdout",
          "text": [
            "Drive already mounted at /content/drive; to attempt to forcibly remount, call drive.mount(\"/content/drive\", force_remount=True).\n"
          ]
        }
      ]
    },
    {
      "cell_type": "code",
      "execution_count": 65,
      "metadata": {
        "id": "0DUA2MososCH"
      },
      "outputs": [],
      "source": [
        "from gensim.models import Word2Vec\n",
        "\n",
        "model = Word2Vec(sentences=sentences, vector_size=100, window=5, min_count=1, workers=4, epochs=100)\n",
        "model.save(\"word2vec.model\")"
      ]
    },
    {
      "cell_type": "code",
      "execution_count": 68,
      "metadata": {
        "id": "PzS3SHuqosCH",
        "colab": {
          "base_uri": "https://localhost:8080/"
        },
        "outputId": "8fd20a1b-1d2f-4aea-d440-b304c9b64628"
      },
      "outputs": [
        {
          "output_type": "execute_result",
          "data": {
            "text/plain": [
              "[('would,’', 0.5151599645614624),\n",
              " ('sharply', 0.5133723020553589),\n",
              " ('yet,’', 0.48043113946914673),\n",
              " ('curiouser!’', 0.477140337228775),\n",
              " ('cat,', 0.47523826360702515),\n",
              " ('she', 0.47274038195610046),\n",
              " ('alice,', 0.4722289443016052),\n",
              " ('herself.', 0.4717392921447754),\n",
              " ('politely,', 0.4706284701824188),\n",
              " ('him,’', 0.4643808603286743)]"
            ]
          },
          "metadata": {},
          "execution_count": 68
        }
      ],
      "source": [
        "sims = model.wv.most_similar('alice', topn=10)\n",
        "sims"
      ]
    },
    {
      "cell_type": "markdown",
      "metadata": {
        "id": "aAuvvflqosCH"
      },
      "source": [
        "# Some Nice Properties"
      ]
    },
    {
      "cell_type": "code",
      "execution_count": 69,
      "metadata": {
        "id": "hUUNGQv28e0E",
        "colab": {
          "base_uri": "https://localhost:8080/"
        },
        "outputId": "d3ec52e2-c5d8-4896-db22-7e32d976fc4b"
      },
      "outputs": [
        {
          "output_type": "execute_result",
          "data": {
            "text/plain": [
              "[('programs', 0.6853476762771606),\n",
              " ('seminar', 0.6410127878189087),\n",
              " ('training', 0.6214897036552429),\n",
              " ('workshop', 0.5917727947235107),\n",
              " ('system', 0.5909943580627441)]"
            ]
          },
          "metadata": {},
          "execution_count": 69
        }
      ],
      "source": [
        "glove.most_similar('program', topn=5)"
      ]
    },
    {
      "cell_type": "code",
      "execution_count": 70,
      "metadata": {
        "id": "wlcfk5NdDxLD",
        "colab": {
          "base_uri": "https://localhost:8080/"
        },
        "outputId": "cafc72ed-e155-4bf6-d14f-39294358d32d"
      },
      "outputs": [
        {
          "output_type": "execute_result",
          "data": {
            "text/plain": [
              "[('queen', 0.6820898056030273),\n",
              " ('prince', 0.5875527262687683),\n",
              " ('princess', 0.5620489120483398),\n",
              " ('royal', 0.5522865056991577),\n",
              " ('mother', 0.5362966656684875)]"
            ]
          },
          "metadata": {},
          "execution_count": 70
        }
      ],
      "source": [
        "glove.most_similar(positive=['woman', 'king'], negative=['man'], topn=5)"
      ]
    },
    {
      "cell_type": "code",
      "execution_count": 71,
      "metadata": {
        "id": "yIzy_hAUosCI",
        "colab": {
          "base_uri": "https://localhost:8080/"
        },
        "outputId": "3089fede-d3a7-491d-8c7a-16d36778e890"
      },
      "outputs": [
        {
          "output_type": "execute_result",
          "data": {
            "text/plain": [
              "[('france', 0.7369073629379272),\n",
              " ('spain', 0.6768407821655273),\n",
              " ('portugal', 0.6567487716674805),\n",
              " ('italy', 0.6421886086463928),\n",
              " ('denmark', 0.6146384477615356)]"
            ]
          },
          "metadata": {},
          "execution_count": 71
        }
      ],
      "source": [
        "glove.most_similar(positive=['paris','germany'], negative=['berlin'], topn = 5)"
      ]
    },
    {
      "cell_type": "code",
      "execution_count": 46,
      "metadata": {
        "id": "2TP-_X7-osCI",
        "colab": {
          "base_uri": "https://localhost:8080/"
        },
        "outputId": "d84f9885-7c54-4e1e-d239-4586d80fdbdd"
      },
      "outputs": [
        {
          "output_type": "execute_result",
          "data": {
            "text/plain": [
              "[('walked', 0.5864155292510986),\n",
              " ('drove', 0.5215498805046082),\n",
              " ('ran', 0.5134605169296265),\n",
              " ('sprinted', 0.4759795665740967),\n",
              " ('stood', 0.47308677434921265)]"
            ]
          },
          "metadata": {},
          "execution_count": 46
        }
      ],
      "source": [
        "glove.most_similar(positive=['walking','swam'], negative=['swimming'], topn = 5)"
      ]
    },
    {
      "cell_type": "code",
      "execution_count": null,
      "metadata": {
        "id": "h-I16V9xosCI"
      },
      "outputs": [],
      "source": [
        ""
      ]
    }
  ],
  "metadata": {
    "colab": {
      "collapsed_sections": [],
      "name": "Tutorial 3 - word embeddings.ipynb",
      "provenance": []
    },
    "kernelspec": {
      "display_name": "Python 3 (ipykernel)",
      "language": "python",
      "name": "python3"
    },
    "language_info": {
      "codemirror_mode": {
        "name": "ipython",
        "version": 3
      },
      "file_extension": ".py",
      "mimetype": "text/x-python",
      "name": "python",
      "nbconvert_exporter": "python",
      "pygments_lexer": "ipython3",
      "version": "3.9.6"
    }
  },
  "nbformat": 4,
  "nbformat_minor": 0
}